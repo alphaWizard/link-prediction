{
  "nbformat": 4,
  "nbformat_minor": 0,
  "metadata": {
    "colab": {
      "name": "link_prediction_1_corrected.ipynb",
      "provenance": [],
      "collapsed_sections": []
    },
    "kernelspec": {
      "name": "python3",
      "display_name": "Python 3"
    },
    "accelerator": "GPU"
  },
  "cells": [
    {
      "cell_type": "code",
      "metadata": {
        "id": "LJz_EomwSKoF",
        "colab_type": "code",
        "colab": {}
      },
      "source": [
        "import numpy as np\n",
        "import networkx as nx\n",
        "import pandas as pd\n",
        "import random\n",
        "import functools\n",
        "from similarities import *\n",
        "from itertools import combinations \n",
        "import math"
      ],
      "execution_count": 0,
      "outputs": []
    },
    {
      "cell_type": "code",
      "metadata": {
        "id": "5Awb6aNG64_O",
        "colab_type": "code",
        "colab": {}
      },
      "source": [
        "from sklearn.svm import SVC\n",
        "from sklearn import metrics\n",
        "from sklearn.tree import DecisionTreeClassifier\n",
        "from sklearn.decomposition import PCA\n",
        "from sklearn.decomposition import TruncatedSVD"
      ],
      "execution_count": 0,
      "outputs": []
    },
    {
      "cell_type": "code",
      "metadata": {
        "id": "3hY4jA1iFMKy",
        "colab_type": "code",
        "colab": {}
      },
      "source": [
        "from sklearn.model_selection import KFold\n",
        "from sklearn.preprocessing import MinMaxScaler\n",
        "from sklearn.preprocessing import StandardScaler\n",
        "from sklearn.svm import SVR\n",
        "from sklearn.tree import DecisionTreeClassifier\n",
        "from sklearn.naive_bayes import GaussianNB\n",
        "from sklearn.ensemble import RandomForestClassifier"
      ],
      "execution_count": 0,
      "outputs": []
    },
    {
      "cell_type": "code",
      "metadata": {
        "id": "NPmeJYSUSNQF",
        "colab_type": "code",
        "colab": {}
      },
      "source": [
        "def load_restaurant_dataset():\n",
        "    path = 'dataset_ubicomp2013_checkins.txt'\n",
        "#     lines = (line.decode('utf-8') for line in path)\n",
        "    infile = open(path, 'r')\n",
        "    a = set()\n",
        "    b = set()\n",
        "    edges = []\n",
        "    for line in infile:\n",
        "        s=line.strip().split(None)\n",
        "        u=-1*int(s.pop(0)) -10\n",
        "        v=int(s.pop(0))\n",
        "        a.add(u)\n",
        "        b.add(v)\n",
        "        edges.append((u,v))\n",
        "    top_nodes = {}\n",
        "    bottom_nodes = {}\n",
        "    count = 0 \n",
        "    for x in a:\n",
        "        top_nodes[x] = count\n",
        "        count = count + 1\n",
        "    count  = 0    \n",
        "    for y in b:\n",
        "        bottom_nodes[y] = count\n",
        "        count  = count + 1\n",
        "    \n",
        "    A = np.zeros((len(a),len(b)))\n",
        "    for edge in edges:\n",
        "        e1 = top_nodes[edge[0]]\n",
        "        e2 = bottom_nodes[edge[1]]\n",
        "        A[e1, e2] = 1\n",
        "    \n",
        "    A = np.dot(A,A.T)\n",
        "#     print(A[:35,:35])\n",
        "    for i in range(0,A.shape[0]):  #making numpy matrix undirected graph type\n",
        "        for j in range(0,A.shape[1]):\n",
        "            if i == j :\n",
        "                A[i,j] = 0\n",
        "            else:\n",
        "                if A[i,j] > 0:\n",
        "                    A[i,j] = 1\n",
        "                    \n",
        "    G=nx.from_numpy_matrix(A)\n",
        "    return G"
      ],
      "execution_count": 0,
      "outputs": []
    },
    {
      "cell_type": "code",
      "metadata": {
        "id": "lkMka7nBufh2",
        "colab_type": "code",
        "colab": {}
      },
      "source": [
        "from similarities import *"
      ],
      "execution_count": 0,
      "outputs": []
    },
    {
      "cell_type": "code",
      "metadata": {
        "id": "w3r2o4I4pMyq",
        "colab_type": "code",
        "colab": {}
      },
      "source": [
        "graph = load_restaurant_dataset()\n",
        "\n",
        "nodes = list(graph.nodes)\n",
        "# print(nx.info(graph))\n",
        "non_edges = list(nx.non_edges(graph))\n",
        "edges = list(nx.edges(graph))\n",
        "# print((non_edges))\n",
        "m = len(edges)"
      ],
      "execution_count": 0,
      "outputs": []
    },
    {
      "cell_type": "code",
      "metadata": {
        "id": "gRRWgnGXpSL9",
        "colab_type": "code",
        "outputId": "3f6ce074-5be6-4659-81ad-f98a1feeca4f",
        "colab": {
          "base_uri": "https://localhost:8080/",
          "height": 34
        }
      },
      "source": [
        "nx.info(graph)"
      ],
      "execution_count": 0,
      "outputs": [
        {
          "output_type": "execute_result",
          "data": {
            "text/plain": [
              "'Name: \\nType: Graph\\nNumber of nodes: 2060\\nNumber of edges: 58810\\nAverage degree:  57.0971'"
            ]
          },
          "metadata": {
            "tags": []
          },
          "execution_count": 33
        }
      ]
    },
    {
      "cell_type": "code",
      "metadata": {
        "id": "VtKIvHympU7C",
        "colab_type": "code",
        "colab": {}
      },
      "source": [
        "def partition (list_in, n):\n",
        "    random.shuffle(list_in)\n",
        "    return [list_in[i::n] for i in range(n)]"
      ],
      "execution_count": 0,
      "outputs": []
    },
    {
      "cell_type": "code",
      "metadata": {
        "id": "Qh5B1NM7qKpF",
        "colab_type": "code",
        "colab": {}
      },
      "source": [
        "edge_folds = partition(edges,5) "
      ],
      "execution_count": 0,
      "outputs": []
    },
    {
      "cell_type": "code",
      "metadata": {
        "id": "Rhf5xvMhruEx",
        "colab_type": "code",
        "colab": {}
      },
      "source": [
        "marked_non_edges = random.sample(non_edges, m)"
      ],
      "execution_count": 0,
      "outputs": []
    },
    {
      "cell_type": "code",
      "metadata": {
        "id": "6rak7uQFr7Kl",
        "colab_type": "code",
        "colab": {}
      },
      "source": [
        "non_edge_folds = partition(marked_non_edges,5)"
      ],
      "execution_count": 0,
      "outputs": []
    },
    {
      "cell_type": "code",
      "metadata": {
        "id": "hnHj983QsELr",
        "colab_type": "code",
        "outputId": "e602e1e5-fdfd-4e17-9720-b9c58ff7fdcf",
        "colab": {
          "base_uri": "https://localhost:8080/",
          "height": 34
        }
      },
      "source": [
        "len(marked_non_edges),len(non_edge_folds),len(non_edge_folds[0])"
      ],
      "execution_count": 0,
      "outputs": [
        {
          "output_type": "execute_result",
          "data": {
            "text/plain": [
              "(58810, 5, 11762)"
            ]
          },
          "metadata": {
            "tags": []
          },
          "execution_count": 38
        }
      ]
    },
    {
      "cell_type": "code",
      "metadata": {
        "id": "ETXW7eVZqRzE",
        "colab_type": "code",
        "outputId": "66cac6fe-caca-47b5-c74b-1145f8e0d828",
        "colab": {
          "base_uri": "https://localhost:8080/",
          "height": 104
        }
      },
      "source": [
        "for x in edge_folds:  \n",
        "  print(len(x))"
      ],
      "execution_count": 0,
      "outputs": [
        {
          "output_type": "stream",
          "text": [
            "11762\n",
            "11762\n",
            "11762\n",
            "11762\n",
            "11762\n"
          ],
          "name": "stdout"
        }
      ]
    },
    {
      "cell_type": "code",
      "metadata": {
        "id": "A88McsAiCFAF",
        "colab_type": "code",
        "colab": {}
      },
      "source": [
        "all_nodes = list(graph.nodes)"
      ],
      "execution_count": 0,
      "outputs": []
    },
    {
      "cell_type": "code",
      "metadata": {
        "id": "6lz4exmAtEb9",
        "colab_type": "code",
        "colab": {}
      },
      "source": [
        "auc_scores = []\n",
        "accuracy_scores = []\n",
        "precision_scores = []\n",
        "recall_scores = []\n",
        "df_trains = []\n",
        "df_tests = []"
      ],
      "execution_count": 0,
      "outputs": []
    },
    {
      "cell_type": "code",
      "metadata": {
        "id": "uZl64Kj35PCo",
        "colab_type": "code",
        "colab": {}
      },
      "source": [
        "def prepare_X_y(g_train,train_edges,train_edges_false,katz_matrix,rp_matrix):\n",
        "  train_edges_len = len(train_edges)\n",
        "  is_edge = [ 1 ] * train_edges_len + [ 0 ] * train_edges_len\n",
        "  df_dict = {}\n",
        "  df_dict['is_edge'] = is_edge\n",
        "  nodes = list(g_train.nodes)\n",
        "  \n",
        "  cn_scores = [ CN_score(g_train,u,v) for (u,v) in train_edges ] + [ CN_score(g_train,u,v) for (u,v) in train_edges_false ]\n",
        "  df_dict['CN_score'] = cn_scores\n",
        "  print(\"Added CN scores....\")\n",
        "\n",
        "  aa_scores = [ AA_score(g_train,u,v) for (u,v) in train_edges ] + [ AA_score(g_train,u,v) for (u,v) in train_edges_false ]\n",
        "  df_dict['AA_score'] = aa_scores\n",
        "  print(\"Added AA scores....\")\n",
        "\n",
        "  pa_scores = [ PA_score(g_train,u,v) for (u,v) in train_edges ] + [ PA_score(g_train,u,v) for (u,v) in train_edges_false ]\n",
        "  df_dict['PA_score'] = pa_scores\n",
        "  print(\"Added PA scores....\")\n",
        "\n",
        "  ra_scores = [ RA_score(g_train,u,v) for (u,v) in train_edges ] + [ RA_score(g_train,u,v) for (u,v) in train_edges_false ]\n",
        "  df_dict['RA_score'] = ra_scores\n",
        "  print(\"Added RA scores....\")\n",
        "\n",
        "  jc_scores = [ JC_score(g_train,u,v) for (u,v) in train_edges ] + [ JC_score(g_train,u,v) for (u,v) in train_edges_false ]\n",
        "  df_dict['JC_score'] = jc_scores\n",
        "  print(\"Added JC scores....\")\n",
        "  \n",
        "#   @functools.lru_cache(maxsize=None)\n",
        "#   def RP_calc(u):\n",
        "#       return rooted_pagerank_score(g_train,u)\n",
        "\n",
        "  def RP_compute(u,v):\n",
        "      u = nodes.index(u)\n",
        "      v = nodes.index(v)\n",
        "      return rp_matrix[u,v] + rp_matrix[v,u]\n",
        "    \n",
        "  rp_scores = [ RP_compute(u, v) for (u,v) in train_edges ] + [ RP_compute(u,v) for (u,v) in train_edges_false ]\n",
        "  df_dict['RP_score'] = rp_scores\n",
        "  print(\"Added RP scores....\")\n",
        "  \n",
        "#   katz_matrix = katz_score(g_train)\n",
        "  \n",
        "  katz_scores = [ katz_matrix[nodes.index(u), nodes.index(v)] for (u,v) in train_edges ] + [ katz_matrix[nodes.index(u), nodes.index(v)] for (u,v) in train_edges_false ]\n",
        "  df_dict['KATZ_score'] = katz_scores\n",
        "  print(\"Added KATZ scores....\")\n",
        "  \n",
        "  friends_measures = [ friends_measure(g_train,u,v) for (u,v) in train_edges ] + [ friends_measure(g_train,u,v) for (u,v) in train_edges_false ]\n",
        "  df_dict['friends_measure'] = friends_measures\n",
        "  print(\"Added friends measure scores....\")\n",
        "  \n",
        "  df = pd.DataFrame(df_dict)\n",
        "#   print(df)\n",
        "#   df_list.append(df)\n",
        "  df_shuffled = df.sample(frac=1).reset_index(drop=True)\n",
        "  y = df_shuffled['is_edge']\n",
        "  X = df_shuffled.drop(['is_edge'],axis =1)\n",
        "  scaler = MinMaxScaler(feature_range=(0, 1))\n",
        "  # X = scaler.fit_transform(X)\n",
        "  X = pd.DataFrame(scaler.fit_transform(X.values), columns=X.columns, index=X.index)\n",
        "  \n",
        "  return X, y\n",
        "  "
      ],
      "execution_count": 0,
      "outputs": []
    },
    {
      "cell_type": "code",
      "metadata": {
        "id": "8rjHbjDSqkqv",
        "colab_type": "code",
        "outputId": "6b427189-16bd-48c6-ba4d-accffd4b279c",
        "colab": {
          "base_uri": "https://localhost:8080/",
          "height": 1000
        }
      },
      "source": [
        "for i in range(5):\n",
        "  print('preparing for iteration {}'.format(i))\n",
        "  test_edges = edge_folds[i]\n",
        "  test_edges_false = non_edge_folds[i]\n",
        "  train_edges = []\n",
        "  train_edges_false = []\n",
        "  for j in range(5):\n",
        "    if i == j:\n",
        "      continue\n",
        "    else:\n",
        "      train_edges += edge_folds[j]\n",
        "      train_edges_false += non_edge_folds[j]\n",
        "  \n",
        "  g_train = nx.Graph()\n",
        "  g_train.add_nodes_from(all_nodes)\n",
        "  g_train.add_edges_from(train_edges)\n",
        "  print(nx.info(g_train))\n",
        "  print('Preparing train dataset for this iteration')\n",
        "  katz_matrix = katz_score(g_train)\n",
        "  rp_matrix = rpr_matrix(g_train)\n",
        "  print(len(train_edges), len(train_edges_false))\n",
        "  print(len(test_edges), len(test_edges_false))\n",
        "  X_train , y_train = prepare_X_y(g_train,train_edges,train_edges_false,katz_matrix,rp_matrix)\n",
        "  df_trains.append((X_train,y_train))\n",
        "  print('Train set prepared')\n",
        "  \n",
        "  # Test dataset preparation\n",
        "  print('Preparing test dataset for this iteration')\n",
        "  X_test , y_test = prepare_X_y(g_train,test_edges,test_edges_false,katz_matrix,rp_matrix)\n",
        "  df_tests.append((X_test,y_test))\n",
        "  print('Test set prepared')\n",
        "  \n",
        "  clf = SVC(probability=True) \n",
        "  clf.fit(X_train, y_train)\n",
        "  \n",
        "  y_pred = clf.predict(X_test)\n",
        "  accuracy_score = metrics.accuracy_score(y_test, y_pred)\n",
        "  accuracy_scores.append(accuracy_score)\n",
        "  print(\"Accuracy score: {}\".format(float(accuracy_score)))\n",
        "  confusion = metrics.confusion_matrix(y_test, y_pred)\n",
        "  print(confusion)\n",
        "  TP = confusion[1, 1]\n",
        "  TN = confusion[0, 0]\n",
        "  FP = confusion[0, 1]\n",
        "  FN = confusion[1, 0]\n",
        "  precision = TP / float(TP + FP)\n",
        "\n",
        "  print(\"precision score: {}\".format(precision))\n",
        "  precision_scores.append(precision)\n",
        "#   print(metrics.precision_score(y_test, y_pred))\n",
        "\n",
        "  sensitivity = TP / float(FN + TP)  #recall\n",
        "  print(\"recall score: {}\".format(sensitivity))\n",
        "  recall_scores.append(sensitivity)\n",
        "#   print(metrics.recall_score(y_test, y_pred))\n",
        "\n",
        "  y_pred_prob = clf.predict_proba(X_test)[:, 1]\n",
        "  auc_score = metrics.roc_auc_score(y_test, y_pred_prob)\n",
        "  print(\"AUC score: {}\".format(auc_score))\n",
        "  auc_scores.append(auc_score)\n",
        "  \n",
        "  print('completed iteration {}'.format(i))\n",
        "  \n",
        "  \n",
        "  \n",
        "  \n",
        "   "
      ],
      "execution_count": 0,
      "outputs": [
        {
          "output_type": "stream",
          "text": [
            "preparing for iteration 0\n",
            "Name: \n",
            "Type: Graph\n",
            "Number of nodes: 2060\n",
            "Number of edges: 47048\n",
            "Average degree:  45.6777\n",
            "Preparing train dataset for this iteration\n",
            "47048 47048\n",
            "11762 11762\n",
            "Added CN scores....\n",
            "Added AA scores....\n",
            "Added PA scores....\n",
            "Added RA scores....\n",
            "Added JC scores....\n",
            "Added RP scores....\n",
            "Added KATZ scores....\n",
            "Added friends measure scores....\n",
            "Train set prepared\n",
            "Preparing test dataset for this iteration\n",
            "Added CN scores....\n",
            "Added AA scores....\n",
            "Added PA scores....\n",
            "Added RA scores....\n",
            "Added JC scores....\n",
            "Added RP scores....\n",
            "Added KATZ scores....\n",
            "Added friends measure scores....\n",
            "Test set prepared\n"
          ],
          "name": "stdout"
        },
        {
          "output_type": "stream",
          "text": [
            "/usr/local/lib/python3.6/dist-packages/sklearn/svm/base.py:193: FutureWarning: The default value of gamma will change from 'auto' to 'scale' in version 0.22 to account better for unscaled features. Set gamma explicitly to 'auto' or 'scale' to avoid this warning.\n",
            "  \"avoid this warning.\", FutureWarning)\n"
          ],
          "name": "stderr"
        },
        {
          "output_type": "stream",
          "text": [
            "Accuracy score: 0.5205322224111546\n",
            "[[11761     1]\n",
            " [11278   484]]\n",
            "precision score: 0.9979381443298969\n",
            "recall score: 0.041149464376806666\n",
            "AUC score: 0.9494429578350716\n",
            "completed iteration 0\n",
            "preparing for iteration 1\n",
            "Name: \n",
            "Type: Graph\n",
            "Number of nodes: 2060\n",
            "Number of edges: 47048\n",
            "Average degree:  45.6777\n",
            "Preparing train dataset for this iteration\n",
            "47048 47048\n",
            "11762 11762\n",
            "Added CN scores....\n",
            "Added AA scores....\n",
            "Added PA scores....\n",
            "Added RA scores....\n",
            "Added JC scores....\n",
            "Added RP scores....\n",
            "Added KATZ scores....\n",
            "Added friends measure scores....\n",
            "Train set prepared\n",
            "Preparing test dataset for this iteration\n",
            "Added CN scores....\n",
            "Added AA scores....\n",
            "Added PA scores....\n",
            "Added RA scores....\n",
            "Added JC scores....\n",
            "Added RP scores....\n",
            "Added KATZ scores....\n",
            "Added friends measure scores....\n",
            "Test set prepared\n"
          ],
          "name": "stdout"
        },
        {
          "output_type": "stream",
          "text": [
            "/usr/local/lib/python3.6/dist-packages/sklearn/svm/base.py:193: FutureWarning: The default value of gamma will change from 'auto' to 'scale' in version 0.22 to account better for unscaled features. Set gamma explicitly to 'auto' or 'scale' to avoid this warning.\n",
            "  \"avoid this warning.\", FutureWarning)\n"
          ],
          "name": "stderr"
        },
        {
          "output_type": "stream",
          "text": [
            "Accuracy score: 0.5286515898656691\n",
            "[[11762     0]\n",
            " [11088   674]]\n",
            "precision score: 1.0\n",
            "recall score: 0.05730317973133821\n",
            "AUC score: 0.9513604516557939\n",
            "completed iteration 1\n",
            "preparing for iteration 2\n",
            "Name: \n",
            "Type: Graph\n",
            "Number of nodes: 2060\n",
            "Number of edges: 47048\n",
            "Average degree:  45.6777\n",
            "Preparing train dataset for this iteration\n",
            "47048 47048\n",
            "11762 11762\n",
            "Added CN scores....\n",
            "Added AA scores....\n",
            "Added PA scores....\n",
            "Added RA scores....\n",
            "Added JC scores....\n",
            "Added RP scores....\n",
            "Added KATZ scores....\n",
            "Added friends measure scores....\n",
            "Train set prepared\n",
            "Preparing test dataset for this iteration\n",
            "Added CN scores....\n",
            "Added AA scores....\n",
            "Added PA scores....\n",
            "Added RA scores....\n",
            "Added JC scores....\n",
            "Added RP scores....\n",
            "Added KATZ scores....\n",
            "Added friends measure scores....\n",
            "Test set prepared\n"
          ],
          "name": "stdout"
        },
        {
          "output_type": "stream",
          "text": [
            "/usr/local/lib/python3.6/dist-packages/sklearn/svm/base.py:193: FutureWarning: The default value of gamma will change from 'auto' to 'scale' in version 0.22 to account better for unscaled features. Set gamma explicitly to 'auto' or 'scale' to avoid this warning.\n",
            "  \"avoid this warning.\", FutureWarning)\n"
          ],
          "name": "stderr"
        },
        {
          "output_type": "stream",
          "text": [
            "Accuracy score: 0.5086294847814997\n",
            "[[11762     0]\n",
            " [11559   203]]\n",
            "precision score: 1.0\n",
            "recall score: 0.01725896956299949\n",
            "AUC score: 0.9478922978760203\n",
            "completed iteration 2\n",
            "preparing for iteration 3\n",
            "Name: \n",
            "Type: Graph\n",
            "Number of nodes: 2060\n",
            "Number of edges: 47048\n",
            "Average degree:  45.6777\n",
            "Preparing train dataset for this iteration\n",
            "47048 47048\n",
            "11762 11762\n",
            "Added CN scores....\n",
            "Added AA scores....\n",
            "Added PA scores....\n",
            "Added RA scores....\n",
            "Added JC scores....\n",
            "Added RP scores....\n",
            "Added KATZ scores....\n",
            "Added friends measure scores....\n",
            "Train set prepared\n",
            "Preparing test dataset for this iteration\n",
            "Added CN scores....\n",
            "Added AA scores....\n",
            "Added PA scores....\n",
            "Added RA scores....\n",
            "Added JC scores....\n",
            "Added RP scores....\n",
            "Added KATZ scores....\n",
            "Added friends measure scores....\n",
            "Test set prepared\n"
          ],
          "name": "stdout"
        },
        {
          "output_type": "stream",
          "text": [
            "/usr/local/lib/python3.6/dist-packages/sklearn/svm/base.py:193: FutureWarning: The default value of gamma will change from 'auto' to 'scale' in version 0.22 to account better for unscaled features. Set gamma explicitly to 'auto' or 'scale' to avoid this warning.\n",
            "  \"avoid this warning.\", FutureWarning)\n"
          ],
          "name": "stderr"
        },
        {
          "output_type": "stream",
          "text": [
            "Accuracy score: 0.5150059513688148\n",
            "[[11762     0]\n",
            " [11409   353]]\n",
            "precision score: 1.0\n",
            "recall score: 0.030011902737629655\n",
            "AUC score: 0.9548217493696396\n",
            "completed iteration 3\n",
            "preparing for iteration 4\n",
            "Name: \n",
            "Type: Graph\n",
            "Number of nodes: 2060\n",
            "Number of edges: 47048\n",
            "Average degree:  45.6777\n",
            "Preparing train dataset for this iteration\n",
            "47048 47048\n",
            "11762 11762\n",
            "Added CN scores....\n",
            "Added AA scores....\n",
            "Added PA scores....\n",
            "Added RA scores....\n",
            "Added JC scores....\n",
            "Added RP scores....\n",
            "Added KATZ scores....\n",
            "Added friends measure scores....\n",
            "Train set prepared\n",
            "Preparing test dataset for this iteration\n",
            "Added CN scores....\n",
            "Added AA scores....\n",
            "Added PA scores....\n",
            "Added RA scores....\n",
            "Added JC scores....\n",
            "Added RP scores....\n",
            "Added KATZ scores....\n",
            "Added friends measure scores....\n",
            "Test set prepared\n"
          ],
          "name": "stdout"
        },
        {
          "output_type": "stream",
          "text": [
            "/usr/local/lib/python3.6/dist-packages/sklearn/svm/base.py:193: FutureWarning: The default value of gamma will change from 'auto' to 'scale' in version 0.22 to account better for unscaled features. Set gamma explicitly to 'auto' or 'scale' to avoid this warning.\n",
            "  \"avoid this warning.\", FutureWarning)\n"
          ],
          "name": "stderr"
        },
        {
          "output_type": "stream",
          "text": [
            "Accuracy score: 0.5325624893725557\n",
            "[[11761     1]\n",
            " [10995   767]]\n",
            "precision score: 0.9986979166666666\n",
            "recall score: 0.06520999829960891\n",
            "AUC score: 0.953850862488034\n",
            "completed iteration 4\n"
          ],
          "name": "stdout"
        }
      ]
    },
    {
      "cell_type": "code",
      "metadata": {
        "id": "_ZMBQketZm3h",
        "colab_type": "code",
        "outputId": "51dbb160-4ce6-476a-9d27-3b5ecde88b18",
        "colab": {
          "base_uri": "https://localhost:8080/",
          "height": 69
        }
      },
      "source": [
        "avg_precision = sum(precision_scores) / 5\n",
        "avg_recall = sum(recall_scores) / 5\n",
        "avg_scores = sum(auc_scores) / 5\n",
        "\n",
        "print('avg. presicion: {}'.format(avg_precision))\n",
        "print('avg. recall: {}'.format(avg_recall))\n",
        "print('avg. auc: {}'.format(avg_scores))"
      ],
      "execution_count": 0,
      "outputs": [
        {
          "output_type": "stream",
          "text": [
            "avg. presicion: 0.9993272121993128\n",
            "avg. recall: 0.04218670294167658\n",
            "avg. auc: 0.9514736638449118\n"
          ],
          "name": "stdout"
        }
      ]
    },
    {
      "cell_type": "markdown",
      "metadata": {
        "id": "72CubaRt5n4F",
        "colab_type": "text"
      },
      "source": [
        "using decision tree classifier"
      ]
    },
    {
      "cell_type": "code",
      "metadata": {
        "id": "MrSttJOz5hpt",
        "colab_type": "code",
        "outputId": "827b0515-9d63-40c7-a4d6-bd922d3bdcd5",
        "colab": {
          "base_uri": "https://localhost:8080/",
          "height": 1000
        }
      },
      "source": [
        "print(\"DECISION TREE CLASSIFIER\")\n",
        "for i in range(5):\n",
        "  print('preparing for iteration {}'.format(i))\n",
        "  test_edges = edge_folds[i]\n",
        "  test_edges_false = non_edge_folds[i]\n",
        "  train_edges = []\n",
        "  train_edges_false = []\n",
        "  for j in range(5):\n",
        "    if i == j:\n",
        "      continue\n",
        "    else:\n",
        "      train_edges += edge_folds[j]\n",
        "      train_edges_false += non_edge_folds[j]\n",
        "  \n",
        "  g_train = nx.Graph()\n",
        "  g_train.add_nodes_from(all_nodes)\n",
        "  g_train.add_edges_from(train_edges)\n",
        "  print(nx.info(g_train))\n",
        "  print('Preparing train dataset for this iteration')\n",
        "  katz_matrix = katz_score(g_train)\n",
        "  rp_matrix = rpr_matrix(g_train)\n",
        "  print(len(train_edges), len(train_edges_false))\n",
        "  print(len(test_edges), len(test_edges_false))\n",
        "  X_train , y_train = prepare_X_y(g_train,train_edges,train_edges_false,katz_matrix,rp_matrix)\n",
        "  df_trains.append((X_train,y_train))\n",
        "  print('Train set prepared')\n",
        "  \n",
        "  # Test dataset preparation\n",
        "  print('Preparing test dataset for this iteration')\n",
        "  X_test , y_test = prepare_X_y(g_train,test_edges,test_edges_false,katz_matrix,rp_matrix)\n",
        "  df_tests.append((X_test,y_test))\n",
        "  print('Test set prepared')\n",
        "  \n",
        "  clf = DecisionTreeClassifier()\n",
        "  clf.fit(X_train, y_train)\n",
        "  \n",
        "  y_pred = clf.predict(X_test)\n",
        "  accuracy_score = metrics.accuracy_score(y_test, y_pred)\n",
        "  accuracy_scores.append(accuracy_score)\n",
        "  print(\"Accuracy score: {}\".format(float(accuracy_score)))\n",
        "  confusion = metrics.confusion_matrix(y_test, y_pred)\n",
        "  print(confusion)\n",
        "  TP = confusion[1, 1]\n",
        "  TN = confusion[0, 0]\n",
        "  FP = confusion[0, 1]\n",
        "  FN = confusion[1, 0]\n",
        "  precision = TP / float(TP + FP)\n",
        "\n",
        "  print(\"precision score: {}\".format(precision))\n",
        "  precision_scores.append(precision)\n",
        "#   print(metrics.precision_score(y_test, y_pred))\n",
        "\n",
        "  sensitivity = TP / float(FN + TP)  #recall\n",
        "  print(\"recall score: {}\".format(sensitivity))\n",
        "  recall_scores.append(sensitivity)\n",
        "#   print(metrics.recall_score(y_test, y_pred))\n",
        "\n",
        "  y_pred_prob = clf.predict_proba(X_test)[:, 1]\n",
        "  auc_score = metrics.roc_auc_score(y_test, y_pred_prob)\n",
        "  print(\"AUC score: {}\".format(auc_score))\n",
        "  auc_scores.append(auc_score)\n",
        "  \n",
        "  print('completed iteration {}'.format(i))\n",
        "  "
      ],
      "execution_count": 0,
      "outputs": [
        {
          "output_type": "stream",
          "text": [
            "DECISION TREE CLASSIFIER\n",
            "preparing for iteration 0\n",
            "Name: \n",
            "Type: Graph\n",
            "Number of nodes: 2060\n",
            "Number of edges: 47048\n",
            "Average degree:  45.6777\n",
            "Preparing train dataset for this iteration\n",
            "47048 47048\n",
            "11762 11762\n",
            "Added CN scores....\n",
            "Added AA scores....\n",
            "Added PA scores....\n",
            "Added RA scores....\n",
            "Added JC scores....\n",
            "Added RP scores....\n",
            "Added KATZ scores....\n",
            "Added friends measure scores....\n",
            "Train set prepared\n",
            "Preparing test dataset for this iteration\n",
            "Added CN scores....\n",
            "Added AA scores....\n",
            "Added PA scores....\n",
            "Added RA scores....\n",
            "Added JC scores....\n",
            "Added RP scores....\n",
            "Added KATZ scores....\n",
            "Added friends measure scores....\n",
            "Test set prepared\n",
            "Accuracy score: 0.5425947968032647\n",
            "[[11760     2]\n",
            " [10758  1004]]\n",
            "precision score: 0.9980119284294234\n",
            "recall score: 0.08535963271552457\n",
            "AUC score: 0.5425947968032648\n",
            "completed iteration 0\n",
            "preparing for iteration 1\n",
            "Name: \n",
            "Type: Graph\n",
            "Number of nodes: 2060\n",
            "Number of edges: 47048\n",
            "Average degree:  45.6777\n",
            "Preparing train dataset for this iteration\n",
            "47048 47048\n",
            "11762 11762\n",
            "Added CN scores....\n",
            "Added AA scores....\n",
            "Added PA scores....\n",
            "Added RA scores....\n",
            "Added JC scores....\n",
            "Added RP scores....\n",
            "Added KATZ scores....\n",
            "Added friends measure scores....\n",
            "Train set prepared\n",
            "Preparing test dataset for this iteration\n",
            "Added CN scores....\n",
            "Added AA scores....\n",
            "Added PA scores....\n",
            "Added RA scores....\n",
            "Added JC scores....\n",
            "Added RP scores....\n",
            "Added KATZ scores....\n",
            "Added friends measure scores....\n",
            "Test set prepared\n",
            "Accuracy score: 0.5445077367794593\n",
            "[[11762     0]\n",
            " [10715  1047]]\n",
            "precision score: 1.0\n",
            "recall score: 0.08901547355891855\n",
            "AUC score: 0.5445077367794593\n",
            "completed iteration 1\n",
            "preparing for iteration 2\n",
            "Name: \n",
            "Type: Graph\n",
            "Number of nodes: 2060\n",
            "Number of edges: 47048\n",
            "Average degree:  45.6777\n",
            "Preparing train dataset for this iteration\n",
            "47048 47048\n",
            "11762 11762\n",
            "Added CN scores....\n",
            "Added AA scores....\n",
            "Added PA scores....\n",
            "Added RA scores....\n",
            "Added JC scores....\n",
            "Added RP scores....\n",
            "Added KATZ scores....\n",
            "Added friends measure scores....\n",
            "Train set prepared\n",
            "Preparing test dataset for this iteration\n",
            "Added CN scores....\n",
            "Added AA scores....\n",
            "Added PA scores....\n",
            "Added RA scores....\n",
            "Added JC scores....\n",
            "Added RP scores....\n",
            "Added KATZ scores....\n",
            "Added friends measure scores....\n",
            "Test set prepared\n",
            "Accuracy score: 0.5218075157286176\n",
            "[[11762     0]\n",
            " [11249   513]]\n",
            "precision score: 1.0\n",
            "recall score: 0.043615031457235165\n",
            "AUC score: 0.5218075157286176\n",
            "completed iteration 2\n",
            "preparing for iteration 3\n",
            "Name: \n",
            "Type: Graph\n",
            "Number of nodes: 2060\n",
            "Number of edges: 47048\n",
            "Average degree:  45.6777\n",
            "Preparing train dataset for this iteration\n",
            "47048 47048\n",
            "11762 11762\n",
            "Added CN scores....\n",
            "Added AA scores....\n",
            "Added PA scores....\n",
            "Added RA scores....\n",
            "Added JC scores....\n",
            "Added RP scores....\n",
            "Added KATZ scores....\n",
            "Added friends measure scores....\n",
            "Train set prepared\n",
            "Preparing test dataset for this iteration\n",
            "Added CN scores....\n",
            "Added AA scores....\n",
            "Added PA scores....\n",
            "Added RA scores....\n",
            "Added JC scores....\n",
            "Added RP scores....\n",
            "Added KATZ scores....\n",
            "Added friends measure scores....\n",
            "Test set prepared\n",
            "Accuracy score: 0.535963271552457\n",
            "[[11761     1]\n",
            " [10915   847]]\n",
            "precision score: 0.9988207547169812\n",
            "recall score: 0.07201156265941167\n",
            "AUC score: 0.535963271552457\n",
            "completed iteration 3\n",
            "preparing for iteration 4\n",
            "Name: \n",
            "Type: Graph\n",
            "Number of nodes: 2060\n",
            "Number of edges: 47048\n",
            "Average degree:  45.6777\n",
            "Preparing train dataset for this iteration\n",
            "47048 47048\n",
            "11762 11762\n",
            "Added CN scores....\n",
            "Added AA scores....\n",
            "Added PA scores....\n",
            "Added RA scores....\n",
            "Added JC scores....\n",
            "Added RP scores....\n",
            "Added KATZ scores....\n",
            "Added friends measure scores....\n",
            "Train set prepared\n",
            "Preparing test dataset for this iteration\n",
            "Added CN scores....\n",
            "Added AA scores....\n",
            "Added PA scores....\n",
            "Added RA scores....\n",
            "Added JC scores....\n",
            "Added RP scores....\n",
            "Added KATZ scores....\n",
            "Added friends measure scores....\n",
            "Test set prepared\n",
            "Accuracy score: 0.5480785580683557\n",
            "[[11759     3]\n",
            " [10628  1134]]\n",
            "precision score: 0.9973614775725593\n",
            "recall score: 0.09641217480020405\n",
            "AUC score: 0.5480785580683557\n",
            "completed iteration 4\n"
          ],
          "name": "stdout"
        }
      ]
    },
    {
      "cell_type": "code",
      "metadata": {
        "id": "bIu-Cy3sCbWd",
        "colab_type": "code",
        "outputId": "6308ce6b-bebd-44be-e4e6-c2041649bc2a",
        "colab": {
          "base_uri": "https://localhost:8080/",
          "height": 69
        }
      },
      "source": [
        "avg_precision = sum(precision_scores) / 5\n",
        "avg_recall = sum(recall_scores) / 5\n",
        "avg_scores = sum(auc_scores) / 5\n",
        "\n",
        "print('avg. presicion: {}'.format(avg_precision))\n",
        "print('avg. recall: {}'.format(avg_recall))\n",
        "print('avg. auc: {}'.format(avg_scores))"
      ],
      "execution_count": 0,
      "outputs": [
        {
          "output_type": "stream",
          "text": [
            "avg. presicion: 0.9988388321437928\n",
            "avg. recall: 0.0772827750382588\n",
            "avg. auc: 0.5385903757864309\n"
          ],
          "name": "stdout"
        }
      ]
    },
    {
      "cell_type": "markdown",
      "metadata": {
        "id": "RyyG-PpUjbqO",
        "colab_type": "text"
      },
      "source": [
        "NAIVE BAYES"
      ]
    },
    {
      "cell_type": "code",
      "metadata": {
        "id": "q7l9r-zjja6r",
        "colab_type": "code",
        "outputId": "e03994b6-2ecf-4fa5-d2ab-6c094a34a659",
        "colab": {
          "base_uri": "https://localhost:8080/",
          "height": 1000
        }
      },
      "source": [
        "print(\"NAIVE BAYES CLASSIFIER\")\n",
        "for i in range(5):\n",
        "  print('preparing for iteration {}'.format(i))\n",
        "  test_edges = edge_folds[i]\n",
        "  test_edges_false = non_edge_folds[i]\n",
        "  train_edges = []\n",
        "  train_edges_false = []\n",
        "  for j in range(5):\n",
        "    if i == j:\n",
        "      continue\n",
        "    else:\n",
        "      train_edges += edge_folds[j]\n",
        "      train_edges_false += non_edge_folds[j]\n",
        "  \n",
        "  g_train = nx.Graph()\n",
        "  g_train.add_nodes_from(all_nodes)\n",
        "  g_train.add_edges_from(train_edges)\n",
        "  print(nx.info(g_train))\n",
        "  print('Preparing train dataset for this iteration')\n",
        "  katz_matrix = katz_score(g_train)\n",
        "  rp_matrix = rpr_matrix(g_train)\n",
        "  print(len(train_edges), len(train_edges_false))\n",
        "  print(len(test_edges), len(test_edges_false))\n",
        "  X_train , y_train = prepare_X_y(g_train,train_edges,train_edges_false,katz_matrix,rp_matrix)\n",
        "  df_trains.append((X_train,y_train))\n",
        "  print('Train set prepared')\n",
        "  \n",
        "  # Test dataset preparation\n",
        "  print('Preparing test dataset for this iteration')\n",
        "  X_test , y_test = prepare_X_y(g_train,test_edges,test_edges_false,katz_matrix,rp_matrix)\n",
        "  df_tests.append((X_test,y_test))\n",
        "  print('Test set prepared')\n",
        "  \n",
        "  clf = GaussianNB()\n",
        "  clf.fit(X_train, y_train)\n",
        "  \n",
        "  y_pred = clf.predict(X_test)\n",
        "  accuracy_score = metrics.accuracy_score(y_test, y_pred)\n",
        "  accuracy_scores.append(accuracy_score)\n",
        "  print(\"Accuracy score: {}\".format(float(accuracy_score)))\n",
        "  confusion = metrics.confusion_matrix(y_test, y_pred)\n",
        "  print(confusion)\n",
        "  TP = confusion[1, 1]\n",
        "  TN = confusion[0, 0]\n",
        "  FP = confusion[0, 1]\n",
        "  FN = confusion[1, 0]\n",
        "  precision = TP / float(TP + FP)\n",
        "\n",
        "  print(\"precision score: {}\".format(precision))\n",
        "  precision_scores.append(precision)\n",
        "#   print(metrics.precision_score(y_test, y_pred))\n",
        "\n",
        "  sensitivity = TP / float(FN + TP)  #recall\n",
        "  print(\"recall score: {}\".format(sensitivity))\n",
        "  recall_scores.append(sensitivity)\n",
        "#   print(metrics.recall_score(y_test, y_pred))\n",
        "\n",
        "  y_pred_prob = clf.predict_proba(X_test)[:, 1]\n",
        "  auc_score = metrics.roc_auc_score(y_test, y_pred_prob)\n",
        "  print(\"AUC score: {}\".format(auc_score))\n",
        "  auc_scores.append(auc_score)\n",
        "  \n",
        "  print('completed iteration {}'.format(i))\n",
        "  "
      ],
      "execution_count": 0,
      "outputs": [
        {
          "output_type": "stream",
          "text": [
            "NAIVE BAYES CLASSIFIER\n",
            "preparing for iteration 0\n",
            "Name: \n",
            "Type: Graph\n",
            "Number of nodes: 2060\n",
            "Number of edges: 47048\n",
            "Average degree:  45.6777\n",
            "Preparing train dataset for this iteration\n",
            "47048 47048\n",
            "11762 11762\n",
            "Added CN scores....\n",
            "Added AA scores....\n",
            "Added PA scores....\n",
            "Added RA scores....\n",
            "Added JC scores....\n",
            "Added RP scores....\n",
            "Added KATZ scores....\n",
            "Added friends measure scores....\n",
            "Train set prepared\n",
            "Preparing test dataset for this iteration\n",
            "Added CN scores....\n",
            "Added AA scores....\n",
            "Added PA scores....\n",
            "Added RA scores....\n",
            "Added JC scores....\n",
            "Added RP scores....\n",
            "Added KATZ scores....\n",
            "Added friends measure scores....\n",
            "Test set prepared\n",
            "Accuracy score: 0.7774188063254549\n",
            "[[ 6610  5152]\n",
            " [   84 11678]]\n",
            "precision score: 0.6938799762329174\n",
            "recall score: 0.9928583574222071\n",
            "AUC score: 0.7866535620995924\n",
            "completed iteration 0\n",
            "preparing for iteration 1\n",
            "Name: \n",
            "Type: Graph\n",
            "Number of nodes: 2060\n",
            "Number of edges: 47048\n",
            "Average degree:  45.6777\n",
            "Preparing train dataset for this iteration\n",
            "47048 47048\n",
            "11762 11762\n",
            "Added CN scores....\n",
            "Added AA scores....\n",
            "Added PA scores....\n",
            "Added RA scores....\n",
            "Added JC scores....\n",
            "Added RP scores....\n",
            "Added KATZ scores....\n",
            "Added friends measure scores....\n",
            "Train set prepared\n",
            "Preparing test dataset for this iteration\n",
            "Added CN scores....\n",
            "Added AA scores....\n",
            "Added PA scores....\n",
            "Added RA scores....\n",
            "Added JC scores....\n",
            "Added RP scores....\n",
            "Added KATZ scores....\n",
            "Added friends measure scores....\n",
            "Test set prepared\n",
            "Accuracy score: 0.8315762625403843\n",
            "[[ 7965  3797]\n",
            " [  165 11597]]\n",
            "precision score: 0.7533454592698454\n",
            "recall score: 0.9859717735079068\n",
            "AUC score: 0.8503403536171592\n",
            "completed iteration 1\n",
            "preparing for iteration 2\n",
            "Name: \n",
            "Type: Graph\n",
            "Number of nodes: 2060\n",
            "Number of edges: 47048\n",
            "Average degree:  45.6777\n",
            "Preparing train dataset for this iteration\n",
            "47048 47048\n",
            "11762 11762\n",
            "Added CN scores....\n",
            "Added AA scores....\n",
            "Added PA scores....\n",
            "Added RA scores....\n",
            "Added JC scores....\n",
            "Added RP scores....\n",
            "Added KATZ scores....\n",
            "Added friends measure scores....\n",
            "Train set prepared\n",
            "Preparing test dataset for this iteration\n",
            "Added CN scores....\n",
            "Added AA scores....\n",
            "Added PA scores....\n",
            "Added RA scores....\n",
            "Added JC scores....\n",
            "Added RP scores....\n",
            "Added KATZ scores....\n",
            "Added friends measure scores....\n",
            "Test set prepared\n",
            "Accuracy score: 0.8597177350790682\n",
            "[[ 8646  3116]\n",
            " [  184 11578]]\n",
            "precision score: 0.7879406560500885\n",
            "recall score: 0.9843564019724537\n",
            "AUC score: 0.8810702277711595\n",
            "completed iteration 2\n",
            "preparing for iteration 3\n",
            "Name: \n",
            "Type: Graph\n",
            "Number of nodes: 2060\n",
            "Number of edges: 47048\n",
            "Average degree:  45.6777\n",
            "Preparing train dataset for this iteration\n",
            "47048 47048\n",
            "11762 11762\n",
            "Added CN scores....\n",
            "Added AA scores....\n",
            "Added PA scores....\n",
            "Added RA scores....\n",
            "Added JC scores....\n",
            "Added RP scores....\n",
            "Added KATZ scores....\n",
            "Added friends measure scores....\n",
            "Train set prepared\n",
            "Preparing test dataset for this iteration\n",
            "Added CN scores....\n",
            "Added AA scores....\n",
            "Added PA scores....\n",
            "Added RA scores....\n",
            "Added JC scores....\n",
            "Added RP scores....\n",
            "Added KATZ scores....\n",
            "Added friends measure scores....\n",
            "Test set prepared\n",
            "Accuracy score: 0.7928923652440061\n",
            "[[ 7008  4754]\n",
            " [  118 11644]]\n",
            "precision score: 0.7100865959263325\n",
            "recall score: 0.989967692569291\n",
            "AUC score: 0.8063909181767817\n",
            "completed iteration 3\n",
            "preparing for iteration 4\n",
            "Name: \n",
            "Type: Graph\n",
            "Number of nodes: 2060\n",
            "Number of edges: 47048\n",
            "Average degree:  45.6777\n",
            "Preparing train dataset for this iteration\n",
            "47048 47048\n",
            "11762 11762\n",
            "Added CN scores....\n",
            "Added AA scores....\n",
            "Added PA scores....\n",
            "Added RA scores....\n",
            "Added JC scores....\n",
            "Added RP scores....\n",
            "Added KATZ scores....\n",
            "Added friends measure scores....\n",
            "Train set prepared\n",
            "Preparing test dataset for this iteration\n",
            "Added CN scores....\n",
            "Added AA scores....\n",
            "Added PA scores....\n",
            "Added RA scores....\n",
            "Added JC scores....\n",
            "Added RP scores....\n",
            "Added KATZ scores....\n",
            "Added friends measure scores....\n",
            "Test set prepared\n",
            "Accuracy score: 0.7783540214249277\n",
            "[[ 6624  5138]\n",
            " [   76 11686]]\n",
            "precision score: 0.694602948169282\n",
            "recall score: 0.9935385138581874\n",
            "AUC score: 0.7869574444819128\n",
            "completed iteration 4\n"
          ],
          "name": "stdout"
        }
      ]
    },
    {
      "cell_type": "code",
      "metadata": {
        "id": "HMFF3jfVjegY",
        "colab_type": "code",
        "outputId": "7a73e3b1-aeeb-4bd2-9d97-f68c010cdb26",
        "colab": {
          "base_uri": "https://localhost:8080/",
          "height": 69
        }
      },
      "source": [
        "avg_precision = sum(precision_scores) / 5\n",
        "avg_recall = sum(recall_scores) / 5\n",
        "avg_scores = sum(auc_scores) / 5\n",
        "\n",
        "print('avg. presicion: {}'.format(avg_precision))\n",
        "print('avg. recall: {}'.format(avg_recall))\n",
        "print('avg. auc: {}'.format(avg_scores))"
      ],
      "execution_count": 0,
      "outputs": [
        {
          "output_type": "stream",
          "text": [
            "avg. presicion: 0.7279711271296931\n",
            "avg. recall: 0.9893385478660092\n",
            "avg. auc: 0.8222825012293212\n"
          ],
          "name": "stdout"
        }
      ]
    },
    {
      "cell_type": "markdown",
      "metadata": {
        "id": "i2cN5lybie01",
        "colab_type": "text"
      },
      "source": [
        "PCA ON FEATURE MATRIX"
      ]
    },
    {
      "cell_type": "code",
      "metadata": {
        "id": "_NHujsjCiyIO",
        "colab_type": "code",
        "colab": {}
      },
      "source": [
        "def prepare_X_y_PCA(g_train,train_edges,train_edges_false,katz_matrix,rp_matrix):\n",
        "  train_edges_len = len(train_edges)\n",
        "  is_edge = [ 1 ] * train_edges_len + [ 0 ] * train_edges_len\n",
        "  df_dict = {}\n",
        "  df_dict['is_edge'] = is_edge\n",
        "  nodes = list(g_train.nodes)\n",
        "  \n",
        "  cn_scores = [ CN_score(g_train,u,v) for (u,v) in train_edges ] + [ CN_score(g_train,u,v) for (u,v) in train_edges_false ]\n",
        "  df_dict['CN_score'] = cn_scores\n",
        "  print(\"Added CN scores....\")\n",
        "\n",
        "  aa_scores = [ AA_score(g_train,u,v) for (u,v) in train_edges ] + [ AA_score(g_train,u,v) for (u,v) in train_edges_false ]\n",
        "  df_dict['AA_score'] = aa_scores\n",
        "  print(\"Added AA scores....\")\n",
        "\n",
        "  pa_scores = [ PA_score(g_train,u,v) for (u,v) in train_edges ] + [ PA_score(g_train,u,v) for (u,v) in train_edges_false ]\n",
        "  df_dict['PA_score'] = pa_scores\n",
        "  print(\"Added PA scores....\")\n",
        "\n",
        "  ra_scores = [ RA_score(g_train,u,v) for (u,v) in train_edges ] + [ RA_score(g_train,u,v) for (u,v) in train_edges_false ]\n",
        "  df_dict['RA_score'] = ra_scores\n",
        "  print(\"Added RA scores....\")\n",
        "\n",
        "  jc_scores = [ JC_score(g_train,u,v) for (u,v) in train_edges ] + [ JC_score(g_train,u,v) for (u,v) in train_edges_false ]\n",
        "  df_dict['JC_score'] = jc_scores\n",
        "  print(\"Added JC scores....\")\n",
        "  \n",
        "#   @functools.lru_cache(maxsize=None)\n",
        "#   def RP_calc(u):\n",
        "#       return rooted_pagerank_score(g_train,u)\n",
        "\n",
        "  def RP_compute(u,v):\n",
        "      u = nodes.index(u)\n",
        "      v = nodes.index(v)\n",
        "      return rp_matrix[u,v] + rp_matrix[v,u]\n",
        "    \n",
        "  rp_scores = [ RP_compute(u, v) for (u,v) in train_edges ] + [ RP_compute(u,v) for (u,v) in train_edges_false ]\n",
        "  df_dict['RP_score'] = rp_scores\n",
        "  print(\"Added RP scores....\")\n",
        "  \n",
        "#   katz_matrix = katz_score(g_train)\n",
        "  \n",
        "  katz_scores = [ katz_matrix[nodes.index(u), nodes.index(v)] for (u,v) in train_edges ] + [ katz_matrix[nodes.index(u), nodes.index(v)] for (u,v) in train_edges_false ]\n",
        "  df_dict['KATZ_score'] = katz_scores\n",
        "  print(\"Added KATZ scores....\")\n",
        "  \n",
        "  friends_measures = [ friends_measure(g_train,u,v) for (u,v) in train_edges ] + [ friends_measure(g_train,u,v) for (u,v) in train_edges_false ]\n",
        "  df_dict['friends_measure'] = friends_measures\n",
        "  print(\"Added friends measure scores....\")\n",
        "  \n",
        "  df = pd.DataFrame(df_dict)\n",
        "#   print(df)\n",
        "#   df_list.append(df)\n",
        "  df_shuffled = df.sample(frac=1).reset_index(drop=True)\n",
        "  y = df_shuffled['is_edge']\n",
        "  X = df_shuffled.drop(['is_edge'],axis =1)\n",
        "#   scaler = MinMaxScaler(feature_range=(0, 1))\n",
        "  scaler = StandardScaler()\n",
        "  # X = scaler.fit_transform(X)\n",
        "  X = pd.DataFrame(scaler.fit_transform(X.values), columns=X.columns, index=X.index)\n",
        "  \n",
        "  return X, y\n",
        "  "
      ],
      "execution_count": 0,
      "outputs": []
    },
    {
      "cell_type": "code",
      "metadata": {
        "id": "ASsvwJLPidZL",
        "colab_type": "code",
        "outputId": "b98bb00c-1260-4bd0-babe-7ba14cd83b74",
        "colab": {
          "base_uri": "https://localhost:8080/",
          "height": 1000
        }
      },
      "source": [
        "for i in range(5):\n",
        "  print('preparing for iteration {}'.format(i))\n",
        "  test_edges = edge_folds[i]\n",
        "  test_edges_false = non_edge_folds[i]\n",
        "  train_edges = []\n",
        "  train_edges_false = []\n",
        "  for j in range(5):\n",
        "    if i == j:\n",
        "      continue\n",
        "    else:\n",
        "      train_edges += edge_folds[j]\n",
        "      train_edges_false += non_edge_folds[j]\n",
        "  \n",
        "  g_train = nx.Graph()\n",
        "  g_train.add_nodes_from(all_nodes)\n",
        "  g_train.add_edges_from(train_edges)\n",
        "  print(nx.info(g_train))\n",
        "  print('Preparing train dataset for this iteration')\n",
        "  katz_matrix = katz_score(g_train)\n",
        "  rp_matrix = rpr_matrix(g_train)\n",
        "  print(len(train_edges), len(train_edges_false))\n",
        "  print(len(test_edges), len(test_edges_false))\n",
        "  X_train , y_train = prepare_X_y_PCA(g_train,train_edges,train_edges_false,katz_matrix,rp_matrix)\n",
        "  df_trains.append((X_train,y_train))\n",
        "  print('Train set prepared')\n",
        "  \n",
        "  # Test dataset preparation\n",
        "  print('Preparing test dataset for this iteration')\n",
        "  X_test , y_test = prepare_X_y_PCA(g_train,test_edges,test_edges_false,katz_matrix,rp_matrix)\n",
        "  df_tests.append((X_test,y_test))\n",
        "  print('Test set prepared')\n",
        "  \n",
        "  print('PCA modelling....')\n",
        "  \n",
        "  pca = PCA(.95)\n",
        "  pca.fit(X_train)\n",
        "  print(\"No. of pca components: {}\".format(pca.n_components_)) \n",
        "  X_train_pca = pca.transform(X_train)\n",
        "  X_test_pca = pca.transform(X_test)\n",
        "  print(pca.explained_variance_)\n",
        "  \n",
        "  \n",
        "  clf = SVC(probability=True) \n",
        "  clf.fit(X_train_pca, y_train)\n",
        "  \n",
        "  y_pred = clf.predict(X_test_pca)\n",
        "  accuracy_score = metrics.accuracy_score(y_test, y_pred)\n",
        "  accuracy_scores.append(accuracy_score)\n",
        "  print(\"Accuracy score: {}\".format(float(accuracy_score)))\n",
        "  confusion = metrics.confusion_matrix(y_test, y_pred)\n",
        "  print(confusion)\n",
        "  TP = confusion[1, 1]\n",
        "  TN = confusion[0, 0]\n",
        "  FP = confusion[0, 1]\n",
        "  FN = confusion[1, 0]\n",
        "  precision = TP / float(TP + FP)\n",
        "\n",
        "  print(\"precision score: {}\".format(precision))\n",
        "  precision_scores.append(precision)\n",
        "#   print(metrics.precision_score(y_test, y_pred))\n",
        "\n",
        "  sensitivity = TP / float(FN + TP)  #recall\n",
        "  print(\"recall score: {}\".format(sensitivity))\n",
        "  recall_scores.append(sensitivity)\n",
        "#   print(metrics.recall_score(y_test, y_pred))\n",
        "\n",
        "  y_pred_prob = clf.predict_proba(X_test_pca)[:, 1]\n",
        "  auc_score = metrics.roc_auc_score(y_test, y_pred_prob)\n",
        "  print(\"AUC score: {}\".format(auc_score))\n",
        "  auc_scores.append(auc_score)\n",
        "  \n",
        "  print('completed iteration {}'.format(i))\n",
        "  "
      ],
      "execution_count": 0,
      "outputs": [
        {
          "output_type": "stream",
          "text": [
            "preparing for iteration 0\n",
            "Name: \n",
            "Type: Graph\n",
            "Number of nodes: 2060\n",
            "Number of edges: 47048\n",
            "Average degree:  45.6777\n",
            "Preparing train dataset for this iteration\n",
            "47048 47048\n",
            "11762 11762\n",
            "Added CN scores....\n",
            "Added AA scores....\n",
            "Added PA scores....\n",
            "Added RA scores....\n",
            "Added JC scores....\n",
            "Added RP scores....\n",
            "Added KATZ scores....\n",
            "Added friends measure scores....\n",
            "Train set prepared\n",
            "Preparing test dataset for this iteration\n",
            "Added CN scores....\n",
            "Added AA scores....\n",
            "Added PA scores....\n",
            "Added RA scores....\n",
            "Added JC scores....\n",
            "Added RP scores....\n",
            "Added KATZ scores....\n",
            "Added friends measure scores....\n",
            "Test set prepared\n",
            "PCA modelling....\n",
            "No. of pca components: 4\n",
            "[5.67181714 1.28147421 0.58992797 0.25652598]\n"
          ],
          "name": "stdout"
        },
        {
          "output_type": "stream",
          "text": [
            "/usr/local/lib/python3.6/dist-packages/sklearn/svm/base.py:193: FutureWarning: The default value of gamma will change from 'auto' to 'scale' in version 0.22 to account better for unscaled features. Set gamma explicitly to 'auto' or 'scale' to avoid this warning.\n",
            "  \"avoid this warning.\", FutureWarning)\n"
          ],
          "name": "stderr"
        },
        {
          "output_type": "stream",
          "text": [
            "Accuracy score: 0.8815677605849346\n",
            "[[11507   255]\n",
            " [ 2531  9231]]\n",
            "precision score: 0.9731182795698925\n",
            "recall score: 0.7848155075667403\n",
            "AUC score: 0.9636529550070618\n",
            "completed iteration 0\n",
            "preparing for iteration 1\n",
            "Name: \n",
            "Type: Graph\n",
            "Number of nodes: 2060\n",
            "Number of edges: 47048\n",
            "Average degree:  45.6777\n",
            "Preparing train dataset for this iteration\n",
            "47048 47048\n",
            "11762 11762\n",
            "Added CN scores....\n",
            "Added AA scores....\n",
            "Added PA scores....\n",
            "Added RA scores....\n",
            "Added JC scores....\n",
            "Added RP scores....\n",
            "Added KATZ scores....\n",
            "Added friends measure scores....\n",
            "Train set prepared\n",
            "Preparing test dataset for this iteration\n",
            "Added CN scores....\n",
            "Added AA scores....\n",
            "Added PA scores....\n",
            "Added RA scores....\n",
            "Added JC scores....\n",
            "Added RP scores....\n",
            "Added KATZ scores....\n",
            "Added friends measure scores....\n",
            "Test set prepared\n",
            "PCA modelling....\n",
            "No. of pca components: 4\n",
            "[5.66835884 1.285396   0.58654497 0.25525236]\n"
          ],
          "name": "stdout"
        },
        {
          "output_type": "stream",
          "text": [
            "/usr/local/lib/python3.6/dist-packages/sklearn/svm/base.py:193: FutureWarning: The default value of gamma will change from 'auto' to 'scale' in version 0.22 to account better for unscaled features. Set gamma explicitly to 'auto' or 'scale' to avoid this warning.\n",
            "  \"avoid this warning.\", FutureWarning)\n"
          ],
          "name": "stderr"
        },
        {
          "output_type": "stream",
          "text": [
            "Accuracy score: 0.8819928583574222\n",
            "[[11531   231]\n",
            " [ 2545  9217]]\n",
            "precision score: 0.9755503810330228\n",
            "recall score: 0.7836252338037749\n",
            "AUC score: 0.9638957327469793\n",
            "completed iteration 1\n",
            "preparing for iteration 2\n",
            "Name: \n",
            "Type: Graph\n",
            "Number of nodes: 2060\n",
            "Number of edges: 47048\n",
            "Average degree:  45.6777\n",
            "Preparing train dataset for this iteration\n",
            "47048 47048\n",
            "11762 11762\n",
            "Added CN scores....\n",
            "Added AA scores....\n",
            "Added PA scores....\n",
            "Added RA scores....\n",
            "Added JC scores....\n",
            "Added RP scores....\n",
            "Added KATZ scores....\n",
            "Added friends measure scores....\n",
            "Train set prepared\n",
            "Preparing test dataset for this iteration\n",
            "Added CN scores....\n",
            "Added AA scores....\n",
            "Added PA scores....\n",
            "Added RA scores....\n",
            "Added JC scores....\n",
            "Added RP scores....\n",
            "Added KATZ scores....\n",
            "Added friends measure scores....\n",
            "Test set prepared\n",
            "PCA modelling....\n",
            "No. of pca components: 4\n",
            "[5.66482237 1.28270982 0.58976653 0.26052913]\n"
          ],
          "name": "stdout"
        },
        {
          "output_type": "stream",
          "text": [
            "/usr/local/lib/python3.6/dist-packages/sklearn/svm/base.py:193: FutureWarning: The default value of gamma will change from 'auto' to 'scale' in version 0.22 to account better for unscaled features. Set gamma explicitly to 'auto' or 'scale' to avoid this warning.\n",
            "  \"avoid this warning.\", FutureWarning)\n"
          ],
          "name": "stderr"
        },
        {
          "output_type": "stream",
          "text": [
            "Accuracy score: 0.884585954769597\n",
            "[[11519   243]\n",
            " [ 2472  9290]]\n",
            "precision score: 0.9745095982377007\n",
            "recall score: 0.7898316612820949\n",
            "AUC score: 0.9620875528798932\n",
            "completed iteration 2\n",
            "preparing for iteration 3\n",
            "Name: \n",
            "Type: Graph\n",
            "Number of nodes: 2060\n",
            "Number of edges: 47048\n",
            "Average degree:  45.6777\n",
            "Preparing train dataset for this iteration\n",
            "47048 47048\n",
            "11762 11762\n",
            "Added CN scores....\n",
            "Added AA scores....\n",
            "Added PA scores....\n",
            "Added RA scores....\n",
            "Added JC scores....\n",
            "Added RP scores....\n",
            "Added KATZ scores....\n",
            "Added friends measure scores....\n",
            "Train set prepared\n",
            "Preparing test dataset for this iteration\n",
            "Added CN scores....\n",
            "Added AA scores....\n",
            "Added PA scores....\n",
            "Added RA scores....\n",
            "Added JC scores....\n",
            "Added RP scores....\n",
            "Added KATZ scores....\n",
            "Added friends measure scores....\n",
            "Test set prepared\n",
            "PCA modelling....\n",
            "No. of pca components: 4\n",
            "[5.67754032 1.27839164 0.58804348 0.25867656]\n"
          ],
          "name": "stdout"
        },
        {
          "output_type": "stream",
          "text": [
            "/usr/local/lib/python3.6/dist-packages/sklearn/svm/base.py:193: FutureWarning: The default value of gamma will change from 'auto' to 'scale' in version 0.22 to account better for unscaled features. Set gamma explicitly to 'auto' or 'scale' to avoid this warning.\n",
            "  \"avoid this warning.\", FutureWarning)\n"
          ],
          "name": "stderr"
        },
        {
          "output_type": "stream",
          "text": [
            "Accuracy score: 0.8743836082298929\n",
            "[[11510   252]\n",
            " [ 2703  9059]]\n",
            "precision score: 0.9729352378906669\n",
            "recall score: 0.7701921441931644\n",
            "AUC score: 0.9625933512829019\n",
            "completed iteration 3\n",
            "preparing for iteration 4\n",
            "Name: \n",
            "Type: Graph\n",
            "Number of nodes: 2060\n",
            "Number of edges: 47048\n",
            "Average degree:  45.6777\n",
            "Preparing train dataset for this iteration\n",
            "47048 47048\n",
            "11762 11762\n",
            "Added CN scores....\n",
            "Added AA scores....\n",
            "Added PA scores....\n",
            "Added RA scores....\n",
            "Added JC scores....\n",
            "Added RP scores....\n",
            "Added KATZ scores....\n",
            "Added friends measure scores....\n",
            "Train set prepared\n",
            "Preparing test dataset for this iteration\n",
            "Added CN scores....\n",
            "Added AA scores....\n",
            "Added PA scores....\n",
            "Added RA scores....\n",
            "Added JC scores....\n",
            "Added RP scores....\n",
            "Added KATZ scores....\n",
            "Added friends measure scores....\n",
            "Test set prepared\n",
            "PCA modelling....\n",
            "No. of pca components: 4\n",
            "[5.66778423 1.29037601 0.58610592 0.25466141]\n"
          ],
          "name": "stdout"
        },
        {
          "output_type": "stream",
          "text": [
            "/usr/local/lib/python3.6/dist-packages/sklearn/svm/base.py:193: FutureWarning: The default value of gamma will change from 'auto' to 'scale' in version 0.22 to account better for unscaled features. Set gamma explicitly to 'auto' or 'scale' to avoid this warning.\n",
            "  \"avoid this warning.\", FutureWarning)\n"
          ],
          "name": "stderr"
        },
        {
          "output_type": "stream",
          "text": [
            "Accuracy score: 0.8745961571161367\n",
            "[[11503   259]\n",
            " [ 2691  9071]]\n",
            "precision score: 0.9722400857449089\n",
            "recall score: 0.7712123788471349\n",
            "AUC score: 0.9640284628583091\n",
            "completed iteration 4\n"
          ],
          "name": "stdout"
        }
      ]
    },
    {
      "cell_type": "code",
      "metadata": {
        "id": "hY5AKhOfsuU1",
        "colab_type": "code",
        "outputId": "ecc3eacc-79a6-4cb0-e059-3b3523e419a0",
        "colab": {
          "base_uri": "https://localhost:8080/",
          "height": 69
        }
      },
      "source": [
        "avg_precision = sum(precision_scores) / 5\n",
        "avg_recall = sum(recall_scores) / 5\n",
        "avg_scores = sum(auc_scores) / 5\n",
        "\n",
        "print('avg. presicion: {}'.format(avg_precision))\n",
        "print('avg. recall: {}'.format(avg_recall))\n",
        "print('avg. auc: {}'.format(avg_scores))"
      ],
      "execution_count": 0,
      "outputs": [
        {
          "output_type": "stream",
          "text": [
            "avg. presicion: 0.9736707164952383\n",
            "avg. recall: 0.7799353851385818\n",
            "avg. auc: 0.9632516109550291\n"
          ],
          "name": "stdout"
        }
      ]
    },
    {
      "cell_type": "code",
      "metadata": {
        "id": "FzuutHYtuoBK",
        "colab_type": "code",
        "outputId": "9209a28d-85d4-4fcf-fee3-36651c06a82d",
        "colab": {
          "base_uri": "https://localhost:8080/",
          "height": 104
        }
      },
      "source": [
        "precision_scores"
      ],
      "execution_count": 0,
      "outputs": [
        {
          "output_type": "execute_result",
          "data": {
            "text/plain": [
              "[0.9731182795698925,\n",
              " 0.9755503810330228,\n",
              " 0.9745095982377007,\n",
              " 0.9729352378906669,\n",
              " 0.9722400857449089]"
            ]
          },
          "metadata": {
            "tags": []
          },
          "execution_count": 31
        }
      ]
    },
    {
      "cell_type": "code",
      "metadata": {
        "id": "u7zb420Sur50",
        "colab_type": "code",
        "outputId": "fd072b2b-717f-4cbf-afe4-919b3f797a3c",
        "colab": {
          "base_uri": "https://localhost:8080/",
          "height": 104
        }
      },
      "source": [
        "recall_scores"
      ],
      "execution_count": 0,
      "outputs": [
        {
          "output_type": "execute_result",
          "data": {
            "text/plain": [
              "[0.7848155075667403,\n",
              " 0.7836252338037749,\n",
              " 0.7898316612820949,\n",
              " 0.7701921441931644,\n",
              " 0.7712123788471349]"
            ]
          },
          "metadata": {
            "tags": []
          },
          "execution_count": 32
        }
      ]
    },
    {
      "cell_type": "code",
      "metadata": {
        "id": "q1bp4Wetux4K",
        "colab_type": "code",
        "outputId": "9d3095ad-9a1e-4fe6-ebd8-0ead0452dfad",
        "colab": {
          "base_uri": "https://localhost:8080/",
          "height": 104
        }
      },
      "source": [
        "auc_scores"
      ],
      "execution_count": 0,
      "outputs": [
        {
          "output_type": "execute_result",
          "data": {
            "text/plain": [
              "[0.9636529550070618,\n",
              " 0.9638957327469793,\n",
              " 0.9620875528798932,\n",
              " 0.9625933512829019,\n",
              " 0.9640284628583091]"
            ]
          },
          "metadata": {
            "tags": []
          },
          "execution_count": 33
        }
      ]
    },
    {
      "cell_type": "markdown",
      "metadata": {
        "id": "_RNWb-RLKBVr",
        "colab_type": "text"
      },
      "source": [
        "SVD MODELLING "
      ]
    },
    {
      "cell_type": "code",
      "metadata": {
        "id": "rSfCKdZCiw35",
        "colab_type": "code",
        "outputId": "9cd248c9-2994-45f8-aca9-de8c55e2fa33",
        "colab": {
          "base_uri": "https://localhost:8080/",
          "height": 1000
        }
      },
      "source": [
        "for i in range(5):\n",
        "  print('preparing for iteration {}'.format(i))\n",
        "  test_edges = edge_folds[i]\n",
        "  test_edges_false = non_edge_folds[i]\n",
        "  train_edges = []\n",
        "  train_edges_false = []\n",
        "  for j in range(5):\n",
        "    if i == j:\n",
        "      continue\n",
        "    else:\n",
        "      train_edges += edge_folds[j]\n",
        "      train_edges_false += non_edge_folds[j]\n",
        "  \n",
        "  g_train = nx.Graph()\n",
        "  g_train.add_nodes_from(all_nodes)\n",
        "  g_train.add_edges_from(train_edges)\n",
        "  print(nx.info(g_train))\n",
        "  print('Preparing train dataset for this iteration')\n",
        "  katz_matrix = katz_score(g_train)\n",
        "  rp_matrix = rpr_matrix(g_train)\n",
        "  print(len(train_edges), len(train_edges_false))\n",
        "  print(len(test_edges), len(test_edges_false))\n",
        "  X_train , y_train = prepare_X_y_PCA(g_train,train_edges,train_edges_false,katz_matrix,rp_matrix)\n",
        "  df_trains.append((X_train,y_train))\n",
        "  print('Train set prepared')\n",
        "  \n",
        "  # Test dataset preparation\n",
        "  print('Preparing test dataset for this iteration')\n",
        "  X_test , y_test = prepare_X_y_PCA(g_train,test_edges,test_edges_false,katz_matrix,rp_matrix)\n",
        "  df_tests.append((X_test,y_test))\n",
        "  print('Test set prepared')\n",
        "  \n",
        "  print('SVD modelling....')\n",
        "  \n",
        "  svd = TruncatedSVD(n_components=4)\n",
        "  svd.fit(X_train)\n",
        "#   print(\"No. of pca components: {}\".format(svd.n_components_)) \n",
        "  X_train_svd = svd.transform(X_train)\n",
        "  X_test_svd = svd.transform(X_test)\n",
        "  print(svd.explained_variance_)\n",
        "  \n",
        "  \n",
        "  clf = SVC(probability=True) \n",
        "  clf.fit(X_train_svd, y_train)\n",
        "  \n",
        "  y_pred = clf.predict(X_test_svd)\n",
        "  accuracy_score = metrics.accuracy_score(y_test, y_pred)\n",
        "  accuracy_scores.append(accuracy_score)\n",
        "  print(\"Accuracy score: {}\".format(float(accuracy_score)))\n",
        "  confusion = metrics.confusion_matrix(y_test, y_pred)\n",
        "  print(confusion)\n",
        "  TP = confusion[1, 1]\n",
        "  TN = confusion[0, 0]\n",
        "  FP = confusion[0, 1]\n",
        "  FN = confusion[1, 0]\n",
        "  precision = TP / float(TP + FP)\n",
        "\n",
        "  print(\"precision score: {}\".format(precision))\n",
        "  precision_scores.append(precision)\n",
        "#   print(metrics.precision_score(y_test, y_pred))\n",
        "\n",
        "  sensitivity = TP / float(FN + TP)  #recall\n",
        "  print(\"recall score: {}\".format(sensitivity))\n",
        "  recall_scores.append(sensitivity)\n",
        "#   print(metrics.recall_score(y_test, y_pred))\n",
        "\n",
        "  y_pred_prob = clf.predict_proba(X_test_svd)[:, 1]\n",
        "  auc_score = metrics.roc_auc_score(y_test, y_pred_prob)\n",
        "  print(\"AUC score: {}\".format(auc_score))\n",
        "  auc_scores.append(auc_score)\n",
        "  \n",
        "  print('completed iteration {}'.format(i))\n",
        "  "
      ],
      "execution_count": 0,
      "outputs": [
        {
          "output_type": "stream",
          "text": [
            "preparing for iteration 0\n",
            "Name: \n",
            "Type: Graph\n",
            "Number of nodes: 2060\n",
            "Number of edges: 47048\n",
            "Average degree:  45.6777\n",
            "Preparing train dataset for this iteration\n",
            "47048 47048\n",
            "11762 11762\n",
            "Added CN scores....\n",
            "Added AA scores....\n",
            "Added PA scores....\n",
            "Added RA scores....\n",
            "Added JC scores....\n",
            "Added RP scores....\n",
            "Added KATZ scores....\n",
            "Added friends measure scores....\n",
            "Train set prepared\n",
            "Preparing test dataset for this iteration\n",
            "Added CN scores....\n",
            "Added AA scores....\n",
            "Added PA scores....\n",
            "Added RA scores....\n",
            "Added JC scores....\n",
            "Added RP scores....\n",
            "Added KATZ scores....\n",
            "Added friends measure scores....\n",
            "Test set prepared\n",
            "SVD modelling....\n",
            "[5.66956827 1.2873426  0.58566792 0.25609049]\n"
          ],
          "name": "stdout"
        },
        {
          "output_type": "stream",
          "text": [
            "/usr/local/lib/python3.6/dist-packages/sklearn/svm/base.py:193: FutureWarning: The default value of gamma will change from 'auto' to 'scale' in version 0.22 to account better for unscaled features. Set gamma explicitly to 'auto' or 'scale' to avoid this warning.\n",
            "  \"avoid this warning.\", FutureWarning)\n"
          ],
          "name": "stderr"
        },
        {
          "output_type": "stream",
          "text": [
            "Accuracy score: 0.8722156095902057\n",
            "[[11517   245]\n",
            " [ 2761  9001]]\n",
            "precision score: 0.9735020549426779\n",
            "recall score: 0.7652610100323074\n",
            "AUC score: 0.957482918529177\n",
            "completed iteration 0\n",
            "preparing for iteration 1\n",
            "Name: \n",
            "Type: Graph\n",
            "Number of nodes: 2060\n",
            "Number of edges: 47048\n",
            "Average degree:  45.6777\n",
            "Preparing train dataset for this iteration\n",
            "47048 47048\n",
            "11762 11762\n",
            "Added CN scores....\n",
            "Added AA scores....\n",
            "Added PA scores....\n",
            "Added RA scores....\n",
            "Added JC scores....\n",
            "Added RP scores....\n",
            "Added KATZ scores....\n",
            "Added friends measure scores....\n",
            "Train set prepared\n",
            "Preparing test dataset for this iteration\n",
            "Added CN scores....\n",
            "Added AA scores....\n",
            "Added PA scores....\n",
            "Added RA scores....\n",
            "Added JC scores....\n",
            "Added RP scores....\n",
            "Added KATZ scores....\n",
            "Added friends measure scores....\n",
            "Test set prepared\n",
            "SVD modelling....\n",
            "[5.67022339 1.28038278 0.59139471 0.26046677]\n"
          ],
          "name": "stdout"
        },
        {
          "output_type": "stream",
          "text": [
            "/usr/local/lib/python3.6/dist-packages/sklearn/svm/base.py:193: FutureWarning: The default value of gamma will change from 'auto' to 'scale' in version 0.22 to account better for unscaled features. Set gamma explicitly to 'auto' or 'scale' to avoid this warning.\n",
            "  \"avoid this warning.\", FutureWarning)\n"
          ],
          "name": "stderr"
        },
        {
          "output_type": "stream",
          "text": [
            "Accuracy score: 0.875276313552117\n",
            "[[11522   240]\n",
            " [ 2694  9068]]\n",
            "precision score: 0.9742157284056725\n",
            "recall score: 0.7709573201836423\n",
            "AUC score: 0.9601511497618946\n",
            "completed iteration 1\n",
            "preparing for iteration 2\n",
            "Name: \n",
            "Type: Graph\n",
            "Number of nodes: 2060\n",
            "Number of edges: 47048\n",
            "Average degree:  45.6777\n",
            "Preparing train dataset for this iteration\n",
            "47048 47048\n",
            "11762 11762\n",
            "Added CN scores....\n",
            "Added AA scores....\n",
            "Added PA scores....\n",
            "Added RA scores....\n",
            "Added JC scores....\n",
            "Added RP scores....\n",
            "Added KATZ scores....\n",
            "Added friends measure scores....\n",
            "Train set prepared\n",
            "Preparing test dataset for this iteration\n",
            "Added CN scores....\n",
            "Added AA scores....\n",
            "Added PA scores....\n",
            "Added RA scores....\n",
            "Added JC scores....\n",
            "Added RP scores....\n",
            "Added KATZ scores....\n",
            "Added friends measure scores....\n",
            "Test set prepared\n",
            "SVD modelling....\n",
            "[5.67091414 1.28367925 0.5868798  0.25706611]\n"
          ],
          "name": "stdout"
        },
        {
          "output_type": "stream",
          "text": [
            "/usr/local/lib/python3.6/dist-packages/sklearn/svm/base.py:193: FutureWarning: The default value of gamma will change from 'auto' to 'scale' in version 0.22 to account better for unscaled features. Set gamma explicitly to 'auto' or 'scale' to avoid this warning.\n",
            "  \"avoid this warning.\", FutureWarning)\n"
          ],
          "name": "stderr"
        },
        {
          "output_type": "stream",
          "text": [
            "Accuracy score: 0.857379697330386\n",
            "[[11558   204]\n",
            " [ 3151  8611]]\n",
            "precision score: 0.9768576290414067\n",
            "recall score: 0.732103383778269\n",
            "AUC score: 0.9450957927941178\n",
            "completed iteration 2\n",
            "preparing for iteration 3\n",
            "Name: \n",
            "Type: Graph\n",
            "Number of nodes: 2060\n",
            "Number of edges: 47048\n",
            "Average degree:  45.6777\n",
            "Preparing train dataset for this iteration\n",
            "47048 47048\n",
            "11762 11762\n",
            "Added CN scores....\n",
            "Added AA scores....\n",
            "Added PA scores....\n",
            "Added RA scores....\n",
            "Added JC scores....\n",
            "Added RP scores....\n",
            "Added KATZ scores....\n",
            "Added friends measure scores....\n",
            "Train set prepared\n",
            "Preparing test dataset for this iteration\n",
            "Added CN scores....\n",
            "Added AA scores....\n",
            "Added PA scores....\n",
            "Added RA scores....\n",
            "Added JC scores....\n",
            "Added RP scores....\n",
            "Added KATZ scores....\n",
            "Added friends measure scores....\n",
            "Test set prepared\n",
            "SVD modelling....\n",
            "[5.67271802 1.2843797  0.58755207 0.25360251]\n"
          ],
          "name": "stdout"
        },
        {
          "output_type": "stream",
          "text": [
            "/usr/local/lib/python3.6/dist-packages/sklearn/svm/base.py:193: FutureWarning: The default value of gamma will change from 'auto' to 'scale' in version 0.22 to account better for unscaled features. Set gamma explicitly to 'auto' or 'scale' to avoid this warning.\n",
            "  \"avoid this warning.\", FutureWarning)\n"
          ],
          "name": "stderr"
        },
        {
          "output_type": "stream",
          "text": [
            "Accuracy score: 0.8773167828600578\n",
            "[[11494   268]\n",
            " [ 2618  9144]]\n",
            "precision score: 0.9715257118572036\n",
            "recall score: 0.7774188063254549\n",
            "AUC score: 0.9599935036155066\n",
            "completed iteration 3\n",
            "preparing for iteration 4\n",
            "Name: \n",
            "Type: Graph\n",
            "Number of nodes: 2060\n",
            "Number of edges: 47048\n",
            "Average degree:  45.6777\n",
            "Preparing train dataset for this iteration\n",
            "47048 47048\n",
            "11762 11762\n",
            "Added CN scores....\n",
            "Added AA scores....\n",
            "Added PA scores....\n",
            "Added RA scores....\n",
            "Added JC scores....\n",
            "Added RP scores....\n",
            "Added KATZ scores....\n",
            "Added friends measure scores....\n",
            "Train set prepared\n",
            "Preparing test dataset for this iteration\n",
            "Added CN scores....\n",
            "Added AA scores....\n",
            "Added PA scores....\n",
            "Added RA scores....\n",
            "Added JC scores....\n",
            "Added RP scores....\n",
            "Added KATZ scores....\n",
            "Added friends measure scores....\n",
            "Test set prepared\n",
            "SVD modelling....\n",
            "[5.66763756 1.28242036 0.58872997 0.25857335]\n"
          ],
          "name": "stdout"
        },
        {
          "output_type": "stream",
          "text": [
            "/usr/local/lib/python3.6/dist-packages/sklearn/svm/base.py:193: FutureWarning: The default value of gamma will change from 'auto' to 'scale' in version 0.22 to account better for unscaled features. Set gamma explicitly to 'auto' or 'scale' to avoid this warning.\n",
            "  \"avoid this warning.\", FutureWarning)\n"
          ],
          "name": "stderr"
        },
        {
          "output_type": "stream",
          "text": [
            "Accuracy score: 0.8811851725896956\n",
            "[[11509   253]\n",
            " [ 2542  9220]]\n",
            "precision score: 0.973292515570569\n",
            "recall score: 0.7838802924672674\n",
            "AUC score: 0.9602816788483695\n",
            "completed iteration 4\n"
          ],
          "name": "stdout"
        }
      ]
    },
    {
      "cell_type": "code",
      "metadata": {
        "id": "BxDaLZ5Oidlm",
        "colab_type": "code",
        "outputId": "e7a68b5a-f916-45e1-c7ce-c2f939a07687",
        "colab": {
          "base_uri": "https://localhost:8080/",
          "height": 69
        }
      },
      "source": [
        "avg_precision = sum(precision_scores) / 5\n",
        "avg_recall = sum(recall_scores) / 5\n",
        "avg_scores = sum(auc_scores) / 5\n",
        "\n",
        "print('avg. presicion: {}'.format(avg_precision))\n",
        "print('avg. recall: {}'.format(avg_recall))\n",
        "print('avg. auc: {}'.format(avg_scores))"
      ],
      "execution_count": 0,
      "outputs": [
        {
          "output_type": "stream",
          "text": [
            "avg. presicion: 0.973878727963506\n",
            "avg. recall: 0.7659241625573883\n",
            "avg. auc: 0.956601008709813\n"
          ],
          "name": "stdout"
        }
      ]
    },
    {
      "cell_type": "code",
      "metadata": {
        "id": "Ldn8fVsJzWAi",
        "colab_type": "code",
        "colab": {}
      },
      "source": [
        "feat_imp = [0.00000]*8"
      ],
      "execution_count": 0,
      "outputs": []
    },
    {
      "cell_type": "markdown",
      "metadata": {
        "id": "czzYiTmOwVdQ",
        "colab_type": "text"
      },
      "source": [
        "RANDOM FOREST CLASSIFIER"
      ]
    },
    {
      "cell_type": "code",
      "metadata": {
        "id": "oDD2vZscidy1",
        "colab_type": "code",
        "outputId": "6050b9c1-1b2d-4be5-914f-e990b2c13b34",
        "colab": {
          "base_uri": "https://localhost:8080/",
          "height": 1000
        }
      },
      "source": [
        "for i in range(5):\n",
        "  print('preparing for iteration {}'.format(i))\n",
        "  test_edges = edge_folds[i]\n",
        "  test_edges_false = non_edge_folds[i]\n",
        "  train_edges = []\n",
        "  train_edges_false = []\n",
        "  for j in range(5):\n",
        "    if i == j:\n",
        "      continue\n",
        "    else:\n",
        "      train_edges += edge_folds[j]\n",
        "      train_edges_false += non_edge_folds[j]\n",
        "  \n",
        "  g_train = nx.Graph()\n",
        "  g_train.add_nodes_from(all_nodes)\n",
        "  g_train.add_edges_from(train_edges)\n",
        "  print(nx.info(g_train))\n",
        "  print('Preparing train dataset for this iteration')\n",
        "  katz_matrix = katz_score(g_train)\n",
        "  rp_matrix = rpr_matrix(g_train)\n",
        "  print(len(train_edges), len(train_edges_false))\n",
        "  print(len(test_edges), len(test_edges_false))\n",
        "  X_train , y_train = prepare_X_y(g_train,train_edges,train_edges_false,katz_matrix,rp_matrix)\n",
        "  df_trains.append((X_train,y_train))\n",
        "  print('Train set prepared')\n",
        "  \n",
        "  # Test dataset preparation\n",
        "  print('Preparing test dataset for this iteration')\n",
        "  X_test , y_test = prepare_X_y(g_train,test_edges,test_edges_false,katz_matrix,rp_matrix)\n",
        "  df_tests.append((X_test,y_test))\n",
        "  print('Test set prepared')\n",
        "  \n",
        "  clf = RandomForestClassifier(n_estimators=100)\n",
        "  clf.fit(X_train, y_train)\n",
        "  \n",
        "  features = clf.feature_importances_\n",
        "  print(features)\n",
        "  feat_imp = [feat_imp[i] + features[i] for i in range(8)] \n",
        "  \n",
        "  y_pred = clf.predict(X_test)\n",
        "  accuracy_score = metrics.accuracy_score(y_test, y_pred)\n",
        "  accuracy_scores.append(accuracy_score)\n",
        "  print(\"Accuracy score: {}\".format(float(accuracy_score)))\n",
        "  confusion = metrics.confusion_matrix(y_test, y_pred)\n",
        "  print(confusion)\n",
        "  TP = confusion[1, 1]\n",
        "  TN = confusion[0, 0]\n",
        "  FP = confusion[0, 1]\n",
        "  FN = confusion[1, 0]\n",
        "  precision = TP / float(TP + FP)\n",
        "\n",
        "  print(\"precision score: {}\".format(precision))\n",
        "  precision_scores.append(precision)\n",
        "#   print(metrics.precision_score(y_test, y_pred))\n",
        "\n",
        "  sensitivity = TP / float(FN + TP)  #recall\n",
        "  print(\"recall score: {}\".format(sensitivity))\n",
        "  recall_scores.append(sensitivity)\n",
        "#   print(metrics.recall_score(y_test, y_pred))\n",
        "\n",
        "  y_pred_prob = clf.predict_proba(X_test)[:, 1]\n",
        "  auc_score = metrics.roc_auc_score(y_test, y_pred_prob)\n",
        "  print(\"AUC score: {}\".format(auc_score))\n",
        "  auc_scores.append(auc_score)\n",
        "  \n",
        "  print('completed iteration {}'.format(i))\n",
        "  "
      ],
      "execution_count": 0,
      "outputs": [
        {
          "output_type": "stream",
          "text": [
            "preparing for iteration 0\n",
            "Name: \n",
            "Type: Graph\n",
            "Number of nodes: 2060\n",
            "Number of edges: 47048\n",
            "Average degree:  45.6777\n",
            "Preparing train dataset for this iteration\n",
            "47048 47048\n",
            "11762 11762\n",
            "Added CN scores....\n",
            "Added AA scores....\n",
            "Added PA scores....\n",
            "Added RA scores....\n",
            "Added JC scores....\n",
            "Added RP scores....\n",
            "Added KATZ scores....\n",
            "Added friends measure scores....\n",
            "Train set prepared\n",
            "Preparing test dataset for this iteration\n",
            "Added CN scores....\n",
            "Added AA scores....\n",
            "Added PA scores....\n",
            "Added RA scores....\n",
            "Added JC scores....\n",
            "Added RP scores....\n",
            "Added KATZ scores....\n",
            "Added friends measure scores....\n",
            "Test set prepared\n",
            "[0.06420417 0.08597348 0.00146658 0.13705017 0.05892811 0.30764726\n",
            " 0.32446328 0.02026696]\n",
            "Accuracy score: 0.5712038768916851\n",
            "[[11757     5]\n",
            " [10082  1680]]\n",
            "precision score: 0.9970326409495549\n",
            "recall score: 0.14283285155585784\n",
            "AUC score: 0.971344857412767\n",
            "completed iteration 0\n",
            "preparing for iteration 1\n",
            "Name: \n",
            "Type: Graph\n",
            "Number of nodes: 2060\n",
            "Number of edges: 47048\n",
            "Average degree:  45.6777\n",
            "Preparing train dataset for this iteration\n",
            "47048 47048\n",
            "11762 11762\n",
            "Added CN scores....\n",
            "Added AA scores....\n",
            "Added PA scores....\n",
            "Added RA scores....\n",
            "Added JC scores....\n",
            "Added RP scores....\n",
            "Added KATZ scores....\n",
            "Added friends measure scores....\n",
            "Train set prepared\n",
            "Preparing test dataset for this iteration\n",
            "Added CN scores....\n",
            "Added AA scores....\n",
            "Added PA scores....\n",
            "Added RA scores....\n",
            "Added JC scores....\n",
            "Added RP scores....\n",
            "Added KATZ scores....\n",
            "Added friends measure scores....\n",
            "Test set prepared\n",
            "[0.04727514 0.08494795 0.00090249 0.13856706 0.06389251 0.2495464\n",
            " 0.40489377 0.00997468]\n",
            "Accuracy score: 0.519171909539194\n",
            "[[11762     0]\n",
            " [11311   451]]\n",
            "precision score: 1.0\n",
            "recall score: 0.038343819078388026\n",
            "AUC score: 0.9704426938277424\n",
            "completed iteration 1\n",
            "preparing for iteration 2\n",
            "Name: \n",
            "Type: Graph\n",
            "Number of nodes: 2060\n",
            "Number of edges: 47048\n",
            "Average degree:  45.6777\n",
            "Preparing train dataset for this iteration\n",
            "47048 47048\n",
            "11762 11762\n",
            "Added CN scores....\n",
            "Added AA scores....\n",
            "Added PA scores....\n",
            "Added RA scores....\n",
            "Added JC scores....\n",
            "Added RP scores....\n",
            "Added KATZ scores....\n",
            "Added friends measure scores....\n",
            "Train set prepared\n",
            "Preparing test dataset for this iteration\n",
            "Added CN scores....\n",
            "Added AA scores....\n",
            "Added PA scores....\n",
            "Added RA scores....\n",
            "Added JC scores....\n",
            "Added RP scores....\n",
            "Added KATZ scores....\n",
            "Added friends measure scores....\n",
            "Test set prepared\n",
            "[0.03303757 0.10381513 0.00174646 0.15465883 0.09518989 0.28075317\n",
            " 0.32489816 0.0059008 ]\n",
            "Accuracy score: 0.5417446012582894\n",
            "[[11759     3]\n",
            " [10777   985]]\n",
            "precision score: 0.9969635627530364\n",
            "recall score: 0.08374426118007142\n",
            "AUC score: 0.9722810013519569\n",
            "completed iteration 2\n",
            "preparing for iteration 3\n",
            "Name: \n",
            "Type: Graph\n",
            "Number of nodes: 2060\n",
            "Number of edges: 47048\n",
            "Average degree:  45.6777\n",
            "Preparing train dataset for this iteration\n",
            "47048 47048\n",
            "11762 11762\n",
            "Added CN scores....\n",
            "Added AA scores....\n",
            "Added PA scores....\n",
            "Added RA scores....\n",
            "Added JC scores....\n",
            "Added RP scores....\n",
            "Added KATZ scores....\n",
            "Added friends measure scores....\n",
            "Train set prepared\n",
            "Preparing test dataset for this iteration\n",
            "Added CN scores....\n",
            "Added AA scores....\n",
            "Added PA scores....\n",
            "Added RA scores....\n",
            "Added JC scores....\n",
            "Added RP scores....\n",
            "Added KATZ scores....\n",
            "Added friends measure scores....\n",
            "Test set prepared\n",
            "[0.02036562 0.11861412 0.00133118 0.13933884 0.06089567 0.30961246\n",
            " 0.33037276 0.01946935]\n",
            "Accuracy score: 0.550416595817038\n",
            "[[11760     2]\n",
            " [10574  1188]]\n",
            "precision score: 0.9983193277310924\n",
            "recall score: 0.10100323074307091\n",
            "AUC score: 0.9705465540104321\n",
            "completed iteration 3\n",
            "preparing for iteration 4\n",
            "Name: \n",
            "Type: Graph\n",
            "Number of nodes: 2060\n",
            "Number of edges: 47048\n",
            "Average degree:  45.6777\n",
            "Preparing train dataset for this iteration\n",
            "47048 47048\n",
            "11762 11762\n",
            "Added CN scores....\n",
            "Added AA scores....\n",
            "Added PA scores....\n",
            "Added RA scores....\n",
            "Added JC scores....\n",
            "Added RP scores....\n",
            "Added KATZ scores....\n",
            "Added friends measure scores....\n",
            "Train set prepared\n",
            "Preparing test dataset for this iteration\n",
            "Added CN scores....\n",
            "Added AA scores....\n",
            "Added PA scores....\n",
            "Added RA scores....\n",
            "Added JC scores....\n",
            "Added RP scores....\n",
            "Added KATZ scores....\n",
            "Added friends measure scores....\n",
            "Test set prepared\n",
            "[0.03906044 0.08416578 0.00140496 0.1774892  0.04998614 0.32893844\n",
            " 0.30874426 0.01021078]\n",
            "Accuracy score: 0.56793062404353\n",
            "[[11756     6]\n",
            " [10158  1604]]\n",
            "precision score: 0.9962732919254659\n",
            "recall score: 0.13637136541404524\n",
            "AUC score: 0.9431312064383208\n",
            "completed iteration 4\n"
          ],
          "name": "stdout"
        }
      ]
    },
    {
      "cell_type": "code",
      "metadata": {
        "id": "mD11ectN0ImL",
        "colab_type": "code",
        "outputId": "c3d7ba98-7a33-4b7e-9501-c26efe4fcc2c",
        "colab": {
          "base_uri": "https://localhost:8080/",
          "height": 54
        }
      },
      "source": [
        "print(feat_imp)"
      ],
      "execution_count": 0,
      "outputs": [
        {
          "output_type": "stream",
          "text": [
            "[0.2039429381543604, 0.4775164643660452, 0.006851671086323138, 0.7471040962305125, 0.32889231943979674, 1.476497722358364, 1.6933722254672863, 0.065822562897312]\n"
          ],
          "name": "stdout"
        }
      ]
    },
    {
      "cell_type": "code",
      "metadata": {
        "id": "ZfCZq5uZidv5",
        "colab_type": "code",
        "outputId": "8a21609e-3524-4b43-bcaf-008e4ad9f9d1",
        "colab": {
          "base_uri": "https://localhost:8080/",
          "height": 69
        }
      },
      "source": [
        "avg_precision = sum(precision_scores) / 5\n",
        "avg_recall = sum(recall_scores) / 5\n",
        "avg_scores = sum(auc_scores) / 5\n",
        "\n",
        "print('avg. presicion: {}'.format(avg_precision))\n",
        "print('avg. recall: {}'.format(avg_recall))\n",
        "print('avg. auc: {}'.format(avg_scores))"
      ],
      "execution_count": 0,
      "outputs": [
        {
          "output_type": "stream",
          "text": [
            "avg. presicion: 0.9977177646718299\n",
            "avg. recall: 0.1004591055942867\n",
            "avg. auc: 0.9655492626082438\n"
          ],
          "name": "stdout"
        }
      ]
    },
    {
      "cell_type": "code",
      "metadata": {
        "id": "-Ly3hPawidtA",
        "colab_type": "code",
        "colab": {}
      },
      "source": [
        ""
      ],
      "execution_count": 0,
      "outputs": []
    },
    {
      "cell_type": "code",
      "metadata": {
        "id": "1193GUzdidpt",
        "colab_type": "code",
        "colab": {}
      },
      "source": [
        ""
      ],
      "execution_count": 0,
      "outputs": []
    },
    {
      "cell_type": "code",
      "metadata": {
        "id": "W1AZ_Hx0idih",
        "colab_type": "code",
        "colab": {}
      },
      "source": [
        ""
      ],
      "execution_count": 0,
      "outputs": []
    },
    {
      "cell_type": "code",
      "metadata": {
        "id": "ChT9LgRPvnh7",
        "colab_type": "code",
        "colab": {}
      },
      "source": [
        "# df = pd.DataFrame(df_dict)\n",
        "# print(df)"
      ],
      "execution_count": 0,
      "outputs": []
    },
    {
      "cell_type": "code",
      "metadata": {
        "id": "lA3D3Gh6vxuD",
        "colab_type": "code",
        "colab": {}
      },
      "source": [
        "# df_dict['node1'] = [ x[0] for x in edges ] + [ x[0] for x in marked_non_edges]\n",
        "# df_dict['node2'] = [ x[1] for x in edges ] + [ x[1] for x in marked_non_edges]"
      ],
      "execution_count": 0,
      "outputs": []
    },
    {
      "cell_type": "code",
      "metadata": {
        "id": "bOJswjz-2uYI",
        "colab_type": "code",
        "colab": {}
      },
      "source": [
        "# is_same_community = [ nx.has_path(graph,u,v) for (u,v) in edges ] + [ nx.has_path(graph,u,v) for (u,v) in marked_non_edges ]"
      ],
      "execution_count": 0,
      "outputs": []
    },
    {
      "cell_type": "code",
      "metadata": {
        "id": "mGBZ4IKp3sL_",
        "colab_type": "code",
        "colab": {}
      },
      "source": [
        "# df_dict['in_same_community'] = is_same_community\n"
      ],
      "execution_count": 0,
      "outputs": []
    },
    {
      "cell_type": "code",
      "metadata": {
        "id": "fD4p6c3f05OC",
        "colab_type": "code",
        "colab": {}
      },
      "source": [
        "# from google.colab import files"
      ],
      "execution_count": 0,
      "outputs": []
    },
    {
      "cell_type": "code",
      "metadata": {
        "id": "d5gBAYmZ07rw",
        "colab_type": "code",
        "colab": {}
      },
      "source": [
        "# df.to_csv('prepared_datset.csv', index= False)\n",
        "# files.download('prepared_datset.csv')"
      ],
      "execution_count": 0,
      "outputs": []
    },
    {
      "cell_type": "markdown",
      "metadata": {
        "id": "V4i_rBJ_AoVB",
        "colab_type": "text"
      },
      "source": [
        "K-fold cross validation"
      ]
    },
    {
      "cell_type": "code",
      "metadata": {
        "id": "YGqQ4xb8Bpa5",
        "colab_type": "code",
        "colab": {}
      },
      "source": [
        "# X['in_same_community'] = X['in_same_community'].map({True: 1, False: 0})"
      ],
      "execution_count": 0,
      "outputs": []
    },
    {
      "cell_type": "code",
      "metadata": {
        "id": "4s9CZe4AFsKi",
        "colab_type": "code",
        "colab": {}
      },
      "source": [
        "# model = svm.SVC()"
      ],
      "execution_count": 0,
      "outputs": []
    },
    {
      "cell_type": "code",
      "metadata": {
        "id": "zYe1OTgLZJ4T",
        "colab_type": "code",
        "outputId": "4be565a0-a6d5-47c3-f47c-59a87483799d",
        "colab": {
          "base_uri": "https://localhost:8080/",
          "height": 121
        }
      },
      "source": [
        "# clf = DecisionTreeClassifier(random_state=22)\n",
        "# clf.fit(X,y)\n"
      ],
      "execution_count": 0,
      "outputs": [
        {
          "output_type": "execute_result",
          "data": {
            "text/plain": [
              "DecisionTreeClassifier(class_weight=None, criterion='gini', max_depth=None,\n",
              "                       max_features=None, max_leaf_nodes=None,\n",
              "                       min_impurity_decrease=0.0, min_impurity_split=None,\n",
              "                       min_samples_leaf=1, min_samples_split=2,\n",
              "                       min_weight_fraction_leaf=0.0, presort=False,\n",
              "                       random_state=22, splitter='best')"
            ]
          },
          "metadata": {
            "tags": []
          },
          "execution_count": 215
        }
      ]
    },
    {
      "cell_type": "code",
      "metadata": {
        "id": "y1uxSJy_aUm2",
        "colab_type": "code",
        "colab": {}
      },
      "source": [
        "# from sklearn.feature_selection import SelectKBest\n",
        "# from sklearn.feature_selection import chi2"
      ],
      "execution_count": 0,
      "outputs": []
    },
    {
      "cell_type": "code",
      "metadata": {
        "id": "7PBuaVHBaReu",
        "colab_type": "code",
        "colab": {}
      },
      "source": [
        "#apply SelectKBest class to extract top 10 best features\n",
        "# bestfeatures = SelectKBest(score_func=chi2, k='all')\n",
        "# fit = bestfeatures.fit(X,y)\n",
        "# dfscores = pd.DataFrame(fit.scores_)\n",
        "# dfcolumns = pd.DataFrame(X.columns)\n",
        "# #concat two dataframes for better visualization \n",
        "# featureScores = pd.concat([dfcolumns,dfscores],axis=1)\n",
        "# featureScores.columns = ['Specs','Score']  #naming the dataframe columns\n",
        "# print(featureScores.nlargest(10,'Score'))  #print 10 best features"
      ],
      "execution_count": 0,
      "outputs": []
    },
    {
      "cell_type": "code",
      "metadata": {
        "id": "A-dRo5aIc5Ld",
        "colab_type": "code",
        "colab": {}
      },
      "source": [
        "# from sklearn.ensemble import ExtraTreesClassifier\n",
        "# import matplotlib.pyplot as plt\n",
        "# model = ExtraTreesClassifier()\n",
        "# model.fit(X,y)\n",
        "# print(model.feature_importances_) #use inbuilt class feature_importances of tree based classifiers\n",
        "# #plot graph of feature importances for better visualization\n",
        "# feat_importances = pd.Series(model.feature_importances_, index=X.columns)\n",
        "# feat_importances.nlargest(9).plot(kind='barh')\n",
        "# plt.show()"
      ],
      "execution_count": 0,
      "outputs": []
    },
    {
      "cell_type": "code",
      "metadata": {
        "id": "I6xSw2szdhmU",
        "colab_type": "code",
        "colab": {}
      },
      "source": [
        "import seaborn as sns"
      ],
      "execution_count": 0,
      "outputs": []
    },
    {
      "cell_type": "code",
      "metadata": {
        "id": "p_bRNPPSdYd8",
        "colab_type": "code",
        "outputId": "201831ec-b9b7-4271-f221-e6a6dac2f739",
        "colab": {
          "base_uri": "https://localhost:8080/",
          "height": 688
        }
      },
      "source": [
        "corrmat = df.corr()\n",
        "top_corr_features = corrmat.index\n",
        "plt.figure(figsize=(10,10))\n",
        "#plot heat map\n",
        "g=sns.heatmap(df[top_corr_features].corr(),annot=True,cmap=\"RdYlGn\")"
      ],
      "execution_count": 0,
      "outputs": [
        {
          "output_type": "display_data",
          "data": {
            "image/png": "[encoded data removed]",
            "text/plain": [
              "<Figure size 720x720 with 2 Axes>"
            ]
          },
          "metadata": {
            "tags": []
          }
        }
      ]
    },
    {
      "cell_type": "code",
      "metadata": {
        "id": "EBAOLr5eB6So",
        "colab_type": "code",
        "outputId": "b256e427-e5eb-49ee-b0f6-14dac5bb4d7a",
        "colab": {
          "base_uri": "https://localhost:8080/",
          "height": 52
        }
      },
      "source": [
        "kfold = model_selection.KFold(n_splits=5, random_state=22, shuffle = True)\n",
        "model_kfold = DecisionTreeClassifier(random_state=0)\n",
        "results_kfold = model_selection.cross_val_score(model_kfold, X_d, y_d, cv=5, scoring='roc_auc')\n",
        "print(results_kfold)\n",
        "print(\"Accuracy: %.2f%%\" % (results_kfold.mean()*100.0)) "
      ],
      "execution_count": 0,
      "outputs": [
        {
          "output_type": "stream",
          "text": [
            "[0.99944737 0.99944737 0.99961741 0.99927733 0.99961741]\n",
            "Accuracy: 99.95%\n"
          ],
          "name": "stdout"
        }
      ]
    }
  ]
}
