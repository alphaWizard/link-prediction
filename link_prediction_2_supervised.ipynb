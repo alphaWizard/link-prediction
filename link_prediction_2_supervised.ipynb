{
  "nbformat": 4,
  "nbformat_minor": 0,
  "metadata": {
    "colab": {
      "name": "link_prediction_2_corrected.ipynb",
      "provenance": [],
      "collapsed_sections": [],
      "machine_shape": "hm"
    },
    "kernelspec": {
      "name": "python3",
      "display_name": "Python 3"
    },
    "accelerator": "GPU"
  },
  "cells": [
    {
      "cell_type": "code",
      "metadata": {
        "id": "wW3x4kQkJI5y",
        "colab_type": "code",
        "colab": {}
      },
      "source": [
        "import numpy as np\n",
        "import networkx as nx\n",
        "import pandas as pd\n",
        "import random\n",
        "import functools\n",
        "from similarities import *\n",
        "from itertools import combinations \n",
        "import math"
      ],
      "execution_count": 0,
      "outputs": []
    },
    {
      "cell_type": "code",
      "metadata": {
        "id": "p_K1sUh5jI30",
        "colab_type": "code",
        "colab": {}
      },
      "source": [
        "from sklearn.svm import SVC\n",
        "from sklearn import metrics\n",
        "from sklearn.model_selection import KFold\n",
        "from sklearn.preprocessing import MinMaxScaler\n",
        "from sklearn.svm import SVR\n",
        "from sklearn.tree import DecisionTreeClassifier"
      ],
      "execution_count": 0,
      "outputs": []
    },
    {
      "cell_type": "code",
      "metadata": {
        "id": "kzd7DPhVFGgA",
        "colab_type": "code",
        "colab": {}
      },
      "source": [
        "from sklearn.preprocessing import StandardScaler\n",
        "from sklearn.decomposition import PCA\n",
        "from sklearn.svm import LinearSVC\n",
        "from sklearn.decomposition import TruncatedSVD\n",
        "from sklearn.naive_bayes import GaussianNB"
      ],
      "execution_count": 0,
      "outputs": []
    },
    {
      "cell_type": "code",
      "metadata": {
        "id": "eOTRPh9pJP9k",
        "colab_type": "code",
        "outputId": "496e881d-16a6-422b-abfc-8950fbda0513",
        "colab": {
          "base_uri": "https://localhost:8080/",
          "height": 34
        }
      },
      "source": [
        "path = 'edges.csv'\n",
        "graph = nx.Graph()\n",
        "edges = pd.read_csv(path, sep=',', header=None)\n",
        "graph.add_edges_from(edges.values)\n",
        "nx.info(graph)"
      ],
      "execution_count": 0,
      "outputs": [
        {
          "output_type": "execute_result",
          "data": {
            "text/plain": [
              "'Name: \\nType: Graph\\nNumber of nodes: 10312\\nNumber of edges: 333983\\nAverage degree:  64.7756'"
            ]
          },
          "metadata": {
            "tags": []
          },
          "execution_count": 5
        }
      ]
    },
    {
      "cell_type": "code",
      "metadata": {
        "id": "CrNyGERhjYvE",
        "colab_type": "code",
        "colab": {}
      },
      "source": [
        "non_edges = list(nx.non_edges(graph))\n",
        "edges = list(nx.edges(graph))\n",
        "# print((non_edges))\n",
        "m = len(edges)"
      ],
      "execution_count": 0,
      "outputs": []
    },
    {
      "cell_type": "code",
      "metadata": {
        "id": "LnEdxa_qjjc1",
        "colab_type": "code",
        "colab": {}
      },
      "source": [
        "def partition (list_in, n):\n",
        "    random.shuffle(list_in)\n",
        "    return [list_in[i::n] for i in range(n)]"
      ],
      "execution_count": 0,
      "outputs": []
    },
    {
      "cell_type": "code",
      "metadata": {
        "id": "NNG0WCixjnJ4",
        "colab_type": "code",
        "colab": {}
      },
      "source": [
        "edge_folds = partition(edges,5) "
      ],
      "execution_count": 0,
      "outputs": []
    },
    {
      "cell_type": "code",
      "metadata": {
        "id": "Iwfd5GvJjnVN",
        "colab_type": "code",
        "colab": {}
      },
      "source": [
        "marked_non_edges = random.sample(non_edges, m)"
      ],
      "execution_count": 0,
      "outputs": []
    },
    {
      "cell_type": "code",
      "metadata": {
        "id": "Rd6vBT7MjnSd",
        "colab_type": "code",
        "colab": {}
      },
      "source": [
        "non_edge_folds = partition(marked_non_edges,5)"
      ],
      "execution_count": 0,
      "outputs": []
    },
    {
      "cell_type": "code",
      "metadata": {
        "id": "mv511-NhjnQC",
        "colab_type": "code",
        "outputId": "b67a8c0d-9c88-416b-d88b-3b5bd96e8051",
        "colab": {
          "base_uri": "https://localhost:8080/",
          "height": 34
        }
      },
      "source": [
        "len(marked_non_edges),len(non_edge_folds),len(non_edge_folds[0])"
      ],
      "execution_count": 0,
      "outputs": [
        {
          "output_type": "execute_result",
          "data": {
            "text/plain": [
              "(333983, 5, 66797)"
            ]
          },
          "metadata": {
            "tags": []
          },
          "execution_count": 11
        }
      ]
    },
    {
      "cell_type": "code",
      "metadata": {
        "id": "xXlS9sZIjzlr",
        "colab_type": "code",
        "outputId": "edb240b9-6e9c-4998-d164-8d269f44ea9d",
        "colab": {
          "base_uri": "https://localhost:8080/",
          "height": 104
        }
      },
      "source": [
        "for x in edge_folds:  \n",
        "  print(len(x))"
      ],
      "execution_count": 0,
      "outputs": [
        {
          "output_type": "stream",
          "text": [
            "66797\n",
            "66797\n",
            "66797\n",
            "66796\n",
            "66796\n"
          ],
          "name": "stdout"
        }
      ]
    },
    {
      "cell_type": "code",
      "metadata": {
        "id": "V2enalMsj25q",
        "colab_type": "code",
        "outputId": "736063dc-bc8c-40a8-9ae3-b7108657c7dd",
        "colab": {
          "base_uri": "https://localhost:8080/",
          "height": 104
        }
      },
      "source": [
        "for x in non_edge_folds:  \n",
        "  print(len(x))"
      ],
      "execution_count": 0,
      "outputs": [
        {
          "output_type": "stream",
          "text": [
            "66797\n",
            "66797\n",
            "66797\n",
            "66796\n",
            "66796\n"
          ],
          "name": "stdout"
        }
      ]
    },
    {
      "cell_type": "code",
      "metadata": {
        "id": "Z_ji2OF-jnNu",
        "colab_type": "code",
        "colab": {}
      },
      "source": [
        "all_nodes = list(graph.nodes)"
      ],
      "execution_count": 0,
      "outputs": []
    },
    {
      "cell_type": "code",
      "metadata": {
        "id": "1cSOQIERkCvj",
        "colab_type": "code",
        "colab": {}
      },
      "source": [
        "auc_scores = []\n",
        "accuracy_scores = []\n",
        "precision_scores = []\n",
        "recall_scores = []\n",
        "df_trains = []\n",
        "df_tests = []"
      ],
      "execution_count": 0,
      "outputs": []
    },
    {
      "cell_type": "code",
      "metadata": {
        "id": "h2HA73fEkC4l",
        "colab_type": "code",
        "colab": {}
      },
      "source": [
        "def prepare_X_y(g_train,train_edges,train_edges_false,katz_matrix,rp_matrix):\n",
        "  train_edges_len = len(train_edges)\n",
        "  is_edge = [ 1 ] * train_edges_len + [ 0 ] * train_edges_len\n",
        "  df_dict = {}\n",
        "  df_dict['is_edge'] = is_edge\n",
        "  nodes = list(g_train.nodes)\n",
        "  \n",
        "  cn_scores = [ CN_score(g_train,u,v) for (u,v) in train_edges ] + [ CN_score(g_train,u,v) for (u,v) in train_edges_false ]\n",
        "  df_dict['CN_score'] = cn_scores\n",
        "  print(\"Added CN scores....\")\n",
        "\n",
        "  aa_scores = [ AA_score(g_train,u,v) for (u,v) in train_edges ] + [ AA_score(g_train,u,v) for (u,v) in train_edges_false ]\n",
        "  df_dict['AA_score'] = aa_scores\n",
        "  print(\"Added AA scores....\")\n",
        "\n",
        "  pa_scores = [ PA_score(g_train,u,v) for (u,v) in train_edges ] + [ PA_score(g_train,u,v) for (u,v) in train_edges_false ]\n",
        "  df_dict['PA_score'] = pa_scores\n",
        "  print(\"Added PA scores....\")\n",
        "\n",
        "  ra_scores = [ RA_score(g_train,u,v) for (u,v) in train_edges ] + [ RA_score(g_train,u,v) for (u,v) in train_edges_false ]\n",
        "  df_dict['RA_score'] = ra_scores\n",
        "  print(\"Added RA scores....\")\n",
        "\n",
        "  jc_scores = [ JC_score(g_train,u,v) for (u,v) in train_edges ] + [ JC_score(g_train,u,v) for (u,v) in train_edges_false ]\n",
        "  df_dict['JC_score'] = jc_scores\n",
        "  print(\"Added JC scores....\")\n",
        "  \n",
        "#   @functools.lru_cache(maxsize=None)\n",
        "#   def RP_calc(u):\n",
        "#       return rooted_pagerank_score(g_train,u)\n",
        "\n",
        "  def RP_compute(u,v):\n",
        "      u = nodes.index(u)\n",
        "      v = nodes.index(v)\n",
        "      return rp_matrix[u,v] + rp_matrix[v,u]\n",
        "    \n",
        "  rp_scores = [ RP_compute(u, v) for (u,v) in train_edges ] + [ RP_compute(u,v) for (u,v) in train_edges_false ]\n",
        "  df_dict['RP_score'] = rp_scores\n",
        "  print(\"Added RP scores....\")\n",
        "  \n",
        "#   katz_matrix = katz_score(g_train)\n",
        "  \n",
        "  katz_scores = [ katz_matrix[nodes.index(u), nodes.index(v)] for (u,v) in train_edges ] + [ katz_matrix[nodes.index(u), nodes.index(v)] for (u,v) in train_edges_false ]\n",
        "  df_dict['KATZ_score'] = katz_scores\n",
        "  print(\"Added KATZ scores....\")\n",
        "  \n",
        "#   friends_measures = [ friends_measure(g_train,u,v) for (u,v) in train_edges ] + [ friends_measure(g_train,u,v) for (u,v) in train_edges_false ]\n",
        "#   df_dict['friends_measure'] = friends_measures\n",
        "#   print(\"Added friends measure scores....\")\n",
        "  \n",
        "  df = pd.DataFrame(df_dict)\n",
        "#   print(df)\n",
        "#   df_list.append(df)\n",
        "  df_shuffled = df.sample(frac=1).reset_index(drop=True)\n",
        "  y = df_shuffled['is_edge']\n",
        "  X = df_shuffled.drop(['is_edge'],axis =1)\n",
        "  scaler = MinMaxScaler(feature_range=(0, 1))\n",
        "  # X = scaler.fit_transform(X)\n",
        "  X = pd.DataFrame(scaler.fit_transform(X.values), columns=X.columns, index=X.index)\n",
        "  \n",
        "  return X, y\n",
        "  "
      ],
      "execution_count": 0,
      "outputs": []
    },
    {
      "cell_type": "code",
      "metadata": {
        "id": "4528vNykkC1q",
        "colab_type": "code",
        "outputId": "7a21420a-1e8a-49ce-e95e-1baf3cfd6a63",
        "colab": {
          "base_uri": "https://localhost:8080/",
          "height": 1000
        }
      },
      "source": [
        "for i in range(5):\n",
        "  print('preparing for iteration {}'.format(i))\n",
        "  test_edges = edge_folds[i]\n",
        "  test_edges_false = non_edge_folds[i]\n",
        "  train_edges = []\n",
        "  train_edges_false = []\n",
        "  for j in range(5):\n",
        "    if i == j:\n",
        "      continue\n",
        "    else:\n",
        "      train_edges += edge_folds[j]\n",
        "      train_edges_false += non_edge_folds[j]\n",
        "  \n",
        "  g_train = nx.Graph()\n",
        "  g_train.add_nodes_from(all_nodes)\n",
        "  g_train.add_edges_from(train_edges)\n",
        "  print(nx.info(g_train))\n",
        "  print('Preparing train dataset for this iteration')\n",
        "  katz_matrix = katz_score(g_train,beta = 0.001)\n",
        "  rp_matrix = rpr_matrix(g_train)\n",
        "  print(len(train_edges), len(train_edges_false))\n",
        "  print(len(test_edges), len(test_edges_false))\n",
        "  X_train , y_train = prepare_X_y(g_train,train_edges,train_edges_false,katz_matrix,rp_matrix)\n",
        "  df_trains.append((X_train,y_train))\n",
        "  print('Train set prepared')\n",
        "  \n",
        "  # Test dataset preparation\n",
        "  print('Preparing test dataset for this iteration')\n",
        "  X_test , y_test = prepare_X_y(g_train,test_edges,test_edges_false,katz_matrix,rp_matrix)\n",
        "  df_tests.append((X_test,y_test))\n",
        "  print('Test set prepared')\n",
        "  \n",
        "  clf = SVC(probability=True) \n",
        "  clf.fit(X_train, y_train)\n",
        "  \n",
        "  y_pred = clf.predict(X_test)\n",
        "  accuracy_score = metrics.accuracy_score(y_test, y_pred)\n",
        "  accuracy_scores.append(accuracy_score)\n",
        "  print(\"Accuracy score: {}\".format(float(accuracy_score)))\n",
        "  confusion = metrics.confusion_matrix(y_test, y_pred)\n",
        "  print(confusion)\n",
        "  TP = confusion[1, 1]\n",
        "  TN = confusion[0, 0]\n",
        "  FP = confusion[0, 1]\n",
        "  FN = confusion[1, 0]\n",
        "  precision = TP / float(TP + FP)\n",
        "\n",
        "  print(\"precision score: {}\".format(precision))\n",
        "  precision_scores.append(precision)\n",
        "#   print(metrics.precision_score(y_test, y_pred))\n",
        "\n",
        "  sensitivity = TP / float(FN + TP)  #recall\n",
        "  print(\"recall score: {}\".format(sensitivity))\n",
        "  recall_scores.append(sensitivity)\n",
        "#   print(metrics.recall_score(y_test, y_pred))\n",
        "\n",
        "  y_pred_prob = clf.predict_proba(X_test)[:, 1]\n",
        "  auc_score = metrics.roc_auc_score(y_test, y_pred_prob)\n",
        "  print(\"AUC score: {}\".format(auc_score))\n",
        "  auc_scores.append(auc_score)\n",
        "  \n",
        "  print('completed iteration {}'.format(i))\n",
        "  "
      ],
      "execution_count": 0,
      "outputs": [
        {
          "output_type": "stream",
          "text": [
            "preparing for iteration 0\n",
            "Name: \n",
            "Type: Graph\n",
            "Number of nodes: 10312\n",
            "Number of edges: 267186\n",
            "Average degree:  51.8204\n",
            "Preparing train dataset for this iteration\n",
            "267186 267186\n",
            "66797 66797\n",
            "Added CN scores....\n",
            "Added AA scores....\n",
            "Added PA scores....\n",
            "Added RA scores....\n",
            "Added JC scores....\n",
            "Added RP scores....\n",
            "Added KATZ scores....\n",
            "Train set prepared\n",
            "Preparing test dataset for this iteration\n",
            "Added CN scores....\n",
            "Added AA scores....\n",
            "Added PA scores....\n",
            "Added RA scores....\n",
            "Added JC scores....\n",
            "Added RP scores....\n",
            "Added KATZ scores....\n",
            "Test set prepared\n"
          ],
          "name": "stdout"
        },
        {
          "output_type": "stream",
          "text": [
            "/usr/local/lib/python3.6/dist-packages/sklearn/svm/base.py:193: FutureWarning: The default value of gamma will change from 'auto' to 'scale' in version 0.22 to account better for unscaled features. Set gamma explicitly to 'auto' or 'scale' to avoid this warning.\n",
            "  \"avoid this warning.\", FutureWarning)\n"
          ],
          "name": "stderr"
        },
        {
          "output_type": "stream",
          "text": [
            "Accuracy score: 0.5005688878243035\n",
            "[[66797     0]\n",
            " [66721    76]]\n",
            "precision score: 1.0\n",
            "recall score: 0.0011377756486069734\n",
            "AUC score: 0.9548542579495718\n",
            "completed iteration 0\n",
            "preparing for iteration 1\n",
            "Name: \n",
            "Type: Graph\n",
            "Number of nodes: 10312\n",
            "Number of edges: 267186\n",
            "Average degree:  51.8204\n",
            "Preparing train dataset for this iteration\n",
            "267186 267186\n",
            "66797 66797\n",
            "Added CN scores....\n",
            "Added AA scores....\n",
            "Added PA scores....\n",
            "Added RA scores....\n",
            "Added JC scores....\n",
            "Added RP scores....\n",
            "Added KATZ scores....\n",
            "Train set prepared\n",
            "Preparing test dataset for this iteration\n",
            "Added CN scores....\n",
            "Added AA scores....\n",
            "Added PA scores....\n",
            "Added RA scores....\n",
            "Added JC scores....\n",
            "Added RP scores....\n",
            "Added KATZ scores....\n",
            "Test set prepared\n"
          ],
          "name": "stdout"
        },
        {
          "output_type": "stream",
          "text": [
            "/usr/local/lib/python3.6/dist-packages/sklearn/svm/base.py:193: FutureWarning: The default value of gamma will change from 'auto' to 'scale' in version 0.22 to account better for unscaled features. Set gamma explicitly to 'auto' or 'scale' to avoid this warning.\n",
            "  \"avoid this warning.\", FutureWarning)\n"
          ],
          "name": "stderr"
        },
        {
          "output_type": "stream",
          "text": [
            "Accuracy score: 0.5011602317469347\n",
            "[[66797     0]\n",
            " [66642   155]]\n",
            "precision score: 1.0\n",
            "recall score: 0.0023204634938694853\n",
            "AUC score: 0.9564527907890371\n",
            "completed iteration 1\n",
            "preparing for iteration 2\n",
            "Name: \n",
            "Type: Graph\n",
            "Number of nodes: 10312\n",
            "Number of edges: 267186\n",
            "Average degree:  51.8204\n",
            "Preparing train dataset for this iteration\n",
            "267186 267186\n",
            "66797 66797\n",
            "Added CN scores....\n",
            "Added AA scores....\n",
            "Added PA scores....\n",
            "Added RA scores....\n",
            "Added JC scores....\n",
            "Added RP scores....\n",
            "Added KATZ scores....\n",
            "Train set prepared\n",
            "Preparing test dataset for this iteration\n",
            "Added CN scores....\n",
            "Added AA scores....\n",
            "Added PA scores....\n",
            "Added RA scores....\n",
            "Added JC scores....\n",
            "Added RP scores....\n",
            "Added KATZ scores....\n",
            "Test set prepared\n"
          ],
          "name": "stdout"
        },
        {
          "output_type": "stream",
          "text": [
            "/usr/local/lib/python3.6/dist-packages/sklearn/svm/base.py:193: FutureWarning: The default value of gamma will change from 'auto' to 'scale' in version 0.22 to account better for unscaled features. Set gamma explicitly to 'auto' or 'scale' to avoid this warning.\n",
            "  \"avoid this warning.\", FutureWarning)\n"
          ],
          "name": "stderr"
        },
        {
          "output_type": "stream",
          "text": [
            "Accuracy score: 0.5013773073641031\n",
            "[[66797     0]\n",
            " [66613   184]]\n",
            "precision score: 1.0\n",
            "recall score: 0.0027546147282063566\n",
            "AUC score: 0.9574252947939432\n",
            "completed iteration 2\n",
            "preparing for iteration 3\n",
            "Name: \n",
            "Type: Graph\n",
            "Number of nodes: 10312\n",
            "Number of edges: 267187\n",
            "Average degree:  51.8206\n",
            "Preparing train dataset for this iteration\n",
            "267187 267187\n",
            "66796 66796\n",
            "Added CN scores....\n",
            "Added AA scores....\n",
            "Added PA scores....\n",
            "Added RA scores....\n",
            "Added JC scores....\n",
            "Added RP scores....\n",
            "Added KATZ scores....\n",
            "Train set prepared\n",
            "Preparing test dataset for this iteration\n",
            "Added CN scores....\n",
            "Added AA scores....\n",
            "Added PA scores....\n",
            "Added RA scores....\n",
            "Added JC scores....\n",
            "Added RP scores....\n",
            "Added KATZ scores....\n",
            "Test set prepared\n"
          ],
          "name": "stdout"
        },
        {
          "output_type": "stream",
          "text": [
            "/usr/local/lib/python3.6/dist-packages/sklearn/svm/base.py:193: FutureWarning: The default value of gamma will change from 'auto' to 'scale' in version 0.22 to account better for unscaled features. Set gamma explicitly to 'auto' or 'scale' to avoid this warning.\n",
            "  \"avoid this warning.\", FutureWarning)\n"
          ],
          "name": "stderr"
        },
        {
          "output_type": "stream",
          "text": [
            "Accuracy score: 0.5013997844182286\n",
            "[[66796     0]\n",
            " [66609   187]]\n",
            "precision score: 1.0\n",
            "recall score: 0.002799568836457273\n",
            "AUC score: 0.9564631338958334\n",
            "completed iteration 3\n",
            "preparing for iteration 4\n",
            "Name: \n",
            "Type: Graph\n",
            "Number of nodes: 10312\n",
            "Number of edges: 267187\n",
            "Average degree:  51.8206\n",
            "Preparing train dataset for this iteration\n",
            "267187 267187\n",
            "66796 66796\n",
            "Added CN scores....\n",
            "Added AA scores....\n",
            "Added PA scores....\n",
            "Added RA scores....\n",
            "Added JC scores....\n",
            "Added RP scores....\n",
            "Added KATZ scores....\n",
            "Train set prepared\n",
            "Preparing test dataset for this iteration\n",
            "Added CN scores....\n",
            "Added AA scores....\n",
            "Added PA scores....\n",
            "Added RA scores....\n",
            "Added JC scores....\n",
            "Added RP scores....\n",
            "Added KATZ scores....\n",
            "Test set prepared\n"
          ],
          "name": "stdout"
        },
        {
          "output_type": "stream",
          "text": [
            "/usr/local/lib/python3.6/dist-packages/sklearn/svm/base.py:193: FutureWarning: The default value of gamma will change from 'auto' to 'scale' in version 0.22 to account better for unscaled features. Set gamma explicitly to 'auto' or 'scale' to avoid this warning.\n",
            "  \"avoid this warning.\", FutureWarning)\n"
          ],
          "name": "stderr"
        },
        {
          "output_type": "stream",
          "text": [
            "Accuracy score: 0.5014596682436074\n",
            "[[66796     0]\n",
            " [66601   195]]\n",
            "precision score: 1.0\n",
            "recall score: 0.0029193364872148035\n",
            "AUC score: 0.9538758687345903\n",
            "completed iteration 4\n"
          ],
          "name": "stdout"
        }
      ]
    },
    {
      "cell_type": "code",
      "metadata": {
        "id": "nwMinRqfkJAC",
        "colab_type": "code",
        "outputId": "b3db7903-3a92-4236-fdb4-96b552f282db",
        "colab": {
          "base_uri": "https://localhost:8080/",
          "height": 69
        }
      },
      "source": [
        "avg_precision = sum(precision_scores) / 5\n",
        "avg_recall = sum(recall_scores) / 5\n",
        "avg_scores = sum(auc_scores) / 5\n",
        "\n",
        "print('avg. presicion: {}'.format(avg_precision))\n",
        "print('avg. recall: {}'.format(avg_recall))\n",
        "print('avg. auc: {}'.format(avg_scores))"
      ],
      "execution_count": 0,
      "outputs": [
        {
          "output_type": "stream",
          "text": [
            "avg. presicion: 1.0\n",
            "avg. recall: 0.0023863518388709784\n",
            "avg. auc: 0.9558142692325952\n"
          ],
          "name": "stdout"
        }
      ]
    },
    {
      "cell_type": "markdown",
      "metadata": {
        "id": "WDFu4NujOq33",
        "colab_type": "text"
      },
      "source": [
        "NAIVE BAYES"
      ]
    },
    {
      "cell_type": "code",
      "metadata": {
        "id": "TbbVYDkLOqgs",
        "colab_type": "code",
        "outputId": "07955969-f61c-461f-c333-45c5b80561c5",
        "colab": {
          "base_uri": "https://localhost:8080/",
          "height": 1000
        }
      },
      "source": [
        "print('NAIVE BAYES')\n",
        "for i in range(5):\n",
        "  print('preparing for iteration {}'.format(i))\n",
        "  test_edges = edge_folds[i]\n",
        "  test_edges_false = non_edge_folds[i]\n",
        "  train_edges = []\n",
        "  train_edges_false = []\n",
        "  for j in range(5):\n",
        "    if i == j:\n",
        "      continue\n",
        "    else:\n",
        "      train_edges += edge_folds[j]\n",
        "      train_edges_false += non_edge_folds[j]\n",
        "  \n",
        "  g_train = nx.Graph()\n",
        "  g_train.add_nodes_from(all_nodes)\n",
        "  g_train.add_edges_from(train_edges)\n",
        "  print(nx.info(g_train))\n",
        "  print('Preparing train dataset for this iteration')\n",
        "  katz_matrix = katz_score(g_train,beta = 0.001)\n",
        "  rp_matrix = rpr_matrix(g_train)\n",
        "  print(len(train_edges), len(train_edges_false))\n",
        "  print(len(test_edges), len(test_edges_false))\n",
        "  X_train , y_train = prepare_X_y(g_train,train_edges,train_edges_false,katz_matrix,rp_matrix)\n",
        "  df_trains.append((X_train,y_train))\n",
        "  print('Train set prepared')\n",
        "  \n",
        "  # Test dataset preparation\n",
        "  print('Preparing test dataset for this iteration')\n",
        "  X_test , y_test = prepare_X_y(g_train,test_edges,test_edges_false,katz_matrix,rp_matrix)\n",
        "  df_tests.append((X_test,y_test))\n",
        "  print('Test set prepared')\n",
        "  \n",
        "  clf = GaussianNB() \n",
        "  clf.fit(X_train, y_train)\n",
        "  \n",
        "  y_pred = clf.predict(X_test)\n",
        "  accuracy_score = metrics.accuracy_score(y_test, y_pred)\n",
        "  accuracy_scores.append(accuracy_score)\n",
        "  print(\"Accuracy score: {}\".format(float(accuracy_score)))\n",
        "  confusion = metrics.confusion_matrix(y_test, y_pred)\n",
        "  print(confusion)\n",
        "  TP = confusion[1, 1]\n",
        "  TN = confusion[0, 0]\n",
        "  FP = confusion[0, 1]\n",
        "  FN = confusion[1, 0]\n",
        "  precision = TP / float(TP + FP)\n",
        "\n",
        "  print(\"precision score: {}\".format(precision))\n",
        "  precision_scores.append(precision)\n",
        "#   print(metrics.precision_score(y_test, y_pred))\n",
        "\n",
        "  sensitivity = TP / float(FN + TP)  #recall\n",
        "  print(\"recall score: {}\".format(sensitivity))\n",
        "  recall_scores.append(sensitivity)\n",
        "#   print(metrics.recall_score(y_test, y_pred))\n",
        "\n",
        "  y_pred_prob = clf.predict_proba(X_test)[:, 1]\n",
        "  auc_score = metrics.roc_auc_score(y_test, y_pred_prob)\n",
        "  print(\"AUC score: {}\".format(auc_score))\n",
        "  auc_scores.append(auc_score)\n",
        "  \n",
        "  print('completed iteration {}'.format(i))\n",
        "  "
      ],
      "execution_count": 0,
      "outputs": [
        {
          "output_type": "stream",
          "text": [
            "NAIVE BAYES\n",
            "preparing for iteration 0\n",
            "Name: \n",
            "Type: Graph\n",
            "Number of nodes: 10312\n",
            "Number of edges: 267186\n",
            "Average degree:  51.8204\n",
            "Preparing train dataset for this iteration\n",
            "267186 267186\n",
            "66797 66797\n",
            "Added CN scores....\n",
            "Added AA scores....\n",
            "Added PA scores....\n",
            "Added RA scores....\n",
            "Added JC scores....\n",
            "Added RP scores....\n",
            "Added KATZ scores....\n",
            "Train set prepared\n",
            "Preparing test dataset for this iteration\n",
            "Added CN scores....\n",
            "Added AA scores....\n",
            "Added PA scores....\n",
            "Added RA scores....\n",
            "Added JC scores....\n",
            "Added RP scores....\n",
            "Added KATZ scores....\n",
            "Test set prepared\n",
            "Accuracy score: 0.8265191550518736\n",
            "[[45482 21315]\n",
            " [ 1861 64936]]\n",
            "precision score: 0.7528724304645743\n",
            "recall score: 0.9721394673413477\n",
            "AUC score: 0.8412538819033899\n",
            "completed iteration 0\n",
            "preparing for iteration 1\n",
            "Name: \n",
            "Type: Graph\n",
            "Number of nodes: 10312\n",
            "Number of edges: 267186\n",
            "Average degree:  51.8204\n",
            "Preparing train dataset for this iteration\n",
            "267186 267186\n",
            "66797 66797\n",
            "Added CN scores....\n",
            "Added AA scores....\n",
            "Added PA scores....\n",
            "Added RA scores....\n",
            "Added JC scores....\n",
            "Added RP scores....\n",
            "Added KATZ scores....\n",
            "Train set prepared\n",
            "Preparing test dataset for this iteration\n",
            "Added CN scores....\n",
            "Added AA scores....\n",
            "Added PA scores....\n",
            "Added RA scores....\n",
            "Added JC scores....\n",
            "Added RP scores....\n",
            "Added KATZ scores....\n",
            "Test set prepared\n",
            "Accuracy score: 0.8491623875323742\n",
            "[[49297 17500]\n",
            " [ 2651 64146]]\n",
            "precision score: 0.7856600445827108\n",
            "recall score: 0.9603125888887225\n",
            "AUC score: 0.8661123602807086\n",
            "completed iteration 1\n",
            "preparing for iteration 2\n",
            "Name: \n",
            "Type: Graph\n",
            "Number of nodes: 10312\n",
            "Number of edges: 267186\n",
            "Average degree:  51.8204\n",
            "Preparing train dataset for this iteration\n",
            "267186 267186\n",
            "66797 66797\n",
            "Added CN scores....\n",
            "Added AA scores....\n",
            "Added PA scores....\n",
            "Added RA scores....\n",
            "Added JC scores....\n",
            "Added RP scores....\n",
            "Added KATZ scores....\n",
            "Train set prepared\n",
            "Preparing test dataset for this iteration\n",
            "Added CN scores....\n",
            "Added AA scores....\n",
            "Added PA scores....\n",
            "Added RA scores....\n",
            "Added JC scores....\n",
            "Added RP scores....\n",
            "Added KATZ scores....\n",
            "Test set prepared\n",
            "Accuracy score: 0.8747698249921404\n",
            "[[54355 12442]\n",
            " [ 4288 62509]]\n",
            "precision score: 0.8339982121652814\n",
            "recall score: 0.935805500247017\n",
            "AUC score: 0.8979240466394853\n",
            "completed iteration 2\n",
            "preparing for iteration 3\n",
            "Name: \n",
            "Type: Graph\n",
            "Number of nodes: 10312\n",
            "Number of edges: 267187\n",
            "Average degree:  51.8206\n",
            "Preparing train dataset for this iteration\n",
            "267187 267187\n",
            "66796 66796\n",
            "Added CN scores....\n",
            "Added AA scores....\n",
            "Added PA scores....\n",
            "Added RA scores....\n",
            "Added JC scores....\n",
            "Added RP scores....\n",
            "Added KATZ scores....\n",
            "Train set prepared\n",
            "Preparing test dataset for this iteration\n",
            "Added CN scores....\n",
            "Added AA scores....\n",
            "Added PA scores....\n",
            "Added RA scores....\n",
            "Added JC scores....\n",
            "Added RP scores....\n",
            "Added KATZ scores....\n",
            "Test set prepared\n",
            "Accuracy score: 0.8786678843044494\n",
            "[[55227 11569]\n",
            " [ 4640 62156]]\n",
            "precision score: 0.843079009833842\n",
            "recall score: 0.9305347625606324\n",
            "AUC score: 0.9031357782884257\n",
            "completed iteration 3\n",
            "preparing for iteration 4\n",
            "Name: \n",
            "Type: Graph\n",
            "Number of nodes: 10312\n",
            "Number of edges: 267187\n",
            "Average degree:  51.8206\n",
            "Preparing train dataset for this iteration\n",
            "267187 267187\n",
            "66796 66796\n",
            "Added CN scores....\n",
            "Added AA scores....\n",
            "Added PA scores....\n",
            "Added RA scores....\n",
            "Added JC scores....\n",
            "Added RP scores....\n",
            "Added KATZ scores....\n",
            "Train set prepared\n",
            "Preparing test dataset for this iteration\n",
            "Added CN scores....\n",
            "Added AA scores....\n",
            "Added PA scores....\n",
            "Added RA scores....\n",
            "Added JC scores....\n",
            "Added RP scores....\n",
            "Added KATZ scores....\n",
            "Test set prepared\n",
            "Accuracy score: 0.8819165818312473\n",
            "[[56229 10567]\n",
            " [ 5208 61588]]\n",
            "precision score: 0.8535513824405793\n",
            "recall score: 0.9220312593568477\n",
            "AUC score: 0.9090208966175772\n",
            "completed iteration 4\n"
          ],
          "name": "stdout"
        }
      ]
    },
    {
      "cell_type": "code",
      "metadata": {
        "id": "wRBf6-XNOp04",
        "colab_type": "code",
        "outputId": "658952c7-89f2-425b-d8d7-36c248ffa393",
        "colab": {
          "base_uri": "https://localhost:8080/",
          "height": 69
        }
      },
      "source": [
        "avg_precision = sum(precision_scores) / 5\n",
        "avg_recall = sum(recall_scores) / 5\n",
        "avg_scores = sum(auc_scores) / 5\n",
        "\n",
        "print('avg. presicion: {}'.format(avg_precision))\n",
        "print('avg. recall: {}'.format(avg_recall))\n",
        "print('avg. auc: {}'.format(avg_scores))"
      ],
      "execution_count": 0,
      "outputs": [
        {
          "output_type": "stream",
          "text": [
            "avg. presicion: 0.8138322158973976\n",
            "avg. recall: 0.9441647156789135\n",
            "avg. auc: 0.8834893927459173\n"
          ],
          "name": "stdout"
        }
      ]
    },
    {
      "cell_type": "markdown",
      "metadata": {
        "id": "QvJI0g9vE5E4",
        "colab_type": "text"
      },
      "source": [
        "PCA MODELLING"
      ]
    },
    {
      "cell_type": "code",
      "metadata": {
        "id": "YfLH0oNrkJEW",
        "colab_type": "code",
        "colab": {}
      },
      "source": [
        "def prepare_X_y_PCA(g_train,train_edges,train_edges_false,katz_matrix,rp_matrix):\n",
        "  train_edges_len = len(train_edges)\n",
        "  is_edge = [ 1 ] * train_edges_len + [ 0 ] * train_edges_len\n",
        "  df_dict = {}\n",
        "  df_dict['is_edge'] = is_edge\n",
        "  nodes = list(g_train.nodes)\n",
        "  \n",
        "  cn_scores = [ CN_score(g_train,u,v) for (u,v) in train_edges ] + [ CN_score(g_train,u,v) for (u,v) in train_edges_false ]\n",
        "  df_dict['CN_score'] = cn_scores\n",
        "  print(\"Added CN scores....\")\n",
        "\n",
        "  aa_scores = [ AA_score(g_train,u,v) for (u,v) in train_edges ] + [ AA_score(g_train,u,v) for (u,v) in train_edges_false ]\n",
        "  df_dict['AA_score'] = aa_scores\n",
        "  print(\"Added AA scores....\")\n",
        "\n",
        "  pa_scores = [ PA_score(g_train,u,v) for (u,v) in train_edges ] + [ PA_score(g_train,u,v) for (u,v) in train_edges_false ]\n",
        "  df_dict['PA_score'] = pa_scores\n",
        "  print(\"Added PA scores....\")\n",
        "\n",
        "  ra_scores = [ RA_score(g_train,u,v) for (u,v) in train_edges ] + [ RA_score(g_train,u,v) for (u,v) in train_edges_false ]\n",
        "  df_dict['RA_score'] = ra_scores\n",
        "  print(\"Added RA scores....\")\n",
        "\n",
        "  jc_scores = [ JC_score(g_train,u,v) for (u,v) in train_edges ] + [ JC_score(g_train,u,v) for (u,v) in train_edges_false ]\n",
        "  df_dict['JC_score'] = jc_scores\n",
        "  print(\"Added JC scores....\")\n",
        "  \n",
        "#   @functools.lru_cache(maxsize=None)\n",
        "#   def RP_calc(u):\n",
        "#       return rooted_pagerank_score(g_train,u)\n",
        "\n",
        "  def RP_compute(u,v):\n",
        "      u = nodes.index(u)\n",
        "      v = nodes.index(v)\n",
        "      return rp_matrix[u,v] + rp_matrix[v,u]\n",
        "    \n",
        "  rp_scores = [ RP_compute(u, v) for (u,v) in train_edges ] + [ RP_compute(u,v) for (u,v) in train_edges_false ]\n",
        "  df_dict['RP_score'] = rp_scores\n",
        "  print(\"Added RP scores....\")\n",
        "  \n",
        "#   katz_matrix = katz_score(g_train)\n",
        "  \n",
        "  katz_scores = [ katz_matrix[nodes.index(u), nodes.index(v)] for (u,v) in train_edges ] + [ katz_matrix[nodes.index(u), nodes.index(v)] for (u,v) in train_edges_false ]\n",
        "  df_dict['KATZ_score'] = katz_scores\n",
        "  print(\"Added KATZ scores....\")\n",
        "  \n",
        "#   friends_measures = [ friends_measure(g_train,u,v) for (u,v) in train_edges ] + [ friends_measure(g_train,u,v) for (u,v) in train_edges_false ]\n",
        "#   df_dict['friends_measure'] = friends_measures\n",
        "#   print(\"Added friends measure scores....\")\n",
        "  \n",
        "  df = pd.DataFrame(df_dict)\n",
        "#   print(df)\n",
        "#   df_list.append(df)\n",
        "  df_shuffled = df.sample(frac=1).reset_index(drop=True)\n",
        "  y = df_shuffled['is_edge']\n",
        "  X = df_shuffled.drop(['is_edge'],axis =1)\n",
        "#   scaler = MinMaxScaler(feature_range=(0, 1))\n",
        "  scaler = StandardScaler()\n",
        "  # X = scaler.fit_transform(X)\n",
        "  X = pd.DataFrame(scaler.fit_transform(X.values), columns=X.columns, index=X.index)\n",
        "  \n",
        "  return X, y\n",
        "  "
      ],
      "execution_count": 0,
      "outputs": []
    },
    {
      "cell_type": "code",
      "metadata": {
        "id": "4jmOC2VQF5uY",
        "colab_type": "code",
        "outputId": "21299591-af6f-45e8-ee3c-cec14667de2d",
        "colab": {
          "base_uri": "https://localhost:8080/",
          "height": 1000
        }
      },
      "source": [
        "for i in range(5):\n",
        "  print('preparing for iteration {}'.format(i))\n",
        "  test_edges = edge_folds[i]\n",
        "  test_edges_false = non_edge_folds[i]\n",
        "  train_edges = []\n",
        "  train_edges_false = []\n",
        "  for j in range(5):\n",
        "    if i == j:\n",
        "      continue\n",
        "    else:\n",
        "      train_edges += edge_folds[j]\n",
        "      train_edges_false += non_edge_folds[j]\n",
        "  \n",
        "  g_train = nx.Graph()\n",
        "  g_train.add_nodes_from(all_nodes)\n",
        "  g_train.add_edges_from(train_edges)\n",
        "  print(nx.info(g_train))\n",
        "  print('Preparing train dataset for this iteration')\n",
        "  katz_matrix = katz_score(g_train,beta = 0.001)\n",
        "  rp_matrix = rpr_matrix(g_train)\n",
        "  print(len(train_edges), len(train_edges_false))\n",
        "  print(len(test_edges), len(test_edges_false))\n",
        "  X_train , y_train = prepare_X_y_PCA(g_train,train_edges,train_edges_false,katz_matrix,rp_matrix)\n",
        "  df_trains.append((X_train,y_train))\n",
        "  print('Train set prepared')\n",
        "  \n",
        "  # Test dataset preparation\n",
        "  print('Preparing test dataset for this iteration')\n",
        "  X_test , y_test = prepare_X_y_PCA(g_train,test_edges,test_edges_false,katz_matrix,rp_matrix)\n",
        "  df_tests.append((X_test,y_test))\n",
        "  print('Test set prepared')\n",
        "  \n",
        "  print('PCA modelling....')\n",
        "  \n",
        "  pca = PCA(.95)\n",
        "  pca.fit(X_train)\n",
        "  print(\"No. of pca components: {}\".format(pca.n_components_)) \n",
        "  X_train_pca = pca.transform(X_train)\n",
        "  X_test_pca = pca.transform(X_test)\n",
        "  print(pca.explained_variance_)\n",
        "  \n",
        "  \n",
        "  clf = SVC(probability=True, kernel='linear') \n",
        "  clf.fit(X_train_pca, y_train)\n",
        "  \n",
        "  y_pred = clf.predict(X_test_pca)\n",
        "  accuracy_score = metrics.accuracy_score(y_test, y_pred)\n",
        "  accuracy_scores.append(accuracy_score)\n",
        "  print(\"Accuracy score: {}\".format(float(accuracy_score)))\n",
        "  confusion = metrics.confusion_matrix(y_test, y_pred)\n",
        "  print(confusion)\n",
        "  TP = confusion[1, 1]\n",
        "  TN = confusion[0, 0]\n",
        "  FP = confusion[0, 1]\n",
        "  FN = confusion[1, 0]\n",
        "  precision = TP / float(TP + FP)\n",
        "\n",
        "  print(\"precision score: {}\".format(precision))\n",
        "  precision_scores.append(precision)\n",
        "#   print(metrics.precision_score(y_test, y_pred))\n",
        "\n",
        "  sensitivity = TP / float(FN + TP)  #recall\n",
        "  print(\"recall score: {}\".format(sensitivity))\n",
        "  recall_scores.append(sensitivity)\n",
        "#   print(metrics.recall_score(y_test, y_pred))\n",
        "\n",
        "  y_pred_prob = clf.predict_proba(X_test_pca)[:, 1]\n",
        "  auc_score = metrics.roc_auc_score(y_test, y_pred_prob)\n",
        "  print(\"AUC score: {}\".format(auc_score))\n",
        "  auc_scores.append(auc_score)\n",
        "  \n",
        "  print('completed iteration {}'.format(i))\n",
        "  "
      ],
      "execution_count": 0,
      "outputs": [
        {
          "output_type": "stream",
          "text": [
            "preparing for iteration 0\n",
            "Name: \n",
            "Type: Graph\n",
            "Number of nodes: 10312\n",
            "Number of edges: 267186\n",
            "Average degree:  51.8204\n",
            "Preparing train dataset for this iteration\n",
            "267186 267186\n",
            "66797 66797\n",
            "Added CN scores....\n",
            "Added AA scores....\n",
            "Added PA scores....\n",
            "Added RA scores....\n",
            "Added JC scores....\n",
            "Added RP scores....\n",
            "Added KATZ scores....\n",
            "Train set prepared\n",
            "Preparing test dataset for this iteration\n",
            "Added CN scores....\n",
            "Added AA scores....\n",
            "Added PA scores....\n",
            "Added RA scores....\n",
            "Added JC scores....\n",
            "Added RP scores....\n",
            "Added KATZ scores....\n",
            "Test set prepared\n",
            "PCA modelling....\n",
            "No. of pca components: 4\n",
            "[4.25153855 1.30722759 0.88200709 0.41244067]\n",
            "Accuracy score: 0.8400452116112999\n",
            "[[64788  2009]\n",
            " [19360 47437]]\n",
            "precision score: 0.9593698175787728\n",
            "recall score: 0.7101666242495921\n",
            "AUC score: 0.9576056732124164\n",
            "completed iteration 0\n",
            "preparing for iteration 1\n",
            "Name: \n",
            "Type: Graph\n",
            "Number of nodes: 10312\n",
            "Number of edges: 267186\n",
            "Average degree:  51.8204\n",
            "Preparing train dataset for this iteration\n",
            "267186 267186\n",
            "66797 66797\n",
            "Added CN scores....\n",
            "Added AA scores....\n",
            "Added PA scores....\n",
            "Added RA scores....\n",
            "Added JC scores....\n",
            "Added RP scores....\n",
            "Added KATZ scores....\n",
            "Train set prepared\n",
            "Preparing test dataset for this iteration\n",
            "Added CN scores....\n",
            "Added AA scores....\n",
            "Added PA scores....\n",
            "Added RA scores....\n",
            "Added JC scores....\n",
            "Added RP scores....\n",
            "Added KATZ scores....\n",
            "Test set prepared\n",
            "PCA modelling....\n",
            "No. of pca components: 4\n",
            "[4.25536838 1.3066047  0.8826518  0.41384342]\n",
            "Accuracy score: 0.826384418461907\n",
            "[[65152  1645]\n",
            " [21549 45248]]\n",
            "precision score: 0.9649201373339304\n",
            "recall score: 0.6773956914232675\n",
            "AUC score: 0.9570144412391351\n",
            "completed iteration 1\n",
            "preparing for iteration 2\n",
            "Name: \n",
            "Type: Graph\n",
            "Number of nodes: 10312\n",
            "Number of edges: 267186\n",
            "Average degree:  51.8204\n",
            "Preparing train dataset for this iteration\n",
            "267186 267186\n",
            "66797 66797\n",
            "Added CN scores....\n",
            "Added AA scores....\n",
            "Added PA scores....\n",
            "Added RA scores....\n",
            "Added JC scores....\n",
            "Added RP scores....\n",
            "Added KATZ scores....\n",
            "Train set prepared\n",
            "Preparing test dataset for this iteration\n",
            "Added CN scores....\n",
            "Added AA scores....\n",
            "Added PA scores....\n",
            "Added RA scores....\n",
            "Added JC scores....\n",
            "Added RP scores....\n",
            "Added KATZ scores....\n",
            "Test set prepared\n",
            "PCA modelling....\n",
            "No. of pca components: 4\n",
            "[4.25366795 1.30933552 0.88176355 0.41053364]\n",
            "Accuracy score: 0.8647244636735183\n",
            "[[63884  2913]\n",
            " [15159 51638]]\n",
            "precision score: 0.9466004289563894\n",
            "recall score: 0.7730586702995643\n",
            "AUC score: 0.9578019381289631\n",
            "completed iteration 2\n",
            "preparing for iteration 3\n",
            "Name: \n",
            "Type: Graph\n",
            "Number of nodes: 10312\n",
            "Number of edges: 267187\n",
            "Average degree:  51.8206\n",
            "Preparing train dataset for this iteration\n",
            "267187 267187\n",
            "66796 66796\n",
            "Added CN scores....\n",
            "Added AA scores....\n",
            "Added PA scores....\n",
            "Added RA scores....\n",
            "Added JC scores....\n",
            "Added RP scores....\n",
            "Added KATZ scores....\n",
            "Train set prepared\n",
            "Preparing test dataset for this iteration\n",
            "Added CN scores....\n",
            "Added AA scores....\n",
            "Added PA scores....\n",
            "Added RA scores....\n",
            "Added JC scores....\n",
            "Added RP scores....\n",
            "Added KATZ scores....\n",
            "Test set prepared\n",
            "PCA modelling....\n",
            "No. of pca components: 4\n",
            "[4.25237825 1.30751976 0.882037   0.41297129]\n",
            "Accuracy score: 0.8606278819090963\n",
            "[[64060  2736]\n",
            " [15883 50913]]\n",
            "precision score: 0.949001845327965\n",
            "recall score: 0.7622163003772681\n",
            "AUC score: 0.9572919500074879\n",
            "completed iteration 3\n",
            "preparing for iteration 4\n",
            "Name: \n",
            "Type: Graph\n",
            "Number of nodes: 10312\n",
            "Number of edges: 267187\n",
            "Average degree:  51.8206\n",
            "Preparing train dataset for this iteration\n",
            "267187 267187\n",
            "66796 66796\n",
            "Added CN scores....\n",
            "Added AA scores....\n",
            "Added PA scores....\n",
            "Added RA scores....\n",
            "Added JC scores....\n",
            "Added RP scores....\n",
            "Added KATZ scores....\n",
            "Train set prepared\n",
            "Preparing test dataset for this iteration\n",
            "Added CN scores....\n",
            "Added AA scores....\n",
            "Added PA scores....\n",
            "Added RA scores....\n",
            "Added JC scores....\n",
            "Added RP scores....\n",
            "Added KATZ scores....\n",
            "Test set prepared\n",
            "PCA modelling....\n",
            "No. of pca components: 4\n",
            "[4.25473801 1.30673834 0.88301995 0.41345759]\n",
            "Accuracy score: 0.8591382717527996\n",
            "[[64153  2643]\n",
            " [16175 50621]]\n",
            "precision score: 0.9503792430159207\n",
            "recall score: 0.7578447811246183\n",
            "AUC score: 0.9573369506232344\n",
            "completed iteration 4\n"
          ],
          "name": "stdout"
        }
      ]
    },
    {
      "cell_type": "code",
      "metadata": {
        "id": "p3esP__okJIa",
        "colab_type": "code",
        "outputId": "e1bc33a1-4b03-4e52-ff0a-d66f99188918",
        "colab": {
          "base_uri": "https://localhost:8080/",
          "height": 69
        }
      },
      "source": [
        "avg_precision = sum(precision_scores) / 5\n",
        "avg_recall = sum(recall_scores) / 5\n",
        "avg_scores = sum(auc_scores) / 5\n",
        "\n",
        "print('avg. presicion: {}'.format(avg_precision))\n",
        "print('avg. recall: {}'.format(avg_recall))\n",
        "print('avg. auc: {}'.format(avg_scores))"
      ],
      "execution_count": 0,
      "outputs": [
        {
          "output_type": "stream",
          "text": [
            "avg. presicion: 0.9540542944425956\n",
            "avg. recall: 0.736136413494862\n",
            "avg. auc: 0.9574101906422474\n"
          ],
          "name": "stdout"
        }
      ]
    },
    {
      "cell_type": "markdown",
      "metadata": {
        "id": "nx6ArcQEJUon",
        "colab_type": "text"
      },
      "source": [
        "SVD MODELLING"
      ]
    },
    {
      "cell_type": "code",
      "metadata": {
        "id": "IMF7FLOjkCzD",
        "colab_type": "code",
        "outputId": "50fe6a24-4667-4661-cca3-577a946e34f7",
        "colab": {
          "base_uri": "https://localhost:8080/",
          "height": 1000
        }
      },
      "source": [
        "for i in range(5):\n",
        "  print('preparing for iteration {}'.format(i))\n",
        "  test_edges = edge_folds[i]\n",
        "  test_edges_false = non_edge_folds[i]\n",
        "  train_edges = []\n",
        "  train_edges_false = []\n",
        "  for j in range(5):\n",
        "    if i == j:\n",
        "      continue\n",
        "    else:\n",
        "      train_edges += edge_folds[j]\n",
        "      train_edges_false += non_edge_folds[j]\n",
        "  \n",
        "  g_train = nx.Graph()\n",
        "  g_train.add_nodes_from(all_nodes)\n",
        "  g_train.add_edges_from(train_edges)\n",
        "  print(nx.info(g_train))\n",
        "  print('Preparing train dataset for this iteration')\n",
        "  katz_matrix = katz_score(g_train,beta = 0.001)\n",
        "  rp_matrix = rpr_matrix(g_train)\n",
        "  print(len(train_edges), len(train_edges_false))\n",
        "  print(len(test_edges), len(test_edges_false))\n",
        "  X_train , y_train = prepare_X_y_PCA(g_train,train_edges,train_edges_false,katz_matrix,rp_matrix)\n",
        "  df_trains.append((X_train,y_train))\n",
        "  print('Train set prepared')\n",
        "  \n",
        "  # Test dataset preparation\n",
        "  print('Preparing test dataset for this iteration')\n",
        "  X_test , y_test = prepare_X_y_PCA(g_train,test_edges,test_edges_false,katz_matrix,rp_matrix)\n",
        "  df_tests.append((X_test,y_test))\n",
        "  print('Test set prepared')\n",
        "  \n",
        "  print('SVD modelling....')\n",
        "  \n",
        "  svd = TruncatedSVD(n_components=4)\n",
        "  svd.fit(X_train)\n",
        "#   print(\"No. of pca components: {}\".format(svd.n_components_)) \n",
        "  X_train_svd = svd.transform(X_train)\n",
        "  X_test_svd = svd.transform(X_test)\n",
        "  print(svd.explained_variance_)\n",
        "  \n",
        "  \n",
        "  clf = SVC(probability=True ,kernel='linear') \n",
        "  clf.fit(X_train_svd, y_train)\n",
        "  \n",
        "  y_pred = clf.predict(X_test_svd)\n",
        "  accuracy_score = metrics.accuracy_score(y_test, y_pred)\n",
        "  accuracy_scores.append(accuracy_score)\n",
        "  print(\"Accuracy score: {}\".format(float(accuracy_score)))\n",
        "  confusion = metrics.confusion_matrix(y_test, y_pred)\n",
        "  print(confusion)\n",
        "  TP = confusion[1, 1]\n",
        "  TN = confusion[0, 0]\n",
        "  FP = confusion[0, 1]\n",
        "  FN = confusion[1, 0]\n",
        "  precision = TP / float(TP + FP)\n",
        "\n",
        "  print(\"precision score: {}\".format(precision))\n",
        "  precision_scores.append(precision)\n",
        "#   print(metrics.precision_score(y_test, y_pred))\n",
        "\n",
        "  sensitivity = TP / float(FN + TP)  #recall\n",
        "  print(\"recall score: {}\".format(sensitivity))\n",
        "  recall_scores.append(sensitivity)\n",
        "#   print(metrics.recall_score(y_test, y_pred))\n",
        "\n",
        "  y_pred_prob = clf.predict_proba(X_test_svd)[:, 1]\n",
        "  auc_score = metrics.roc_auc_score(y_test, y_pred_prob)\n",
        "  print(\"AUC score: {}\".format(auc_score))\n",
        "  auc_scores.append(auc_score)\n",
        "  \n",
        "  print('completed iteration {}'.format(i))\n",
        "  "
      ],
      "execution_count": 0,
      "outputs": [
        {
          "output_type": "stream",
          "text": [
            "preparing for iteration 0\n",
            "Name: \n",
            "Type: Graph\n",
            "Number of nodes: 10312\n",
            "Number of edges: 267186\n",
            "Average degree:  51.8204\n",
            "Preparing train dataset for this iteration\n",
            "267186 267186\n",
            "66797 66797\n",
            "Added CN scores....\n",
            "Added AA scores....\n",
            "Added PA scores....\n",
            "Added RA scores....\n",
            "Added JC scores....\n",
            "Added RP scores....\n",
            "Added KATZ scores....\n",
            "Train set prepared\n",
            "Preparing test dataset for this iteration\n",
            "Added CN scores....\n",
            "Added AA scores....\n",
            "Added PA scores....\n",
            "Added RA scores....\n",
            "Added JC scores....\n",
            "Added RP scores....\n",
            "Added KATZ scores....\n",
            "Test set prepared\n",
            "SVD modelling....\n",
            "[4.25251517 1.30806765 0.8840835  0.41204676]\n",
            "Accuracy score: 0.8632049343533392\n",
            "[[63886  2911]\n",
            " [15364 51433]]\n",
            "precision score: 0.9464338289415575\n",
            "recall score: 0.7699896701947693\n",
            "AUC score: 0.9568907299232083\n",
            "completed iteration 0\n",
            "preparing for iteration 1\n",
            "Name: \n",
            "Type: Graph\n",
            "Number of nodes: 10312\n",
            "Number of edges: 267186\n",
            "Average degree:  51.8204\n",
            "Preparing train dataset for this iteration\n",
            "267186 267186\n",
            "66797 66797\n",
            "Added CN scores....\n",
            "Added AA scores....\n",
            "Added PA scores....\n",
            "Added RA scores....\n",
            "Added JC scores....\n",
            "Added RP scores....\n",
            "Added KATZ scores....\n",
            "Train set prepared\n",
            "Preparing test dataset for this iteration\n",
            "Added CN scores....\n",
            "Added AA scores....\n",
            "Added PA scores....\n",
            "Added RA scores....\n",
            "Added JC scores....\n",
            "Added RP scores....\n",
            "Added KATZ scores....\n",
            "Test set prepared\n",
            "SVD modelling....\n",
            "[4.25262722 1.30725451 0.88323175 0.41304543]\n",
            "Accuracy score: 0.8681153345210114\n",
            "[[63778  3019]\n",
            " [14600 52197]]\n",
            "precision score: 0.9453238191828456\n",
            "recall score: 0.781427309609713\n",
            "AUC score: 0.9571751059261446\n",
            "completed iteration 1\n",
            "preparing for iteration 2\n",
            "Name: \n",
            "Type: Graph\n",
            "Number of nodes: 10312\n",
            "Number of edges: 267186\n",
            "Average degree:  51.8204\n",
            "Preparing train dataset for this iteration\n",
            "267186 267186\n",
            "66797 66797\n",
            "Added CN scores....\n",
            "Added AA scores....\n",
            "Added PA scores....\n",
            "Added RA scores....\n",
            "Added JC scores....\n",
            "Added RP scores....\n",
            "Added KATZ scores....\n",
            "Train set prepared\n",
            "Preparing test dataset for this iteration\n",
            "Added CN scores....\n",
            "Added AA scores....\n",
            "Added PA scores....\n",
            "Added RA scores....\n",
            "Added JC scores....\n",
            "Added RP scores....\n",
            "Added KATZ scores....\n",
            "Test set prepared\n",
            "SVD modelling....\n",
            "[4.24981034 1.30885682 0.88041489 0.41133644]\n",
            "Accuracy score: 0.8644699612258036\n",
            "[[63888  2909]\n",
            " [15197 51600]]\n",
            "precision score: 0.9466326661652205\n",
            "recall score: 0.7724897824752609\n",
            "AUC score: 0.9568139020762279\n",
            "completed iteration 2\n",
            "preparing for iteration 3\n",
            "Name: \n",
            "Type: Graph\n",
            "Number of nodes: 10312\n",
            "Number of edges: 267187\n",
            "Average degree:  51.8206\n",
            "Preparing train dataset for this iteration\n",
            "267187 267187\n",
            "66796 66796\n",
            "Added CN scores....\n",
            "Added AA scores....\n",
            "Added PA scores....\n",
            "Added RA scores....\n",
            "Added JC scores....\n",
            "Added RP scores....\n",
            "Added KATZ scores....\n",
            "Train set prepared\n",
            "Preparing test dataset for this iteration\n",
            "Added CN scores....\n",
            "Added AA scores....\n",
            "Added PA scores....\n",
            "Added RA scores....\n",
            "Added JC scores....\n",
            "Added RP scores....\n",
            "Added KATZ scores....\n",
            "Test set prepared\n",
            "SVD modelling....\n",
            "[4.25481463 1.30729486 0.88212598 0.41376824]\n",
            "Accuracy score: 0.8635397329181388\n",
            "[[63879  2917]\n",
            " [15313 51483]]\n",
            "precision score: 0.9463786764705883\n",
            "recall score: 0.7707497454937421\n",
            "AUC score: 0.9574976476888206\n",
            "completed iteration 3\n",
            "preparing for iteration 4\n",
            "Name: \n",
            "Type: Graph\n",
            "Number of nodes: 10312\n",
            "Number of edges: 267187\n",
            "Average degree:  51.8206\n",
            "Preparing train dataset for this iteration\n",
            "267187 267187\n",
            "66796 66796\n",
            "Added CN scores....\n",
            "Added AA scores....\n",
            "Added PA scores....\n",
            "Added RA scores....\n",
            "Added JC scores....\n",
            "Added RP scores....\n",
            "Added KATZ scores....\n",
            "Train set prepared\n",
            "Preparing test dataset for this iteration\n",
            "Added CN scores....\n",
            "Added AA scores....\n",
            "Added PA scores....\n",
            "Added RA scores....\n",
            "Added JC scores....\n",
            "Added RP scores....\n",
            "Added KATZ scores....\n",
            "Test set prepared\n",
            "SVD modelling....\n",
            "[4.25580301 1.3091265  0.88245381 0.41140415]\n",
            "Accuracy score: 0.8698350200610815\n",
            "[[63716  3080]\n",
            " [14309 52487]]\n",
            "precision score: 0.9445714182878328\n",
            "recall score: 0.7857805856638123\n",
            "AUC score: 0.9573776824678789\n",
            "completed iteration 4\n"
          ],
          "name": "stdout"
        }
      ]
    },
    {
      "cell_type": "code",
      "metadata": {
        "id": "HYO215XtkCr6",
        "colab_type": "code",
        "outputId": "5cefae8c-af55-41d5-8f33-fbb7cf2615dc",
        "colab": {
          "base_uri": "https://localhost:8080/",
          "height": 69
        }
      },
      "source": [
        "avg_precision = sum(precision_scores) / 5\n",
        "avg_recall = sum(recall_scores) / 5\n",
        "avg_scores = sum(auc_scores) / 5\n",
        "\n",
        "print('avg. presicion: {}'.format(avg_precision))\n",
        "print('avg. recall: {}'.format(avg_recall))\n",
        "print('avg. auc: {}'.format(avg_scores))"
      ],
      "execution_count": 0,
      "outputs": [
        {
          "output_type": "stream",
          "text": [
            "avg. presicion: 0.945868081809609\n",
            "avg. recall: 0.7760874186874596\n",
            "avg. auc: 0.957151013616456\n"
          ],
          "name": "stdout"
        }
      ]
    },
    {
      "cell_type": "code",
      "metadata": {
        "id": "ziQ5WsTGxPHe",
        "colab_type": "code",
        "colab": {}
      },
      "source": [
        "# df_dict['node1'] = [ x[0] for x in edges ] + [ x[0] for x in marked_non_edges]\n",
        "# df_dict['node2'] = [ x[1] for x in edges ] + [ x[1] for x in marked_non_edges]"
      ],
      "execution_count": 0,
      "outputs": []
    },
    {
      "cell_type": "code",
      "metadata": {
        "id": "DeTPKe1evQoF",
        "colab_type": "code",
        "colab": {}
      },
      "source": [
        "# from google.colab import files\n",
        "# df.to_csv('prepared_datset2.csv', index= False)\n",
        "# files.download('prepared_datset2.csv')"
      ],
      "execution_count": 0,
      "outputs": []
    },
    {
      "cell_type": "code",
      "metadata": {
        "id": "HJ1y63_qy1vB",
        "colab_type": "code",
        "colab": {}
      },
      "source": [
        "# X['in_same_community'] = X['in_same_community'].map({True: 1, False: 0})"
      ],
      "execution_count": 0,
      "outputs": []
    },
    {
      "cell_type": "code",
      "metadata": {
        "id": "8D_H0ni_y7oY",
        "colab_type": "code",
        "colab": {}
      },
      "source": [
        "X"
      ],
      "execution_count": 0,
      "outputs": []
    },
    {
      "cell_type": "code",
      "metadata": {
        "id": "LefG9CrgzPyp",
        "colab_type": "code",
        "colab": {}
      },
      "source": [
        "X"
      ],
      "execution_count": 0,
      "outputs": []
    },
    {
      "cell_type": "code",
      "metadata": {
        "id": "9M2HtYmG1CqM",
        "colab_type": "code",
        "colab": {}
      },
      "source": [
        "# from sklearn.feature_selection import SelectKBest\n",
        "# from sklearn.feature_selection import chi2"
      ],
      "execution_count": 0,
      "outputs": []
    },
    {
      "cell_type": "code",
      "metadata": {
        "id": "1yVfhO6T1E_C",
        "colab_type": "code",
        "outputId": "ca7a6ab7-4cf1-414a-e852-89695fb14d1c",
        "colab": {
          "base_uri": "https://localhost:8080/",
          "height": 139
        }
      },
      "source": [
        "#apply SelectKBest class to extract top 10 best features\n",
        "# bestfeatures = SelectKBest(score_func=chi2, k='all')\n",
        "# fit = bestfeatures.fit(X,y)\n",
        "# dfscores = pd.DataFrame(fit.scores_)\n",
        "# dfcolumns = pd.DataFrame(X.columns)\n",
        "# #concat two dataframes for better visualization \n",
        "# featureScores = pd.concat([dfcolumns,dfscores],axis=1)\n",
        "# featureScores.columns = ['Specs','Score']  #naming the dataframe columns\n",
        "# print(featureScores.nlargest(10,'Score'))  #print 10 best features"
      ],
      "execution_count": 0,
      "outputs": [
        {
          "output_type": "stream",
          "text": [
            "        Specs          Score\n",
            "5  KATZ_score  149957.825372\n",
            "0    CN_score    6009.300830\n",
            "4    JC_score    4690.868625\n",
            "1    AA_score    4623.322931\n",
            "2    PA_score    2803.592634\n",
            "3    RA_score    1766.826813\n"
          ],
          "name": "stdout"
        }
      ]
    },
    {
      "cell_type": "code",
      "metadata": {
        "id": "jqXecnC51xWJ",
        "colab_type": "code",
        "colab": {}
      },
      "source": [
        "# from sklearn.ensemble import ExtraTreesClassifier\n",
        "# import matplotlib.pyplot as plt\n",
        "# model = ExtraTreesClassifier()\n",
        "# model.fit(X,y)\n",
        "# print(model.feature_importances_) #use inbuilt class feature_importances of tree based classifiers\n",
        "# #plot graph of feature importances for better visualization\n",
        "# feat_importances = pd.Series(model.feature_importances_, index=X.columns)\n",
        "# feat_importances.nlargest(9).plot(kind='barh')\n",
        "# plt.show()"
      ],
      "execution_count": 0,
      "outputs": []
    },
    {
      "cell_type": "code",
      "metadata": {
        "id": "y0XJrmPg1-vx",
        "colab_type": "code",
        "colab": {}
      },
      "source": [
        "import seaborn as sns"
      ],
      "execution_count": 0,
      "outputs": []
    },
    {
      "cell_type": "code",
      "metadata": {
        "id": "lhwUAh1k18iI",
        "colab_type": "code",
        "outputId": "b67c3e27-dba7-4829-e45c-df6949131085",
        "colab": {
          "base_uri": "https://localhost:8080/",
          "height": 688
        }
      },
      "source": [
        "corrmat = df.corr()\n",
        "top_corr_features = corrmat.index\n",
        "plt.figure(figsize=(10,10))\n",
        "#plot heat map\n",
        "g=sns.heatmap(df[top_corr_features].corr(),annot=True,cmap=\"RdYlGn\")"
      ],
      "execution_count": 0,
      "outputs": [
        {
          "output_type": "display_data",
          "data": {
            "image/png": "[encoded data removed]",
            "text/plain": [
              "<Figure size 720x720 with 2 Axes>"
            ]
          },
          "metadata": {
            "tags": []
          }
        }
      ]
    }
  ]
}
