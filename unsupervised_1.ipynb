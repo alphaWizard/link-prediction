{
  "nbformat": 4,
  "nbformat_minor": 0,
  "metadata": {
    "colab": {
      "name": "unsupervised_1.ipynb",
      "provenance": [],
      "collapsed_sections": []
    },
    "kernelspec": {
      "name": "python3",
      "display_name": "Python 3"
    }
  },
  "cells": [
    {
      "cell_type": "code",
      "metadata": {
        "id": "4gUe1leEde4Q",
        "colab_type": "code",
        "colab": {}
      },
      "source": [
        "import networkx as nx\n",
        "import matplotlib.pyplot as plt\n",
        "import pandas as pd\n",
        "import scipy.sparse as sp\n",
        "import numpy as np\n",
        "from sklearn.metrics import roc_auc_score\n",
        "from sklearn.metrics import average_precision_score"
      ],
      "execution_count": 0,
      "outputs": []
    },
    {
      "cell_type": "code",
      "metadata": {
        "id": "2p9c59F5do5m",
        "colab_type": "code",
        "colab": {}
      },
      "source": [
        "def load_restaurant_dataset():\n",
        "    path = 'dataset_ubicomp2013_checkins.txt'\n",
        "#     lines = (line.decode('utf-8') for line in path)\n",
        "    infile = open(path, 'r')\n",
        "    a = set()\n",
        "    b = set()\n",
        "    edges = []\n",
        "    for line in infile:\n",
        "        s=line.strip().split(None)\n",
        "        u=-1*int(s.pop(0)) -10\n",
        "        v=int(s.pop(0))\n",
        "        a.add(u)\n",
        "        b.add(v)\n",
        "        edges.append((u,v))\n",
        "    top_nodes = {}\n",
        "    bottom_nodes = {}\n",
        "    count = 0 \n",
        "    for x in a:\n",
        "        top_nodes[x] = count\n",
        "        count = count + 1\n",
        "    count  = 0    \n",
        "    for y in b:\n",
        "        bottom_nodes[y] = count\n",
        "        count  = count + 1\n",
        "    \n",
        "    A = np.zeros((len(a),len(b)))\n",
        "    for edge in edges:\n",
        "        e1 = top_nodes[edge[0]]\n",
        "        e2 = bottom_nodes[edge[1]]\n",
        "        A[e1, e2] = 1\n",
        "    \n",
        "    A = np.dot(A,A.T)\n",
        "#     print(A[:35,:35])\n",
        "    for i in range(0,A.shape[0]):  #making numpy matrix undirected graph type\n",
        "        for j in range(0,A.shape[1]):\n",
        "            if i == j :\n",
        "                A[i,j] = 0\n",
        "            else:\n",
        "                if A[i,j] > 0:\n",
        "                    A[i,j] = 1\n",
        "                    \n",
        "    G=nx.from_numpy_matrix(A)\n",
        "    return G"
      ],
      "execution_count": 0,
      "outputs": []
    },
    {
      "cell_type": "code",
      "metadata": {
        "id": "FTw3ArQod5tz",
        "colab_type": "code",
        "colab": {}
      },
      "source": [
        "graph = load_restaurant_dataset()"
      ],
      "execution_count": 0,
      "outputs": []
    },
    {
      "cell_type": "code",
      "metadata": {
        "id": "JPtPRpOpeGsZ",
        "colab_type": "code",
        "colab": {
          "base_uri": "https://localhost:8080/",
          "height": 34
        },
        "outputId": "79d4f667-c30e-4086-bbd0-aca8a5ee07aa"
      },
      "source": [
        "nx.info(graph)"
      ],
      "execution_count": 6,
      "outputs": [
        {
          "output_type": "execute_result",
          "data": {
            "text/plain": [
              "'Name: \\nType: Graph\\nNumber of nodes: 2060\\nNumber of edges: 58810\\nAverage degree:  57.0971'"
            ]
          },
          "metadata": {
            "tags": []
          },
          "execution_count": 6
        }
      ]
    },
    {
      "cell_type": "code",
      "metadata": {
        "id": "ZFDaMGBqeJYU",
        "colab_type": "code",
        "colab": {}
      },
      "source": [
        "from similarities import *\n",
        "from preprocessing import mask_test_edges"
      ],
      "execution_count": 0,
      "outputs": []
    },
    {
      "cell_type": "code",
      "metadata": {
        "id": "4-tyBPWneSCg",
        "colab_type": "code",
        "colab": {}
      },
      "source": [
        "np.random.seed(0)\n",
        "adj_sparse = nx.to_scipy_sparse_matrix(graph)"
      ],
      "execution_count": 0,
      "outputs": []
    },
    {
      "cell_type": "code",
      "metadata": {
        "id": "sq0QNxk9eUdM",
        "colab_type": "code",
        "colab": {
          "base_uri": "https://localhost:8080/",
          "height": 173
        },
        "outputId": "64d4d2ec-3047-4170-bc5f-09673215adc5"
      },
      "source": [
        "adj_train, train_edges, train_edges_false, val_edges, val_edges_false, test_edges, test_edges_false = mask_test_edges(adj_sparse, test_frac=.2, val_frac=0, prevent_disconnect=False, verbose=True)"
      ],
      "execution_count": 9,
      "outputs": [
        {
          "output_type": "stream",
          "text": [
            "preprocessing...\n",
            "generating test/val sets...\n",
            "creating false test edges...\n",
            "creating false val edges...\n",
            "creating false train edges...\n",
            "final checks for disjointness...\n",
            "creating adj_train...\n",
            "Done with train-test split!\n",
            "\n"
          ],
          "name": "stdout"
        }
      ]
    },
    {
      "cell_type": "code",
      "metadata": {
        "id": "qiuNUdfJeW0w",
        "colab_type": "code",
        "colab": {}
      },
      "source": [
        "g_train = nx.from_scipy_sparse_matrix(adj_train) # new graph object with only non-hidden edges"
      ],
      "execution_count": 0,
      "outputs": []
    },
    {
      "cell_type": "code",
      "metadata": {
        "id": "_X4piVyOeZFb",
        "colab_type": "code",
        "colab": {
          "base_uri": "https://localhost:8080/",
          "height": 121
        },
        "outputId": "797b317e-f045-4952-a301-2ed16f0946e0"
      },
      "source": [
        "# Inspect train/test split\n",
        "print(\"Total nodes:\", adj_sparse.shape[0])\n",
        "print(\"Total edges:\", int(adj_sparse.nnz/2)) # adj is symmetric, so nnz (num non-zero) = 2*num_edges\n",
        "print(\"Training edges (positive):\", len(train_edges))\n",
        "print(\"Training edges (negative):\", len(train_edges_false))\n",
        "# print(\"Validation edges (positive):\", len(val_edges))\n",
        "# print(\"Validation edges (negative):\", len(val_edges_false))\n",
        "print(\"Test edges (positive):\", len(test_edges))\n",
        "print(\"Test edges (negative):\", len(test_edges_false))"
      ],
      "execution_count": 11,
      "outputs": [
        {
          "output_type": "stream",
          "text": [
            "Total nodes: 2060\n",
            "Total edges: 58810\n",
            "Training edges (positive): 47048\n",
            "Training edges (negative): 47048\n",
            "Test edges (positive): 11762\n",
            "Test edges (negative): 11762\n"
          ],
          "name": "stdout"
        }
      ]
    },
    {
      "cell_type": "code",
      "metadata": {
        "id": "PnphD4o1eb0x",
        "colab_type": "code",
        "colab": {}
      },
      "source": [
        "def get_roc_score(edges_pos, edges_neg, score_matrix):\n",
        "    # Store positive edge predictions, actual values\n",
        "    preds_pos = []\n",
        "    pos = []\n",
        "    for edge in edges_pos:\n",
        "        preds_pos.append(score_matrix[edge[0], edge[1]]) # predicted score\n",
        "        pos.append(adj_sparse[edge[0], edge[1]]) # actual value (1 for positive)\n",
        "        \n",
        "    # Store negative edge predictions, actual values\n",
        "    preds_neg = []\n",
        "    neg = []\n",
        "    for edge in edges_neg:\n",
        "        preds_neg.append(score_matrix[edge[0], edge[1]]) # predicted score\n",
        "        neg.append(adj_sparse[edge[0], edge[1]]) # actual value (0 for negative)\n",
        "        \n",
        "    # Calculate scores\n",
        "    preds_all = np.hstack([preds_pos, preds_neg])\n",
        "    labels_all = np.hstack([np.ones(len(preds_pos)), np.zeros(len(preds_neg))])\n",
        "    roc_score = roc_auc_score(labels_all, preds_all)\n",
        "    ap_score = average_precision_score(labels_all, preds_all)\n",
        "    return roc_score, ap_score"
      ],
      "execution_count": 0,
      "outputs": []
    },
    {
      "cell_type": "code",
      "metadata": {
        "id": "esd0PFn7edsq",
        "colab_type": "code",
        "colab": {}
      },
      "source": [
        "n = 2060\n",
        "e = 58810"
      ],
      "execution_count": 0,
      "outputs": []
    },
    {
      "cell_type": "code",
      "metadata": {
        "id": "6Y7yOwC7eoZF",
        "colab_type": "code",
        "colab": {}
      },
      "source": [
        "# Compute Adamic-Adar indexes from g_train\n",
        "aa_matrix = np.zeros((n,n))\n",
        "for u, v, p in adamic_adar_score(g_train): \n",
        "    aa_matrix[u][v] = p\n",
        "    aa_matrix[v][u] = p # make sure it's symmetric\n",
        "    \n",
        "# Normalize array\n",
        "aa_matrix = aa_matrix / aa_matrix.max()"
      ],
      "execution_count": 0,
      "outputs": []
    },
    {
      "cell_type": "code",
      "metadata": {
        "id": "wI6e20m5erB4",
        "colab_type": "code",
        "colab": {
          "base_uri": "https://localhost:8080/",
          "height": 52
        },
        "outputId": "bb1750ad-8bee-470d-f38f-b4b24a70a0ea"
      },
      "source": [
        "# Calculate ROC AUC and Average Precision\n",
        "aa_roc, aa_ap = get_roc_score(test_edges, test_edges_false, aa_matrix)\n",
        "\n",
        "print('Adamic-Adar Test ROC score: ', str(aa_roc))\n",
        "print('Adamic-Adar Test AP score: ', str(aa_ap))"
      ],
      "execution_count": 15,
      "outputs": [
        {
          "output_type": "stream",
          "text": [
            "Adamic-Adar Test ROC score:  0.9665555502098081\n",
            "Adamic-Adar Test AP score:  0.9667062088924903\n"
          ],
          "name": "stdout"
        }
      ]
    },
    {
      "cell_type": "code",
      "metadata": {
        "id": "UMmEU-MUfvmO",
        "colab_type": "code",
        "colab": {}
      },
      "source": [
        "# Compute Jaccard Coefficients from g_train\n",
        "jc_matrix = np.zeros((n,n))\n",
        "for u, v, p in jaccard_coefficient_score(g_train): \n",
        "    jc_matrix[u][v] = p\n",
        "    jc_matrix[v][u] = p # make sure it's symmetric\n",
        "    \n",
        "# Normalize array\n",
        "jc_matrix = jc_matrix / jc_matrix.max()"
      ],
      "execution_count": 0,
      "outputs": []
    },
    {
      "cell_type": "code",
      "metadata": {
        "id": "RS-HYM76gEDa",
        "colab_type": "code",
        "colab": {
          "base_uri": "https://localhost:8080/",
          "height": 52
        },
        "outputId": "fd5f5eda-3148-4de6-c9a5-f9cc723e611d"
      },
      "source": [
        "# Calculate ROC AUC and Average Precision\n",
        "jc_roc, jc_ap = get_roc_score(test_edges, test_edges_false, jc_matrix)\n",
        "\n",
        "print('Jaccard Coefficient Test ROC score: ', str(jc_roc))\n",
        "print('Jaccard Coefficient Test AP score: ', str(jc_ap))"
      ],
      "execution_count": 17,
      "outputs": [
        {
          "output_type": "stream",
          "text": [
            "Jaccard Coefficient Test ROC score:  0.9692547439711509\n",
            "Jaccard Coefficient Test AP score:  0.9725807684374088\n"
          ],
          "name": "stdout"
        }
      ]
    },
    {
      "cell_type": "code",
      "metadata": {
        "id": "m4NDMq41gI4_",
        "colab_type": "code",
        "colab": {}
      },
      "source": [
        "# Calculate, store Adamic-Index scores in array\n",
        "pa_matrix = np.zeros((n,n))\n",
        "for u, v, p in preferential_attachment_score(g_train): \n",
        "    pa_matrix[u][v] = p\n",
        "    pa_matrix[v][u] = p # make sure it's symmetric\n",
        "    \n",
        "# Normalize array\n",
        "pa_matrix = pa_matrix / pa_matrix.max()"
      ],
      "execution_count": 0,
      "outputs": []
    },
    {
      "cell_type": "code",
      "metadata": {
        "id": "GDK36WhHgLwn",
        "colab_type": "code",
        "colab": {
          "base_uri": "https://localhost:8080/",
          "height": 52
        },
        "outputId": "f2e17e7c-8310-4516-9277-eb94f13d6e47"
      },
      "source": [
        "# Calculate ROC AUC and Average Precision\n",
        "pa_roc, pa_ap = get_roc_score(test_edges, test_edges_false, pa_matrix)\n",
        "\n",
        "print('Preferential Attachment Test ROC score: ', str(pa_roc))\n",
        "print('Preferential Attachment Test AP score: ', str(pa_ap))"
      ],
      "execution_count": 64,
      "outputs": [
        {
          "output_type": "stream",
          "text": [
            "Preferential Attachment Test ROC score:  0.8415557851303591\n",
            "Preferential Attachment Test AP score:  0.8347541889534089\n"
          ],
          "name": "stdout"
        }
      ]
    },
    {
      "cell_type": "code",
      "metadata": {
        "id": "LN15trIVhWPF",
        "colab_type": "code",
        "colab": {}
      },
      "source": [
        "# Calculate, store Adamic-Index scores in array\n",
        "cn_matrix = np.zeros((n,n))\n",
        "for u, v, p in common_neighbors_score(g_train): \n",
        "    cn_matrix[u][v] = p\n",
        "    cn_matrix[v][u] = p # make sure it's symmetric\n",
        "    \n",
        "# Normalize array\n",
        "cn_matrix = cn_matrix / cn_matrix.max()"
      ],
      "execution_count": 0,
      "outputs": []
    },
    {
      "cell_type": "code",
      "metadata": {
        "id": "SpBXoZrLh4jh",
        "colab_type": "code",
        "colab": {
          "base_uri": "https://localhost:8080/",
          "height": 52
        },
        "outputId": "30c55e1e-9e98-4841-bd4f-9650d45d2803"
      },
      "source": [
        "# Calculate ROC AUC and Average Precision\n",
        "cn_roc, cn_ap = get_roc_score(test_edges, test_edges_false, cn_matrix)\n",
        "\n",
        "print('Common Neighbors Test ROC score: ', str(cn_roc))\n",
        "print('Common Neighbors Test AP score: ', str(cn_ap))"
      ],
      "execution_count": 23,
      "outputs": [
        {
          "output_type": "stream",
          "text": [
            "Common Neighbors Test ROC score:  0.9595000837184562\n",
            "Common Neighbors Test AP score:  0.9552215888598393\n"
          ],
          "name": "stdout"
        }
      ]
    },
    {
      "cell_type": "code",
      "metadata": {
        "id": "_0QgmWZgiD_r",
        "colab_type": "code",
        "colab": {}
      },
      "source": [
        "# Calculate, store Adamic-Index scores in array\n",
        "ra_matrix = np.zeros((n,n))\n",
        "for u, v, p in resource_allocation_score(g_train): \n",
        "    ra_matrix[u][v] = p\n",
        "    ra_matrix[v][u] = p # make sure it's symmetric\n",
        "    \n",
        "# Normalize array\n",
        "ra_matrix = ra_matrix / ra_matrix.max()"
      ],
      "execution_count": 0,
      "outputs": []
    },
    {
      "cell_type": "code",
      "metadata": {
        "id": "V4Ktvn6iiYJS",
        "colab_type": "code",
        "colab": {
          "base_uri": "https://localhost:8080/",
          "height": 52
        },
        "outputId": "bf9f2953-ab80-4976-f941-1dec2557b254"
      },
      "source": [
        "# Calculate ROC AUC and Average Precision\n",
        "ra_roc, ra_ap = get_roc_score(test_edges, test_edges_false, ra_matrix)\n",
        "\n",
        "print('Resource Allocation Test ROC score: ', str(ra_roc))\n",
        "print('Resource Allocation Test AP score: ', str(ra_ap))"
      ],
      "execution_count": 27,
      "outputs": [
        {
          "output_type": "stream",
          "text": [
            "Resource Allocation Test ROC score:  0.976725203037134\n",
            "Resource Allocation Test AP score:  0.978957596709797\n"
          ],
          "name": "stdout"
        }
      ]
    },
    {
      "cell_type": "code",
      "metadata": {
        "id": "lGzJP6Tbit11",
        "colab_type": "code",
        "colab": {}
      },
      "source": [
        "# Calculate, store Adamic-Index scores in array\n",
        "pr_matrix = np.zeros((n,n))\n",
        "for u, v, p in list_rpr_scores(g_train): \n",
        "    pr_matrix[u][v] = p\n",
        "    pr_matrix[v][u] = p # make sure it's symmetric\n",
        "    \n",
        "# Normalize array\n",
        "pr_matrix = pr_matrix / pr_matrix.max()"
      ],
      "execution_count": 0,
      "outputs": []
    },
    {
      "cell_type": "code",
      "metadata": {
        "id": "DEn9_HG5kukw",
        "colab_type": "code",
        "colab": {
          "base_uri": "https://localhost:8080/",
          "height": 52
        },
        "outputId": "26d38bfe-31fb-492e-ffb9-c6a0443c0daf"
      },
      "source": [
        "# Calculate ROC AUC and Average Precision\n",
        "pr_roc, pr_ap = get_roc_score(test_edges, test_edges_false, pr_matrix)\n",
        "\n",
        "print('Rooted Pagerank Test ROC score: ', str(pr_roc))\n",
        "print('Rooted Pagerank Test AP score: ', str(pr_ap))"
      ],
      "execution_count": 34,
      "outputs": [
        {
          "output_type": "stream",
          "text": [
            "Rooted Pagerank Test ROC score:  0.9597723927787186\n",
            "Rooted Pagerank Test AP score:  0.958078639156332\n"
          ],
          "name": "stdout"
        }
      ]
    },
    {
      "cell_type": "code",
      "metadata": {
        "id": "CJIsIV-AkLN6",
        "colab_type": "code",
        "colab": {}
      },
      "source": [
        "# Calculate, store Adamic-Index scores in array\n",
        "katz_matrix = np.zeros((n,n))\n",
        "for u, v, p in list_katz_scores(g_train): \n",
        "    katz_matrix[u][v] = p\n",
        "    katz_matrix[v][u] = p # make sure it's symmetric\n",
        "    \n",
        "# Normalize array\n",
        "katz_matrix = katz_matrix / katz_matrix.max()"
      ],
      "execution_count": 0,
      "outputs": []
    },
    {
      "cell_type": "code",
      "metadata": {
        "id": "A33d9C2ekX4u",
        "colab_type": "code",
        "colab": {
          "base_uri": "https://localhost:8080/",
          "height": 52
        },
        "outputId": "616c5b58-fbac-4008-9bd1-64fd97ceb1c1"
      },
      "source": [
        "# Calculate ROC AUC and Average Precision\n",
        "katz_roc, katz_ap = get_roc_score(test_edges, test_edges_false, katz_matrix)\n",
        "\n",
        "print('Katz Test ROC score: ', str(katz_roc))\n",
        "print('Katz Test AP score: ', str(katz_ap))"
      ],
      "execution_count": 33,
      "outputs": [
        {
          "output_type": "stream",
          "text": [
            "Katz Test ROC score:  0.955391688311403\n",
            "Katz Test AP score:  0.9559698862020785\n"
          ],
          "name": "stdout"
        }
      ]
    },
    {
      "cell_type": "code",
      "metadata": {
        "id": "8r0duqZ9qNR5",
        "colab_type": "code",
        "colab": {}
      },
      "source": [
        "##katz infinite length format"
      ],
      "execution_count": 0,
      "outputs": []
    },
    {
      "cell_type": "code",
      "metadata": {
        "id": "7QaLhgvv7YWA",
        "colab_type": "code",
        "colab": {}
      },
      "source": [
        "def get_roc_katz2(edges_pos, edges_neg, score_matrix):  # for katz and pr matrix scores(2 sided score)\n",
        "    # Store positive edge predictions, actual values\n",
        "    preds_pos = []\n",
        "    pos = []\n",
        "    for edge in edges_pos:\n",
        "        preds_pos.append(score_matrix[edge[0], edge[1]]+score_matrix[edge[1], edge[0]]) # predicted score\n",
        "        pos.append(adj_sparse[edge[0], edge[1]]) # actual value (1 for positive)\n",
        "        \n",
        "    # Store negative edge predictions, actual values\n",
        "    preds_neg = []\n",
        "    neg = []\n",
        "    for edge in edges_neg:\n",
        "        preds_neg.append(score_matrix[edge[0], edge[1]]+score_matrix[edge[1], edge[0]]) # predicted score\n",
        "        neg.append(adj_sparse[edge[0], edge[1]]) # actual value (0 for negative)\n",
        "        \n",
        "    # Calculate scores\n",
        "    preds_all = np.hstack([preds_pos, preds_neg])\n",
        "    labels_all = np.hstack([np.ones(len(preds_pos)), np.zeros(len(preds_neg))])\n",
        "    roc_score = roc_auc_score(labels_all, preds_all)\n",
        "    ap_score = average_precision_score(labels_all, preds_all)\n",
        "    return roc_score, ap_score"
      ],
      "execution_count": 0,
      "outputs": []
    },
    {
      "cell_type": "code",
      "metadata": {
        "id": "3GddWCp7qRbB",
        "colab_type": "code",
        "colab": {}
      },
      "source": [
        "katz_matrix2 = katz_score(g_train,beta=0.001)\n",
        "katz_matrix2 = katz_matrix2 / katz_matrix2.max()"
      ],
      "execution_count": 0,
      "outputs": []
    },
    {
      "cell_type": "code",
      "metadata": {
        "id": "sXm46oI2qhAv",
        "colab_type": "code",
        "colab": {
          "base_uri": "https://localhost:8080/",
          "height": 52
        },
        "outputId": "cf5557f3-23d1-496b-b8ed-7410722150ba"
      },
      "source": [
        "# Calculate ROC AUC and Average Precision\n",
        "katz_roc2, katz_ap2 = get_roc_katz2(test_edges, test_edges_false, katz_matrix2)\n",
        "\n",
        "print('Katz2 Test ROC score: ', str(katz_roc2))\n",
        "print('Katz2 Test AP score: ', str(katz_ap2))"
      ],
      "execution_count": 61,
      "outputs": [
        {
          "output_type": "stream",
          "text": [
            "Katz2 Test ROC score:  0.9553909582506136\n",
            "Katz2 Test AP score:  0.9559683511903705\n"
          ],
          "name": "stdout"
        }
      ]
    },
    {
      "cell_type": "code",
      "metadata": {
        "id": "RyZCjvOy2885",
        "colab_type": "code",
        "colab": {}
      },
      "source": [
        "def rpr_matrix(graph, alpha=0.85):\n",
        "    D = graph.to_directed()\n",
        "    H = nx.stochastic_graph(D)\n",
        "    H = nx.to_numpy_matrix(H).transpose()\n",
        "    I = np.eye(H.shape[0])\n",
        "    S = alpha*np.linalg.inv(I - (1-alpha)*H)\n",
        "    return S"
      ],
      "execution_count": 0,
      "outputs": []
    },
    {
      "cell_type": "code",
      "metadata": {
        "id": "rSiFYVUs2-wo",
        "colab_type": "code",
        "colab": {}
      },
      "source": [
        "pr_matrix2 = rpr_matrix(g_train)\n",
        "pr_matrix2 = pr_matrix2 / pr_matrix2.max()"
      ],
      "execution_count": 0,
      "outputs": []
    },
    {
      "cell_type": "code",
      "metadata": {
        "id": "NkT7a18o3Jgd",
        "colab_type": "code",
        "colab": {
          "base_uri": "https://localhost:8080/",
          "height": 52
        },
        "outputId": "21aa409d-3a2d-4326-b6b2-503c9f948585"
      },
      "source": [
        "# Calculate ROC AUC and Average Precision\n",
        "pr_roc2, pr_ap2 = get_roc_katz2(test_edges, test_edges_false, pr_matrix2)\n",
        "\n",
        "print('Rooted Pagerank Test ROC score: ', str(pr_roc2))\n",
        "print('Rooted Pagerank Test AP score: ', str(pr_ap2))"
      ],
      "execution_count": 62,
      "outputs": [
        {
          "output_type": "stream",
          "text": [
            "Rooted Pagerank Test ROC score:  0.9758252368628019\n",
            "Rooted Pagerank Test AP score:  0.9741201118885143\n"
          ],
          "name": "stdout"
        }
      ]
    }
  ]
}