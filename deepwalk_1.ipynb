{
  "nbformat": 4,
  "nbformat_minor": 0,
  "metadata": {
    "colab": {
      "name": "deepwalk_1.ipynb",
      "provenance": [],
      "collapsed_sections": []
    },
    "kernelspec": {
      "name": "python3",
      "display_name": "Python 3"
    }
  },
  "cells": [
    {
      "cell_type": "code",
      "metadata": {
        "id": "IyadRUkRYub8",
        "colab_type": "code",
        "colab": {}
      },
      "source": [
        "import numpy as np\n",
        "import networkx as nx\n",
        "import pandas as pd\n",
        "import random\n",
        "import functools\n",
        "# from similarities import *"
      ],
      "execution_count": 0,
      "outputs": []
    },
    {
      "cell_type": "code",
      "metadata": {
        "id": "LIENslwXZwQL",
        "colab_type": "code",
        "colab": {}
      },
      "source": [
        "def load_restaurant_dataset():\n",
        "    path = 'dataset_ubicomp2013_checkins.txt'\n",
        "#     lines = (line.decode('utf-8') for line in path)\n",
        "    infile = open(path, 'r')\n",
        "    a = set()\n",
        "    b = set()\n",
        "    edges = []\n",
        "    for line in infile:\n",
        "        s=line.strip().split(None)\n",
        "        u=-1*int(s.pop(0)) -10\n",
        "        v=int(s.pop(0))\n",
        "        a.add(u)\n",
        "        b.add(v)\n",
        "        edges.append((u,v))\n",
        "    top_nodes = {}\n",
        "    bottom_nodes = {}\n",
        "    count = 0 \n",
        "    for x in a:\n",
        "        top_nodes[x] = count\n",
        "        count = count + 1\n",
        "    count  = 0    \n",
        "    for y in b:\n",
        "        bottom_nodes[y] = count\n",
        "        count  = count + 1\n",
        "    \n",
        "    A = np.zeros((len(a),len(b)))\n",
        "    for edge in edges:\n",
        "        e1 = top_nodes[edge[0]]\n",
        "        e2 = bottom_nodes[edge[1]]\n",
        "        A[e1, e2] = 1\n",
        "    \n",
        "    A = np.dot(A,A.T)\n",
        "#     print(A[:35,:35])\n",
        "    for i in range(0,A.shape[0]):  #making numpy matrix undirected graph type\n",
        "        for j in range(0,A.shape[1]):\n",
        "            if i == j :\n",
        "                A[i,j] = 0\n",
        "            else:\n",
        "                if A[i,j] > 0:\n",
        "                    A[i,j] = 1\n",
        "                    \n",
        "    G=nx.from_numpy_matrix(A)\n",
        "    return G"
      ],
      "execution_count": 0,
      "outputs": []
    },
    {
      "cell_type": "code",
      "metadata": {
        "id": "7Xvz9q8UZ2qE",
        "colab_type": "code",
        "colab": {}
      },
      "source": [
        "graph = load_restaurant_dataset()\n",
        "\n",
        "nodes = list(graph.nodes)\n",
        "# print(nx.info(graph))\n",
        "non_edges = list(nx.non_edges(graph))\n",
        "edges = list(nx.edges(graph))\n",
        "# print((non_edges))\n",
        "m = len(edges)"
      ],
      "execution_count": 0,
      "outputs": []
    },
    {
      "cell_type": "code",
      "metadata": {
        "id": "wjZL1C6haGHy",
        "colab_type": "code",
        "colab": {}
      },
      "source": [
        "from __future__ import division\n",
        "import networkx as nx\n",
        "import matplotlib.pyplot as plt\n",
        "import pandas as pd\n",
        "import scipy.sparse as sp\n",
        "import numpy as np\n",
        "from sklearn.metrics import roc_auc_score, average_precision_score, roc_curve\n",
        "from sklearn.metrics import precision_score, recall_score\n",
        "from sklearn.manifold import spectral_embedding\n",
        "import node2vec\n",
        "from gensim.models import Word2Vec\n",
        "from sklearn.linear_model import LogisticRegression\n",
        "import time\n",
        "import os\n",
        "import tensorflow as tf\n",
        "# from gae.optimizer import OptimizerAE, OptimizerVAE\n",
        "# from gae.model import GCNModelAE, GCNModelVAE\n",
        "# from gae.preprocessing import preprocess_graph, construct_feed_dict, sparse_to_tuple, mask_test_edges\n",
        "import pickle\n",
        "from copy import deepcopy\n",
        "\n",
        "\n",
        "def sigmoid(x):\n",
        "    return 1 / (1 + np.exp(-x))\n",
        "\n",
        "def get_roc_score(edges_pos, edges_neg, score_matrix, apply_sigmoid=False):\n",
        "\n",
        "    # Edge case\n",
        "    if len(edges_pos) == 0 or len(edges_neg) == 0:\n",
        "        return (None, None, None)\n",
        "\n",
        "    # Store positive edge predictions, actual values\n",
        "    preds_pos = []\n",
        "    pos = []\n",
        "    for edge in edges_pos:\n",
        "        if apply_sigmoid == True:\n",
        "            preds_pos.append(sigmoid(score_matrix[edge[0], edge[1]]))\n",
        "        else:\n",
        "            preds_pos.append(score_matrix[edge[0], edge[1]])\n",
        "        pos.append(1) # actual value (1 for positive)\n",
        "        \n",
        "    # Store negative edge predictions, actual values\n",
        "    preds_neg = []\n",
        "    neg = []\n",
        "    for edge in edges_neg:\n",
        "        if apply_sigmoid == True:\n",
        "            preds_neg.append(sigmoid(score_matrix[edge[0], edge[1]]))\n",
        "        else:\n",
        "            preds_neg.append(score_matrix[edge[0], edge[1]])\n",
        "        neg.append(0) # actual value (0 for negative)\n",
        "        \n",
        "    # Calculate scores\n",
        "    preds_all = np.hstack([preds_pos, preds_neg])\n",
        "    labels_all = np.hstack([np.ones(len(preds_pos)), np.zeros(len(preds_neg))])\n",
        "    roc_score = roc_auc_score(labels_all, preds_all)\n",
        "    # roc_curve_tuple = roc_curve(labels_all, preds_all)\n",
        "    ap_score = average_precision_score(labels_all, preds_all)\n",
        "    \n",
        "    # return roc_score, roc_curve_tuple, ap_score\n",
        "    return roc_score, ap_score\n",
        "\n",
        "\n",
        "def node2vec_scores(\n",
        "    g_train, train_test_split,\n",
        "    P = 1, # Return hyperparameter\n",
        "    Q = 1, # In-out hyperparameter\n",
        "    WINDOW_SIZE = 10, # Context size for optimization\n",
        "    NUM_WALKS = 10, # Number of walks per source\n",
        "    WALK_LENGTH = 80, # Length of walk per source\n",
        "    DIMENSIONS = 128, # Embedding dimension\n",
        "    DIRECTED = False, # Graph directed/undirected\n",
        "    WORKERS = 8, # Num. parallel workers\n",
        "    ITER = 1, # SGD epochs\n",
        "    edge_score_mode = \"edge-emb\", # Whether to use bootstrapped edge embeddings + LogReg (like in node2vec paper), \n",
        "        # or simple dot-product (like in GAE paper) for edge scoring \"dot-product\"\n",
        "    verbose=1,\n",
        "    ):\n",
        "    if g_train.is_directed():\n",
        "        DIRECTED = True\n",
        "\n",
        "    adj_train, train_edges, train_edges_false, val_edges, val_edges_false, \\\n",
        "        test_edges, test_edges_false = train_test_split # Unpack train-test split\n",
        "\n",
        "    start_time = time.time()\n",
        "\n",
        "    # Preprocessing, generate walks\n",
        "    if verbose >= 1:\n",
        "        print('Preprocessing grpah for node2vec...')\n",
        "    g_n2v = node2vec.Graph(g_train, DIRECTED, P, Q) # create node2vec graph instance\n",
        "    g_n2v.preprocess_transition_probs()\n",
        "    if verbose == 2:\n",
        "        walks = g_n2v.simulate_walks(NUM_WALKS, WALK_LENGTH, verbose=True)\n",
        "    else:\n",
        "        walks = g_n2v.simulate_walks(NUM_WALKS, WALK_LENGTH, verbose=False)\n",
        "    walks = [list(map(str, walk)) for walk in walks]\n",
        "\n",
        "    # Train skip-gram model\n",
        "    model = Word2Vec(walks, size=DIMENSIONS, window=WINDOW_SIZE, min_count=0, sg=1, workers=WORKERS, iter=ITER)\n",
        "\n",
        "    # Store embeddings mapping\n",
        "    emb_mappings = model.wv\n",
        "\n",
        "    # Create node embeddings matrix (rows = nodes, columns = embedding features)\n",
        "    emb_list = []\n",
        "    for node_index in range(0, adj_train.shape[0]):\n",
        "        node_str = str(node_index)\n",
        "        node_emb = emb_mappings[node_str]\n",
        "        emb_list.append(node_emb)\n",
        "    emb_matrix = np.vstack(emb_list)\n",
        "\n",
        "    # Generate bootstrapped edge embeddings (as is done in node2vec paper)\n",
        "        # Edge embedding for (v1, v2) = hadamard product of node embeddings for v1, v2\n",
        "    if edge_score_mode == \"edge-emb\":\n",
        "        \n",
        "        def get_edge_embeddings(edge_list):\n",
        "            embs = []\n",
        "            for edge in edge_list:\n",
        "                node1 = edge[0]\n",
        "                node2 = edge[1]\n",
        "                emb1 = emb_matrix[node1]\n",
        "                emb2 = emb_matrix[node2]\n",
        "                edge_emb = np.multiply(emb1, emb2)\n",
        "                embs.append(edge_emb)\n",
        "            embs = np.array(embs)\n",
        "            return embs\n",
        "\n",
        "        # Train-set edge embeddings\n",
        "        pos_train_edge_embs = get_edge_embeddings(train_edges)\n",
        "        neg_train_edge_embs = get_edge_embeddings(train_edges_false)\n",
        "        train_edge_embs = np.concatenate([pos_train_edge_embs, neg_train_edge_embs])\n",
        "\n",
        "        # Create train-set edge labels: 1 = real edge, 0 = false edge\n",
        "        train_edge_labels = np.concatenate([np.ones(len(train_edges)), np.zeros(len(train_edges_false))])\n",
        "\n",
        "        # Val-set edge embeddings, labels\n",
        "        if len(val_edges) > 0 and len(val_edges_false) > 0:\n",
        "            pos_val_edge_embs = get_edge_embeddings(val_edges)\n",
        "            neg_val_edge_embs = get_edge_embeddings(val_edges_false)\n",
        "            val_edge_embs = np.concatenate([pos_val_edge_embs, neg_val_edge_embs])\n",
        "            val_edge_labels = np.concatenate([np.ones(len(val_edges)), np.zeros(len(val_edges_false))])\n",
        "            \n",
        "\n",
        "        # Test-set edge embeddings, labels\n",
        "        pos_test_edge_embs = get_edge_embeddings(test_edges)\n",
        "        neg_test_edge_embs = get_edge_embeddings(test_edges_false)\n",
        "        test_edge_embs = np.concatenate([pos_test_edge_embs, neg_test_edge_embs])\n",
        "\n",
        "        # Create val-set edge labels: 1 = real edge, 0 = false edge\n",
        "        test_edge_labels = np.concatenate([np.ones(len(test_edges)), np.zeros(len(test_edges_false))])\n",
        "\n",
        "        # Train logistic regression classifier on train-set edge embeddings\n",
        "        edge_classifier = LogisticRegression(random_state=0)\n",
        "        edge_classifier.fit(train_edge_embs, train_edge_labels)\n",
        "\n",
        "        # Predicted edge scores: probability of being of class \"1\" (real edge)\n",
        "        if len(val_edges) > 0 and len(val_edges_false) > 0:\n",
        "            val_preds = edge_classifier.predict_proba(val_edge_embs)[:, 1]\n",
        "\n",
        "        test_predicted_labels = edge_classifier.predict(test_edge_embs)    \n",
        "        test_preds = edge_classifier.predict_proba(test_edge_embs)[:, 1]\n",
        "\n",
        "        runtime = time.time() - start_time\n",
        "\n",
        "        # Calculate scores\n",
        "        if len(val_edges) > 0 and len(val_edges_false) > 0:\n",
        "            n2v_val_roc = roc_auc_score(val_edge_labels, val_preds)\n",
        "            # n2v_val_roc_curve = roc_curve(val_edge_labels, val_preds)\n",
        "            n2v_val_ap = average_precision_score(val_edge_labels, val_preds)\n",
        "        else:\n",
        "            n2v_val_roc = None\n",
        "            n2v_val_roc_curve = None\n",
        "            n2v_val_ap = None\n",
        "        \n",
        "        n2v_test_roc = roc_auc_score(test_edge_labels, test_preds)\n",
        "        # n2v_test_roc_curve = roc_curve(test_edge_labels, test_preds)\n",
        "        # n2v_test_ap = average_precision_score(test_edge_labels, test_preds)\n",
        "\n",
        "        n2v_test_ap = precision_score(test_edge_labels, test_predicted_labels)\n",
        "        n2v_test_recall = recall_score(test_edge_labels, test_predicted_labels)\n",
        "\n",
        "\n",
        "    # Generate edge scores using simple dot product of node embeddings (like in GAE paper)\n",
        "    elif edge_score_mode == \"dot-product\":\n",
        "        score_matrix = np.dot(emb_matrix, emb_matrix.T)\n",
        "        runtime = time.time() - start_time\n",
        "\n",
        "        # Val set scores\n",
        "        if len(val_edges) > 0:\n",
        "            n2v_val_roc, n2v_val_ap = get_roc_score(val_edges, val_edges_false, score_matrix, apply_sigmoid=True)\n",
        "        else:\n",
        "            n2v_val_roc = None\n",
        "            n2v_val_roc_curve = None\n",
        "            n2v_val_ap = None\n",
        "        \n",
        "        # Test set scores\n",
        "        n2v_test_roc, n2v_test_ap = get_roc_score(test_edges, test_edges_false, score_matrix, apply_sigmoid=True)\n",
        "\n",
        "    else:\n",
        "        print(\"Invalid edge_score_mode! Either use edge-emb or dot-product.\")\n",
        "\n",
        "    # Record scores\n",
        "    n2v_scores = {}\n",
        "\n",
        "    n2v_scores['test_roc'] = n2v_test_roc\n",
        "    # n2v_scores['test_roc_curve'] = n2v_test_roc_curve\n",
        "    n2v_scores['test_ap'] = n2v_test_ap\n",
        "\n",
        "    n2v_scores['val_roc'] = n2v_val_roc\n",
        "    # n2v_scores['val_roc_curve'] = n2v_val_roc_curve\n",
        "    n2v_scores['val_ap'] = n2v_val_ap\n",
        "\n",
        "    if edge_score_mode == \"edge-emb\":\n",
        "      n2v_scores['test_recall'] = n2v_test_recall\n",
        "\n",
        "    n2v_scores['runtime'] = runtime\n",
        "\n",
        "    return n2v_scores\n"
      ],
      "execution_count": 0,
      "outputs": []
    },
    {
      "cell_type": "code",
      "metadata": {
        "id": "DRGxiCr9akqK",
        "colab_type": "code",
        "colab": {}
      },
      "source": [
        "from preprocessing import mask_test_edges"
      ],
      "execution_count": 0,
      "outputs": []
    },
    {
      "cell_type": "code",
      "metadata": {
        "id": "qerxYpiOa4Fg",
        "colab_type": "code",
        "colab": {}
      },
      "source": [
        "np.random.seed(0)\n",
        "adj_sparse = nx.to_scipy_sparse_matrix(graph)"
      ],
      "execution_count": 0,
      "outputs": []
    },
    {
      "cell_type": "code",
      "metadata": {
        "id": "RKvnCG69a8Em",
        "colab_type": "code",
        "outputId": "05c8aaf7-37ce-4e93-9017-36491fc7b10c",
        "colab": {
          "base_uri": "https://localhost:8080/",
          "height": 173
        }
      },
      "source": [
        "train_test_split = mask_test_edges(adj_sparse, test_frac=.2, val_frac=0, prevent_disconnect=False, verbose=True)"
      ],
      "execution_count": 0,
      "outputs": [
        {
          "output_type": "stream",
          "text": [
            "preprocessing...\n",
            "generating test/val sets...\n",
            "creating false test edges...\n",
            "creating false val edges...\n",
            "creating false train edges...\n",
            "final checks for disjointness...\n",
            "creating adj_train...\n",
            "Done with train-test split!\n",
            "\n"
          ],
          "name": "stdout"
        }
      ]
    },
    {
      "cell_type": "code",
      "metadata": {
        "id": "bes9fQl1byis",
        "colab_type": "code",
        "colab": {}
      },
      "source": [
        "adj_train, train_edges, train_edges_false, val_edges, val_edges_false, test_edges, test_edges_false = train_test_split # Unpack tuple"
      ],
      "execution_count": 0,
      "outputs": []
    },
    {
      "cell_type": "code",
      "metadata": {
        "id": "dgB9TQ-qbA2T",
        "colab_type": "code",
        "colab": {}
      },
      "source": [
        "g_train = nx.from_scipy_sparse_matrix(adj_train) # new graph object with only non-hidden edges"
      ],
      "execution_count": 0,
      "outputs": []
    },
    {
      "cell_type": "code",
      "metadata": {
        "id": "tgfq7gqQbDXG",
        "colab_type": "code",
        "outputId": "cf206f60-0023-496f-db59-61d2a5a8ebc4",
        "colab": {
          "base_uri": "https://localhost:8080/",
          "height": 121
        }
      },
      "source": [
        "# Inspect train/test split\n",
        "print(\"Total nodes:\", adj_sparse.shape[0])\n",
        "print(\"Total edges:\", int(adj_sparse.nnz/2)) # adj is symmetric, so nnz (num non-zero) = 2*num_edges\n",
        "print(\"Training edges (positive):\", len(train_edges))\n",
        "print(\"Training edges (negative):\", len(train_edges_false))\n",
        "# print(\"Validation edges (positive):\", len(val_edges))\n",
        "# print(\"Validation edges (negative):\", len(val_edges_false))\n",
        "print(\"Test edges (positive):\", len(test_edges))\n",
        "print(\"Test edges (negative):\", len(test_edges_false))"
      ],
      "execution_count": 0,
      "outputs": [
        {
          "output_type": "stream",
          "text": [
            "Total nodes: 2060\n",
            "Total edges: 58810\n",
            "Training edges (positive): 47048\n",
            "Training edges (negative): 47048\n",
            "Test edges (positive): 11762\n",
            "Test edges (negative): 11762\n"
          ],
          "name": "stdout"
        }
      ]
    },
    {
      "cell_type": "code",
      "metadata": {
        "id": "B-ZsP0ScbSMf",
        "colab_type": "code",
        "colab": {}
      },
      "source": [
        "result = node2vec_scores(g_train,train_test_split, edge_score_mode = \"dot-product\")"
      ],
      "execution_count": 0,
      "outputs": []
    },
    {
      "cell_type": "code",
      "metadata": {
        "id": "zJccXMdofVAY",
        "colab_type": "code",
        "outputId": "1b5512c9-0d5e-46e4-dce6-dca612496140",
        "colab": {
          "base_uri": "https://localhost:8080/",
          "height": 54
        }
      },
      "source": [
        "print(result)"
      ],
      "execution_count": 0,
      "outputs": [
        {
          "output_type": "stream",
          "text": [
            "{'test_roc': 0.847935949005731, 'test_ap': 0.8606663698909186, 'val_roc': None, 'val_ap': None, 'runtime': 79.90058636665344}\n"
          ],
          "name": "stdout"
        }
      ]
    },
    {
      "cell_type": "code",
      "metadata": {
        "id": "Gz7E7BslivYs",
        "colab_type": "code",
        "outputId": "85405b2a-15b5-457a-8368-32ade7c34be1",
        "colab": {
          "base_uri": "https://localhost:8080/",
          "height": 89
        }
      },
      "source": [
        "result2 = node2vec_scores(g_train,train_test_split)"
      ],
      "execution_count": 0,
      "outputs": [
        {
          "output_type": "stream",
          "text": [
            "Preprocessing grpah for node2vec...\n"
          ],
          "name": "stdout"
        },
        {
          "output_type": "stream",
          "text": [
            "/usr/local/lib/python3.6/dist-packages/sklearn/linear_model/logistic.py:432: FutureWarning: Default solver will be changed to 'lbfgs' in 0.22. Specify a solver to silence this warning.\n",
            "  FutureWarning)\n"
          ],
          "name": "stderr"
        }
      ]
    },
    {
      "cell_type": "code",
      "metadata": {
        "id": "j6E14QRLiz9k",
        "colab_type": "code",
        "outputId": "3814ef74-f55c-4134-a91d-adbd47d2b8d6",
        "colab": {
          "base_uri": "https://localhost:8080/",
          "height": 54
        }
      },
      "source": [
        "print(result2)"
      ],
      "execution_count": 0,
      "outputs": [
        {
          "output_type": "stream",
          "text": [
            "{'test_roc': 0.8668485929964879, 'test_ap': 0.8609080841638981, 'val_roc': None, 'val_ap': None, 'test_recall': 0.6609420166638327, 'runtime': 90.11052203178406}\n"
          ],
          "name": "stdout"
        }
      ]
    },
    {
      "cell_type": "code",
      "metadata": {
        "id": "JUsDiZlZ3pBJ",
        "colab_type": "code",
        "outputId": "9351eae2-1c2a-45ad-9196-4db38ba03035",
        "colab": {
          "base_uri": "https://localhost:8080/",
          "height": 89
        }
      },
      "source": [
        "result3 = node2vec_scores(g_train,train_test_split, P=0.25, Q=4)"
      ],
      "execution_count": 0,
      "outputs": [
        {
          "output_type": "stream",
          "text": [
            "Preprocessing grpah for node2vec...\n"
          ],
          "name": "stdout"
        },
        {
          "output_type": "stream",
          "text": [
            "/usr/local/lib/python3.6/dist-packages/sklearn/linear_model/logistic.py:432: FutureWarning: Default solver will be changed to 'lbfgs' in 0.22. Specify a solver to silence this warning.\n",
            "  FutureWarning)\n"
          ],
          "name": "stderr"
        }
      ]
    },
    {
      "cell_type": "code",
      "metadata": {
        "id": "nQ7O1gUt34ku",
        "colab_type": "code",
        "outputId": "5542b4d6-bf88-4e63-abc4-85b0f348aadd",
        "colab": {
          "base_uri": "https://localhost:8080/",
          "height": 54
        }
      },
      "source": [
        "print(result3)"
      ],
      "execution_count": 0,
      "outputs": [
        {
          "output_type": "stream",
          "text": [
            "{'test_roc': 0.8613931812206622, 'test_ap': 0.8540840602696272, 'val_roc': None, 'val_ap': None, 'test_recall': 0.6409624213569121, 'runtime': 101.73448371887207}\n"
          ],
          "name": "stdout"
        }
      ]
    },
    {
      "cell_type": "code",
      "metadata": {
        "id": "ARjzDKl38FU-",
        "colab_type": "code",
        "outputId": "e12c27ad-df25-44eb-c7c1-b6a102e12c4a",
        "colab": {
          "base_uri": "https://localhost:8080/",
          "height": 89
        }
      },
      "source": [
        "result4 = node2vec_scores(g_train,train_test_split, P=4, Q=0.25)"
      ],
      "execution_count": 0,
      "outputs": [
        {
          "output_type": "stream",
          "text": [
            "Preprocessing grpah for node2vec...\n"
          ],
          "name": "stdout"
        },
        {
          "output_type": "stream",
          "text": [
            "/usr/local/lib/python3.6/dist-packages/sklearn/linear_model/logistic.py:432: FutureWarning: Default solver will be changed to 'lbfgs' in 0.22. Specify a solver to silence this warning.\n",
            "  FutureWarning)\n"
          ],
          "name": "stderr"
        }
      ]
    },
    {
      "cell_type": "code",
      "metadata": {
        "id": "coa9FJ5c8G2-",
        "colab_type": "code",
        "outputId": "7963c861-770b-4801-9144-edb6eaf65ab3",
        "colab": {
          "base_uri": "https://localhost:8080/",
          "height": 54
        }
      },
      "source": [
        "print(result4)"
      ],
      "execution_count": 0,
      "outputs": [
        {
          "output_type": "stream",
          "text": [
            "{'test_roc': 0.8671120148315968, 'test_ap': 0.8499203398831652, 'val_roc': None, 'val_ap': None, 'test_recall': 0.6803264750892706, 'runtime': 101.26861524581909}\n"
          ],
          "name": "stdout"
        }
      ]
    },
    {
      "cell_type": "code",
      "metadata": {
        "id": "TATELQnF82xH",
        "colab_type": "code",
        "outputId": "32a25be0-2841-4968-8051-6d41a1c89a61",
        "colab": {
          "base_uri": "https://localhost:8080/",
          "height": 89
        }
      },
      "source": [
        "result5 = node2vec_scores(g_train,train_test_split, P=4, Q=0.5)"
      ],
      "execution_count": 0,
      "outputs": [
        {
          "output_type": "stream",
          "text": [
            "Preprocessing grpah for node2vec...\n"
          ],
          "name": "stdout"
        },
        {
          "output_type": "stream",
          "text": [
            "/usr/local/lib/python3.6/dist-packages/sklearn/linear_model/logistic.py:432: FutureWarning: Default solver will be changed to 'lbfgs' in 0.22. Specify a solver to silence this warning.\n",
            "  FutureWarning)\n"
          ],
          "name": "stderr"
        }
      ]
    },
    {
      "cell_type": "code",
      "metadata": {
        "id": "p0HZ1O0g879E",
        "colab_type": "code",
        "outputId": "6954d6c8-d7f0-4843-e20c-4bca1c259f9e",
        "colab": {
          "base_uri": "https://localhost:8080/",
          "height": 54
        }
      },
      "source": [
        "print(result5)"
      ],
      "execution_count": 0,
      "outputs": [
        {
          "output_type": "stream",
          "text": [
            "{'test_roc': 0.8654799169529107, 'test_ap': 0.8484294320137694, 'val_roc': None, 'val_ap': None, 'test_recall': 0.670549226322054, 'runtime': 101.64372658729553}\n"
          ],
          "name": "stdout"
        }
      ]
    },
    {
      "cell_type": "code",
      "metadata": {
        "id": "rGr26xWs9Bnf",
        "colab_type": "code",
        "outputId": "18a7a852-f34e-45b2-9644-92f8f5e2c9d1",
        "colab": {
          "base_uri": "https://localhost:8080/",
          "height": 89
        }
      },
      "source": [
        "result6 = node2vec_scores(g_train,train_test_split, P=4, Q=1)"
      ],
      "execution_count": 0,
      "outputs": [
        {
          "output_type": "stream",
          "text": [
            "Preprocessing grpah for node2vec...\n"
          ],
          "name": "stdout"
        },
        {
          "output_type": "stream",
          "text": [
            "/usr/local/lib/python3.6/dist-packages/sklearn/linear_model/logistic.py:432: FutureWarning: Default solver will be changed to 'lbfgs' in 0.22. Specify a solver to silence this warning.\n",
            "  FutureWarning)\n"
          ],
          "name": "stderr"
        }
      ]
    },
    {
      "cell_type": "code",
      "metadata": {
        "id": "pwojYNg19Ezk",
        "colab_type": "code",
        "outputId": "387a0e3c-bcfa-4659-8140-c0b4589706b9",
        "colab": {
          "base_uri": "https://localhost:8080/",
          "height": 54
        }
      },
      "source": [
        "print(result6)"
      ],
      "execution_count": 0,
      "outputs": [
        {
          "output_type": "stream",
          "text": [
            "{'test_roc': 0.8616300967892909, 'test_ap': 0.8554623679337763, 'val_roc': None, 'val_ap': None, 'test_recall': 0.6677435810236354, 'runtime': 102.32482194900513}\n"
          ],
          "name": "stdout"
        }
      ]
    },
    {
      "cell_type": "code",
      "metadata": {
        "id": "6YpN4Uw19Hux",
        "colab_type": "code",
        "outputId": "c6134aa9-f33b-4abc-fca6-32cbb36836dd",
        "colab": {
          "base_uri": "https://localhost:8080/",
          "height": 89
        }
      },
      "source": [
        "result7 = node2vec_scores(g_train,train_test_split, P=4, Q=2)"
      ],
      "execution_count": 0,
      "outputs": [
        {
          "output_type": "stream",
          "text": [
            "Preprocessing grpah for node2vec...\n"
          ],
          "name": "stdout"
        },
        {
          "output_type": "stream",
          "text": [
            "/usr/local/lib/python3.6/dist-packages/sklearn/linear_model/logistic.py:432: FutureWarning: Default solver will be changed to 'lbfgs' in 0.22. Specify a solver to silence this warning.\n",
            "  FutureWarning)\n"
          ],
          "name": "stderr"
        }
      ]
    },
    {
      "cell_type": "code",
      "metadata": {
        "id": "YQxjl6TA9NW1",
        "colab_type": "code",
        "outputId": "3f2b45f8-6fef-4124-e4a4-9eb7a38da478",
        "colab": {
          "base_uri": "https://localhost:8080/",
          "height": 54
        }
      },
      "source": [
        "print(result7)"
      ],
      "execution_count": 0,
      "outputs": [
        {
          "output_type": "stream",
          "text": [
            "{'test_roc': 0.8644823214117345, 'test_ap': 0.8590839360070129, 'val_roc': None, 'val_ap': None, 'test_recall': 0.66655330726067, 'runtime': 101.93210172653198}\n"
          ],
          "name": "stdout"
        }
      ]
    },
    {
      "cell_type": "code",
      "metadata": {
        "id": "G6yTDLJE9S0g",
        "colab_type": "code",
        "outputId": "c9adfd82-e65b-4081-cae8-3842f64a295e",
        "colab": {
          "base_uri": "https://localhost:8080/",
          "height": 89
        }
      },
      "source": [
        "result8 = node2vec_scores(g_train,train_test_split, P=1, Q=0.5)"
      ],
      "execution_count": 0,
      "outputs": [
        {
          "output_type": "stream",
          "text": [
            "Preprocessing grpah for node2vec...\n"
          ],
          "name": "stdout"
        },
        {
          "output_type": "stream",
          "text": [
            "/usr/local/lib/python3.6/dist-packages/sklearn/linear_model/logistic.py:432: FutureWarning: Default solver will be changed to 'lbfgs' in 0.22. Specify a solver to silence this warning.\n",
            "  FutureWarning)\n"
          ],
          "name": "stderr"
        }
      ]
    },
    {
      "cell_type": "code",
      "metadata": {
        "id": "Ahitrtgn9XQu",
        "colab_type": "code",
        "outputId": "1b82762b-1940-4733-d455-54bb01878a94",
        "colab": {
          "base_uri": "https://localhost:8080/",
          "height": 54
        }
      },
      "source": [
        "print(result8)"
      ],
      "execution_count": 0,
      "outputs": [
        {
          "output_type": "stream",
          "text": [
            "{'test_roc': 0.8643709618422235, 'test_ap': 0.8513864818024264, 'val_roc': None, 'val_ap': None, 'test_recall': 0.6682536983506207, 'runtime': 99.85849475860596}\n"
          ],
          "name": "stdout"
        }
      ]
    },
    {
      "cell_type": "code",
      "metadata": {
        "id": "bhhojZ4d9e-N",
        "colab_type": "code",
        "outputId": "395a1c19-f749-4c8e-a288-e1f2ca017f65",
        "colab": {
          "base_uri": "https://localhost:8080/",
          "height": 89
        }
      },
      "source": [
        "result9 = node2vec_scores(g_train,train_test_split, P=2, Q=0.5)"
      ],
      "execution_count": 0,
      "outputs": [
        {
          "output_type": "stream",
          "text": [
            "Preprocessing grpah for node2vec...\n"
          ],
          "name": "stdout"
        },
        {
          "output_type": "stream",
          "text": [
            "/usr/local/lib/python3.6/dist-packages/sklearn/linear_model/logistic.py:432: FutureWarning: Default solver will be changed to 'lbfgs' in 0.22. Specify a solver to silence this warning.\n",
            "  FutureWarning)\n"
          ],
          "name": "stderr"
        }
      ]
    },
    {
      "cell_type": "code",
      "metadata": {
        "id": "Xoe5DNmc9h-N",
        "colab_type": "code",
        "outputId": "fbedc614-8253-4166-a941-ae1d78fa686a",
        "colab": {
          "base_uri": "https://localhost:8080/",
          "height": 54
        }
      },
      "source": [
        "print(result9)"
      ],
      "execution_count": 0,
      "outputs": [
        {
          "output_type": "stream",
          "text": [
            "{'test_roc': 0.8633220885660019, 'test_ap': 0.8524286647789153, 'val_roc': None, 'val_ap': None, 'test_recall': 0.665448053052202, 'runtime': 101.16886949539185}\n"
          ],
          "name": "stdout"
        }
      ]
    },
    {
      "cell_type": "code",
      "metadata": {
        "id": "b9gE-z0Q9l0D",
        "colab_type": "code",
        "outputId": "d6266155-765d-491e-8941-c20bb7eb2aa8",
        "colab": {
          "base_uri": "https://localhost:8080/",
          "height": 89
        }
      },
      "source": [
        "result10 = node2vec_scores(g_train,train_test_split, P=2, Q=1)"
      ],
      "execution_count": 0,
      "outputs": [
        {
          "output_type": "stream",
          "text": [
            "Preprocessing grpah for node2vec...\n"
          ],
          "name": "stdout"
        },
        {
          "output_type": "stream",
          "text": [
            "/usr/local/lib/python3.6/dist-packages/sklearn/linear_model/logistic.py:432: FutureWarning: Default solver will be changed to 'lbfgs' in 0.22. Specify a solver to silence this warning.\n",
            "  FutureWarning)\n"
          ],
          "name": "stderr"
        }
      ]
    },
    {
      "cell_type": "code",
      "metadata": {
        "id": "OYrybdHM9p4Z",
        "colab_type": "code",
        "outputId": "47bf61f7-794c-4d41-d8e4-751452db5697",
        "colab": {
          "base_uri": "https://localhost:8080/",
          "height": 54
        }
      },
      "source": [
        "print(result10)"
      ],
      "execution_count": 0,
      "outputs": [
        {
          "output_type": "stream",
          "text": [
            "{'test_roc': 0.8593715127851281, 'test_ap': 0.8521422261484098, 'val_roc': None, 'val_ap': None, 'test_recall': 0.6560959020574733, 'runtime': 102.42910408973694}\n"
          ],
          "name": "stdout"
        }
      ]
    },
    {
      "cell_type": "code",
      "metadata": {
        "id": "puWPr8sI-B_R",
        "colab_type": "code",
        "outputId": "f233af57-4e0e-4e7d-f68f-7a0c3104ede6",
        "colab": {
          "base_uri": "https://localhost:8080/",
          "height": 89
        }
      },
      "source": [
        "result11 = node2vec_scores(g_train,train_test_split, P=1, Q=2)"
      ],
      "execution_count": 0,
      "outputs": [
        {
          "output_type": "stream",
          "text": [
            "Preprocessing grpah for node2vec...\n"
          ],
          "name": "stdout"
        },
        {
          "output_type": "stream",
          "text": [
            "/usr/local/lib/python3.6/dist-packages/sklearn/linear_model/logistic.py:432: FutureWarning: Default solver will be changed to 'lbfgs' in 0.22. Specify a solver to silence this warning.\n",
            "  FutureWarning)\n"
          ],
          "name": "stderr"
        }
      ]
    },
    {
      "cell_type": "code",
      "metadata": {
        "id": "torQyPLn-Fbd",
        "colab_type": "code",
        "outputId": "0a14c04a-2f72-4f19-ce2c-aca2ddc60010",
        "colab": {
          "base_uri": "https://localhost:8080/",
          "height": 54
        }
      },
      "source": [
        "print(result11)"
      ],
      "execution_count": 0,
      "outputs": [
        {
          "output_type": "stream",
          "text": [
            "{'test_roc': 0.8600772936319818, 'test_ap': 0.8589485458612975, 'val_roc': None, 'val_ap': None, 'test_recall': 0.6528651589865669, 'runtime': 101.09179306030273}\n"
          ],
          "name": "stdout"
        }
      ]
    },
    {
      "cell_type": "code",
      "metadata": {
        "id": "walMWnJ2-uYw",
        "colab_type": "code",
        "outputId": "49d2f54f-ced2-420b-d4fd-40b8cdf8c017",
        "colab": {
          "base_uri": "https://localhost:8080/",
          "height": 89
        }
      },
      "source": [
        "result12 = node2vec_scores(g_train,train_test_split, P=0.5, Q=2)"
      ],
      "execution_count": 0,
      "outputs": [
        {
          "output_type": "stream",
          "text": [
            "Preprocessing grpah for node2vec...\n"
          ],
          "name": "stdout"
        },
        {
          "output_type": "stream",
          "text": [
            "/usr/local/lib/python3.6/dist-packages/sklearn/linear_model/logistic.py:432: FutureWarning: Default solver will be changed to 'lbfgs' in 0.22. Specify a solver to silence this warning.\n",
            "  FutureWarning)\n"
          ],
          "name": "stderr"
        }
      ]
    },
    {
      "cell_type": "code",
      "metadata": {
        "id": "k9kZAxP5-xm2",
        "colab_type": "code",
        "outputId": "17c9634d-8baa-4799-d054-a39250929559",
        "colab": {
          "base_uri": "https://localhost:8080/",
          "height": 54
        }
      },
      "source": [
        "print(result12)"
      ],
      "execution_count": 0,
      "outputs": [
        {
          "output_type": "stream",
          "text": [
            "{'test_roc': 0.8658966370971326, 'test_ap': 0.8641060197663971, 'val_roc': None, 'val_ap': None, 'test_recall': 0.65414045230403, 'runtime': 101.08523321151733}\n"
          ],
          "name": "stdout"
        }
      ]
    },
    {
      "cell_type": "code",
      "metadata": {
        "id": "8NLm5wvX_l-S",
        "colab_type": "code",
        "outputId": "27b00e21-dd90-4d46-bbe0-bcc95a9ae924",
        "colab": {
          "base_uri": "https://localhost:8080/",
          "height": 89
        }
      },
      "source": [
        "result13 = node2vec_scores(g_train,train_test_split, P=0.25, Q=1)"
      ],
      "execution_count": 0,
      "outputs": [
        {
          "output_type": "stream",
          "text": [
            "Preprocessing grpah for node2vec...\n"
          ],
          "name": "stdout"
        },
        {
          "output_type": "stream",
          "text": [
            "/usr/local/lib/python3.6/dist-packages/sklearn/linear_model/logistic.py:432: FutureWarning: Default solver will be changed to 'lbfgs' in 0.22. Specify a solver to silence this warning.\n",
            "  FutureWarning)\n"
          ],
          "name": "stderr"
        }
      ]
    },
    {
      "cell_type": "code",
      "metadata": {
        "id": "59oXqAPU_ty2",
        "colab_type": "code",
        "outputId": "b39fb601-3289-49c6-ee26-feddac934f33",
        "colab": {
          "base_uri": "https://localhost:8080/",
          "height": 54
        }
      },
      "source": [
        "print(result13)"
      ],
      "execution_count": 0,
      "outputs": [
        {
          "output_type": "stream",
          "text": [
            "{'test_roc': 0.8621767388407173, 'test_ap': 0.8544282321004412, 'val_roc': None, 'val_ap': None, 'test_recall': 0.6422377146743751, 'runtime': 100.1247284412384}\n"
          ],
          "name": "stdout"
        }
      ]
    }
  ]
}