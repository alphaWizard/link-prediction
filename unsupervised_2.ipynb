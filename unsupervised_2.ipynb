{
  "nbformat": 4,
  "nbformat_minor": 0,
  "metadata": {
    "colab": {
      "name": "unsupervised_2.ipynb",
      "provenance": [],
      "collapsed_sections": [],
      "machine_shape": "hm"
    },
    "kernelspec": {
      "name": "python3",
      "display_name": "Python 3"
    },
    "accelerator": "GPU"
  },
  "cells": [
    {
      "cell_type": "code",
      "metadata": {
        "id": "C4h26hiDrxXK",
        "colab_type": "code",
        "colab": {}
      },
      "source": [
        "import networkx as nx\n",
        "import matplotlib.pyplot as plt\n",
        "import pandas as pd\n",
        "import scipy.sparse as sp\n",
        "import numpy as np\n",
        "from sklearn.metrics import roc_auc_score\n",
        "from sklearn.metrics import average_precision_score\n",
        "import pickle"
      ],
      "execution_count": 0,
      "outputs": []
    },
    {
      "cell_type": "code",
      "metadata": {
        "id": "RECVnbFtEqzX",
        "colab_type": "code",
        "outputId": "63641101-cfa5-456c-97f1-a15d986be482",
        "colab": {
          "base_uri": "https://localhost:8080/",
          "height": 34
        }
      },
      "source": [
        "path = 'edges.csv'\n",
        "graph = nx.Graph()\n",
        "edges = pd.read_csv(path, sep=',', header=None)\n",
        "graph.add_edges_from(edges.values)\n",
        "nx.info(graph)"
      ],
      "execution_count": 0,
      "outputs": [
        {
          "output_type": "execute_result",
          "data": {
            "text/plain": [
              "'Name: \\nType: Graph\\nNumber of nodes: 10312\\nNumber of edges: 333983\\nAverage degree:  64.7756'"
            ]
          },
          "metadata": {
            "tags": []
          },
          "execution_count": 2
        }
      ]
    },
    {
      "cell_type": "code",
      "metadata": {
        "id": "zKOP_S3aq-LH",
        "colab_type": "code",
        "colab": {}
      },
      "source": [
        "all_non_edges = nx.non_edges(graph)"
      ],
      "execution_count": 0,
      "outputs": []
    },
    {
      "cell_type": "code",
      "metadata": {
        "id": "mR4ujXXt0Hk4",
        "colab_type": "code",
        "outputId": "951404c3-f4d7-4501-8f42-c19dd19d3ff4",
        "colab": {
          "base_uri": "https://localhost:8080/",
          "height": 34
        }
      },
      "source": [
        "# print(len(all_non_edges))"
      ],
      "execution_count": 0,
      "outputs": [
        {
          "output_type": "stream",
          "text": [
            "52829533\n"
          ],
          "name": "stdout"
        }
      ]
    },
    {
      "cell_type": "code",
      "metadata": {
        "id": "mSLWcBwGFF9u",
        "colab_type": "code",
        "colab": {}
      },
      "source": [
        "from similarities import *"
      ],
      "execution_count": 0,
      "outputs": []
    },
    {
      "cell_type": "code",
      "metadata": {
        "id": "ytkZF9g6FQ4T",
        "colab_type": "code",
        "colab": {}
      },
      "source": [
        "from preprocessing import mask_test_edges"
      ],
      "execution_count": 0,
      "outputs": []
    },
    {
      "cell_type": "code",
      "metadata": {
        "id": "BThlNfBMHk8r",
        "colab_type": "code",
        "colab": {}
      },
      "source": [
        "np.random.seed(0)\n",
        "adj_sparse = nx.to_scipy_sparse_matrix(graph)"
      ],
      "execution_count": 0,
      "outputs": []
    },
    {
      "cell_type": "code",
      "metadata": {
        "id": "Vt6o4Qa4HvpQ",
        "colab_type": "code",
        "outputId": "753927c0-0273-4552-aea6-719e77189446",
        "colab": {
          "base_uri": "https://localhost:8080/",
          "height": 173
        }
      },
      "source": [
        "adj_train, train_edges, train_edges_false, val_edges, val_edges_false, test_edges, test_edges_false = mask_test_edges(adj_sparse, test_frac=.2, val_frac=0, prevent_disconnect=False, verbose=True)"
      ],
      "execution_count": 0,
      "outputs": [
        {
          "output_type": "stream",
          "text": [
            "preprocessing...\n",
            "generating test/val sets...\n",
            "creating false test edges...\n",
            "creating false val edges...\n",
            "creating false train edges...\n",
            "final checks for disjointness...\n",
            "creating adj_train...\n",
            "Done with train-test split!\n",
            "\n"
          ],
          "name": "stdout"
        }
      ]
    },
    {
      "cell_type": "code",
      "metadata": {
        "id": "znOXv3EONjKa",
        "colab_type": "code",
        "colab": {}
      },
      "source": [
        "g_train = nx.from_scipy_sparse_matrix(adj_train) # new graph object with only non-hidden edges"
      ],
      "execution_count": 0,
      "outputs": []
    },
    {
      "cell_type": "code",
      "metadata": {
        "id": "W-Q1UNpIIY1C",
        "colab_type": "code",
        "outputId": "d776dd87-624b-43c9-ed9e-effc8fa42924",
        "colab": {
          "base_uri": "https://localhost:8080/",
          "height": 121
        }
      },
      "source": [
        "# Inspect train/test split\n",
        "print(\"Total nodes:\", adj_sparse.shape[0])\n",
        "print(\"Total edges:\", int(adj_sparse.nnz/2)) # adj is symmetric, so nnz (num non-zero) = 2*num_edges\n",
        "print(\"Training edges (positive):\", len(train_edges))\n",
        "print(\"Training edges (negative):\", len(train_edges_false))\n",
        "# print(\"Validation edges (positive):\", len(val_edges))\n",
        "# print(\"Validation edges (negative):\", len(val_edges_false))\n",
        "print(\"Test edges (positive):\", len(test_edges))\n",
        "print(\"Test edges (negative):\", len(test_edges_false))"
      ],
      "execution_count": 0,
      "outputs": [
        {
          "output_type": "stream",
          "text": [
            "Total nodes: 10312\n",
            "Total edges: 333983\n",
            "Training edges (positive): 267187\n",
            "Training edges (negative): 267187\n",
            "Test edges (positive): 66796\n",
            "Test edges (negative): 66796\n"
          ],
          "name": "stdout"
        }
      ]
    },
    {
      "cell_type": "code",
      "metadata": {
        "id": "bANa27HeJayO",
        "colab_type": "code",
        "colab": {}
      },
      "source": [
        "def get_roc_score(edges_pos, edges_neg, score_matrix):\n",
        "    # Store positive edge predictions, actual values\n",
        "    preds_pos = []\n",
        "    pos = []\n",
        "    for edge in edges_pos:\n",
        "        preds_pos.append(score_matrix[edge[0], edge[1]]) # predicted score\n",
        "        pos.append(adj_sparse[edge[0]-1, edge[1]-1]) # actual value (1 for positive)\n",
        "        \n",
        "    # Store negative edge predictions, actual values\n",
        "    preds_neg = []\n",
        "    neg = []\n",
        "    for edge in edges_neg:\n",
        "        preds_neg.append(score_matrix[edge[0], edge[1]]) # predicted score\n",
        "        neg.append(adj_sparse[edge[0]-1, edge[1]-1]) # actual value (0 for negative)\n",
        "        \n",
        "    # Calculate scores\n",
        "    preds_all = np.hstack([preds_pos, preds_neg])\n",
        "    labels_all = np.hstack([np.ones(len(preds_pos)), np.zeros(len(preds_neg))])\n",
        "    roc_score = roc_auc_score(labels_all, preds_all)\n",
        "    ap_score = average_precision_score(labels_all, preds_all)\n",
        "    return roc_score, ap_score"
      ],
      "execution_count": 0,
      "outputs": []
    },
    {
      "cell_type": "code",
      "metadata": {
        "id": "GEyKyqQnOXAy",
        "colab_type": "code",
        "colab": {}
      },
      "source": [
        "n = 10312\n",
        "e = 333983"
      ],
      "execution_count": 0,
      "outputs": []
    },
    {
      "cell_type": "code",
      "metadata": {
        "id": "4MvE_l4-ZNY8",
        "colab_type": "code",
        "outputId": "b2f82b77-752a-4e3c-c81e-99986b65a7c9",
        "colab": {
          "base_uri": "https://localhost:8080/",
          "height": 34
        }
      },
      "source": [
        "nx.info(g_train)"
      ],
      "execution_count": 0,
      "outputs": [
        {
          "output_type": "execute_result",
          "data": {
            "text/plain": [
              "'Name: \\nType: Graph\\nNumber of nodes: 10312\\nNumber of edges: 267186\\nAverage degree:  51.8204'"
            ]
          },
          "metadata": {
            "tags": []
          },
          "execution_count": 13
        }
      ]
    },
    {
      "cell_type": "code",
      "metadata": {
        "id": "DXsoOVX_JdqF",
        "colab_type": "code",
        "colab": {}
      },
      "source": [
        "# Compute Adamic-Adar indexes from g_train\n",
        "aa_matrix = np.zeros((n+1,n+1))  ## make (n+1,n+1) as it is 1-indexed graph\n",
        "for u, v, p in nx.adamic_adar_index(g_train): \n",
        "    aa_matrix[u][v] = p\n",
        "    aa_matrix[v][u] = p # make sure it's symmetric\n",
        "    \n",
        "# Normalize array\n",
        "aa_matrix = aa_matrix / aa_matrix.max()"
      ],
      "execution_count": 0,
      "outputs": []
    },
    {
      "cell_type": "code",
      "metadata": {
        "id": "H9APnSF5l4Z5",
        "colab_type": "code",
        "outputId": "a1c04f75-7d7a-4d81-8ab7-c774da0cc771",
        "colab": {
          "base_uri": "https://localhost:8080/",
          "height": 52
        }
      },
      "source": [
        "all_non_edges = nx.non_edges(graph)  #iterator\n",
        "# Calculate ROC AUC and Average Precision\n",
        "aa_roc, aa_ap = get_roc_score(test_edges, all_non_edges, aa_matrix)\n",
        "\n",
        "print('Adamic-Adar Test ROC score: ', str(aa_roc))\n",
        "print('Adamic-Adar Test AP score: ', str(aa_ap))"
      ],
      "execution_count": 0,
      "outputs": [
        {
          "output_type": "stream",
          "text": [
            "Adamic-Adar Test ROC score:  0.9480881823221416\n",
            "Adamic-Adar Test AP score:  0.08446533458695125\n"
          ],
          "name": "stdout"
        }
      ]
    },
    {
      "cell_type": "code",
      "metadata": {
        "id": "G1iZ_ky-UrQZ",
        "colab_type": "code",
        "colab": {}
      },
      "source": [
        "# Compute Jaccard Coefficients from g_train\n",
        "jc_matrix = np.zeros((n+1,n+1))\n",
        "for u, v, p in nx.jaccard_coefficient(g_train):\n",
        "    jc_matrix[u][v] = p\n",
        "    jc_matrix[v][u] = p # make sure it's symmetric\n",
        "    \n",
        "# Normalize array\n",
        "jc_matrix = jc_matrix / jc_matrix.max()"
      ],
      "execution_count": 0,
      "outputs": []
    },
    {
      "cell_type": "code",
      "metadata": {
        "id": "eEDBdyvdIR6t",
        "colab_type": "code",
        "outputId": "d118ba42-dec9-48d4-a4c7-b9e7476519f2",
        "colab": {
          "base_uri": "https://localhost:8080/",
          "height": 52
        }
      },
      "source": [
        "all_non_edges = nx.non_edges(graph)  #iterator\n",
        "# Calculate ROC AUC and Average Precision\n",
        "jc_roc, jc_ap = get_roc_score(test_edges, all_non_edges, jc_matrix)\n",
        "\n",
        "print('Jaccard Coefficient Test ROC score: ', str(jc_roc))\n",
        "print('Jaccard Coefficient Test AP score: ', str(jc_ap))"
      ],
      "execution_count": 0,
      "outputs": [
        {
          "output_type": "stream",
          "text": [
            "Jaccard Coefficient Test ROC score:  0.7708421551368657\n",
            "Jaccard Coefficient Test AP score:  0.0035971441279551855\n"
          ],
          "name": "stdout"
        }
      ]
    },
    {
      "cell_type": "code",
      "metadata": {
        "id": "0hQtIMTIU8lw",
        "colab_type": "code",
        "cellView": "code",
        "colab": {}
      },
      "source": [
        "pa_matrix = np.zeros((n+1,n+1))\n",
        "for u, v, p in preferential_attachment_score(g_train): \n",
        "    pa_matrix[u][v] = p\n",
        "    pa_matrix[v][u] = p # make sure it's symmetric\n",
        "    \n",
        "# Normalize array\n",
        "pa_matrix = pa_matrix / pa_matrix.max()"
      ],
      "execution_count": 0,
      "outputs": []
    },
    {
      "cell_type": "code",
      "metadata": {
        "id": "Lr7hYRzC9uzV",
        "colab_type": "code",
        "colab": {}
      },
      "source": [
        "# len(list(all_non_edges))"
      ],
      "execution_count": 0,
      "outputs": []
    },
    {
      "cell_type": "code",
      "metadata": {
        "id": "NY55dFmCVG-B",
        "colab_type": "code",
        "outputId": "69af487a-e0f1-44ca-f1e3-b52e2822b1fd",
        "colab": {
          "base_uri": "https://localhost:8080/",
          "height": 52
        }
      },
      "source": [
        "# Calculate ROC AUC and Average Precision\n",
        "pa_roc, pa_ap = get_roc_score(test_edges, all_non_edges, pa_matrix)\n",
        "\n",
        "print('Preferential Attachment Test ROC score: ', str(pa_roc))\n",
        "print('Preferential Attachment Test AP score: ', str(pa_ap))"
      ],
      "execution_count": 0,
      "outputs": [
        {
          "output_type": "stream",
          "text": [
            "Preferential Attachment Test ROC score:  0.951258282249704\n",
            "Preferential Attachment Test AP score:  0.07791663976914605\n"
          ],
          "name": "stdout"
        }
      ]
    },
    {
      "cell_type": "code",
      "metadata": {
        "id": "vhQAPxMOvBiM",
        "colab_type": "code",
        "colab": {}
      },
      "source": [
        "# Calculate, store Adamic-Index scores in array\n",
        "cn_matrix = np.zeros((n+1,n+1))\n",
        "for u, v, p in common_neighbors_score(g_train): \n",
        "    cn_matrix[u][v] = p\n",
        "    cn_matrix[v][u] = p # make sure it's symmetric\n",
        "    \n",
        "# Normalize array\n",
        "cn_matrix = cn_matrix / cn_matrix.max()"
      ],
      "execution_count": 0,
      "outputs": []
    },
    {
      "cell_type": "code",
      "metadata": {
        "id": "GtIIoX9lN28H",
        "colab_type": "code",
        "outputId": "2b64740d-ad9d-46f7-baf1-960f297c2751",
        "colab": {
          "base_uri": "https://localhost:8080/",
          "height": 52
        }
      },
      "source": [
        "all_non_edges = nx.non_edges(graph)\n",
        "# Calculate ROC AUC and Average Precision\n",
        "cn_roc, cn_ap = get_roc_score(test_edges, all_non_edges, cn_matrix)\n",
        "\n",
        "print('Common Neighbors Test ROC score: ', str(cn_roc))\n",
        "print('Common Neighbors Test AP score: ', str(cn_ap))"
      ],
      "execution_count": 0,
      "outputs": [
        {
          "output_type": "stream",
          "text": [
            "Common Neighbors Test ROC score:  0.9435535406466976\n",
            "Common Neighbors Test AP score:  0.08007766303570453\n"
          ],
          "name": "stdout"
        }
      ]
    },
    {
      "cell_type": "code",
      "metadata": {
        "id": "zDHJQiUqmsDm",
        "colab_type": "code",
        "colab": {}
      },
      "source": [
        "# Calculate, store Adamic-Index scores in array\n",
        "ra_matrix = np.zeros((n+1,n+1))\n",
        "for u, v, p in resource_allocation_score(g_train): \n",
        "    ra_matrix[u][v] = p\n",
        "    ra_matrix[v][u] = p # make sure it's symmetric\n",
        "    \n",
        "# Normalize array\n",
        "ra_matrix = ra_matrix / ra_matrix.max()"
      ],
      "execution_count": 0,
      "outputs": []
    },
    {
      "cell_type": "code",
      "metadata": {
        "id": "MOFV2yRHm6tL",
        "colab_type": "code",
        "outputId": "7d7ded3c-eef3-44a0-c6c7-986ff394c4f6",
        "colab": {
          "base_uri": "https://localhost:8080/",
          "height": 52
        }
      },
      "source": [
        "all_non_edges = nx.non_edges(graph)\n",
        "# Calculate ROC AUC and Average Precision\n",
        "ra_roc, ra_ap = get_roc_score(test_edges, all_non_edges, ra_matrix)\n",
        "\n",
        "print('Resource Allocation Test ROC score: ', str(ra_roc))\n",
        "print('Resource Allocation Test AP score: ', str(ra_ap))"
      ],
      "execution_count": 0,
      "outputs": [
        {
          "output_type": "stream",
          "text": [
            "Resource Allocation Test ROC score:  0.9538787382531045\n",
            "Resource Allocation Test AP score:  0.09052325018464226\n"
          ],
          "name": "stdout"
        }
      ]
    },
    {
      "cell_type": "code",
      "metadata": {
        "id": "FRjvjWa6AzFA",
        "colab_type": "code",
        "colab": {}
      },
      "source": [
        "# Calculate, store Adamic-Index scores in array\n",
        "katz_matrix = np.zeros((n+1,n+1))\n",
        "for u, v, p in list_katz_scores(g_train): \n",
        "    katz_matrix[u][v] = p\n",
        "    katz_matrix[v][u] = p # make sure it's symmetric\n",
        "    \n",
        "# Normalize array\n",
        "katz_matrix = katz_matrix / katz_matrix.max()"
      ],
      "execution_count": 0,
      "outputs": []
    },
    {
      "cell_type": "code",
      "metadata": {
        "id": "aHpRMkwRnnUG",
        "colab_type": "code",
        "colab": {}
      },
      "source": [
        "all_non_edges = nx.non_edges(graph)\n",
        "# Calculate ROC AUC and Average Precision\n",
        "katz_roc, katz_ap = get_roc_score(test_edges, all_non_edges, katz_matrix)\n",
        "\n",
        "print('Katz Test ROC score: ', str(katz_roc))\n",
        "print('Katz Test AP score: ', str(katz_ap))"
      ],
      "execution_count": 0,
      "outputs": []
    },
    {
      "cell_type": "code",
      "metadata": {
        "id": "b6PDgWVS8nKZ",
        "colab_type": "code",
        "colab": {}
      },
      "source": [
        "##katz infinite length format"
      ],
      "execution_count": 0,
      "outputs": []
    },
    {
      "cell_type": "code",
      "metadata": {
        "id": "kdSzVuQyrgjo",
        "colab_type": "code",
        "colab": {}
      },
      "source": [
        "katz_matrix2 = katz_score(g_train,beta=0.001)\n",
        "katz_matrix2 = katz_matrix2 / katz_matrix2.max()"
      ],
      "execution_count": 0,
      "outputs": []
    },
    {
      "cell_type": "code",
      "metadata": {
        "id": "PsRFMX_FsZCo",
        "colab_type": "code",
        "colab": {}
      },
      "source": [
        "def get_roc_katz2(edges_pos, edges_neg, score_matrix):\n",
        "    # Store positive edge predictions, actual values\n",
        "    preds_pos = []\n",
        "    pos = []\n",
        "    for edge in edges_pos:\n",
        "        preds_pos.append(score_matrix[edge[0]-1, edge[1]-1]+score_matrix[edge[1]-1, edge[0]-1]) # predicted score\n",
        "        pos.append(adj_sparse[edge[0]-1, edge[1]-1]) # actual value (1 for positive)\n",
        "        \n",
        "    # Store negative edge predictions, actual values\n",
        "    preds_neg = []\n",
        "    neg = []\n",
        "    for edge in edges_neg:\n",
        "        preds_neg.append(score_matrix[edge[0]-1, edge[1]-1]+score_matrix[edge[1]-1, edge[0]-1]) # predicted score\n",
        "        neg.append(adj_sparse[edge[0]-1, edge[1]-1]) # actual value (0 for negative)\n",
        "        \n",
        "    # Calculate scores\n",
        "    preds_all = np.hstack([preds_pos, preds_neg])\n",
        "    labels_all = np.hstack([np.ones(len(preds_pos)), np.zeros(len(preds_neg))])\n",
        "#     print(labels_all)\n",
        "#     print(len(preds_pos), len(preds_neg), len(edges_neg))\n",
        "    roc_score = roc_auc_score(labels_all, preds_all)\n",
        "    ap_score = average_precision_score(labels_all, preds_all)\n",
        "    return roc_score, ap_score"
      ],
      "execution_count": 0,
      "outputs": []
    },
    {
      "cell_type": "code",
      "metadata": {
        "id": "rIAgTli-ts-k",
        "colab_type": "code",
        "outputId": "841e1f88-a528-4db2-fdde-08eef1c1e8ec",
        "colab": {
          "base_uri": "https://localhost:8080/",
          "height": 52
        }
      },
      "source": [
        "# Calculate ROC AUC and Average Precision\n",
        "katz_roc2, katz_ap2 = get_roc_katz2(test_edges, all_non_edges, katz_matrix2)\n",
        "\n",
        "print('Katz2 Test ROC score: ', str(katz_roc2))\n",
        "print('Katz2 Test AP score: ', str(katz_ap2))"
      ],
      "execution_count": 0,
      "outputs": [
        {
          "output_type": "stream",
          "text": [
            "Katz2 Test ROC score:  0.8188314501870374\n",
            "Katz2 Test AP score:  0.008561477488748583\n"
          ],
          "name": "stdout"
        }
      ]
    },
    {
      "cell_type": "code",
      "metadata": {
        "id": "4wOXASbU4l1O",
        "colab_type": "code",
        "colab": {}
      },
      "source": [
        "def rpr_matrix(graph, alpha=0.85):\n",
        "    D = graph.to_directed()\n",
        "    H = nx.stochastic_graph(D)\n",
        "    H = nx.to_numpy_matrix(H).transpose()\n",
        "    I = np.eye(H.shape[0])\n",
        "    S = alpha*np.linalg.inv(I - (1-alpha)*H)\n",
        "    return S"
      ],
      "execution_count": 0,
      "outputs": []
    },
    {
      "cell_type": "code",
      "metadata": {
        "id": "nKRvSQGo4n9t",
        "colab_type": "code",
        "colab": {}
      },
      "source": [
        "pr_matrix2 = rpr_matrix(g_train)\n",
        "pr_matrix2 = pr_matrix2 / pr_matrix2.max()"
      ],
      "execution_count": 0,
      "outputs": []
    },
    {
      "cell_type": "code",
      "metadata": {
        "id": "sshCb-MX4ovu",
        "colab_type": "code",
        "outputId": "c0ef7b2a-d525-4d0d-cc8e-bdcd7098ff49",
        "colab": {
          "base_uri": "https://localhost:8080/",
          "height": 52
        }
      },
      "source": [
        "# Calculate ROC AUC and Average Precision\n",
        "pr_roc2, pr_ap2 = get_roc_katz2(test_edges, all_non_edges, pr_matrix2)\n",
        "\n",
        "print('Rooted Pagerank Test ROC score: ', str(pr_roc2))\n",
        "print('Rooted Pagerank Test AP score: ', str(pr_ap2))"
      ],
      "execution_count": 0,
      "outputs": [
        {
          "output_type": "stream",
          "text": [
            "Rooted Pagerank Test ROC score:  0.7885410197413326\n",
            "Rooted Pagerank Test AP score:  0.005347762206385155\n"
          ],
          "name": "stdout"
        }
      ]
    }
  ]
}