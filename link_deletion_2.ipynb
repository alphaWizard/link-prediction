{
  "nbformat": 4,
  "nbformat_minor": 0,
  "metadata": {
    "colab": {
      "name": "link_deletion_2.ipynb",
      "provenance": []
    },
    "kernelspec": {
      "name": "python3",
      "display_name": "Python 3"
    },
    "accelerator": "GPU"
  },
  "cells": [
    {
      "cell_type": "code",
      "metadata": {
        "id": "jT0rkjzMrIzo",
        "colab_type": "code",
        "colab": {}
      },
      "source": [
        "import networkx as nx\n",
        "import matplotlib.pyplot as plt\n",
        "import pandas as pd\n",
        "import scipy.sparse as sp\n",
        "import numpy as np\n",
        "from sklearn.metrics import roc_auc_score\n",
        "from sklearn.metrics import average_precision_score\n",
        "import random"
      ],
      "execution_count": 0,
      "outputs": []
    },
    {
      "cell_type": "code",
      "metadata": {
        "id": "ZWDG2bpXrTPI",
        "colab_type": "code",
        "colab": {}
      },
      "source": [
        "def load_blog_dataset():\n",
        "    path = 'edges.csv'\n",
        "    G = nx.Graph()\n",
        "    edges = pd.read_csv(path, sep=',', header=None)\n",
        "    G.add_edges_from(edges.values)\n",
        "    return G"
      ],
      "execution_count": 0,
      "outputs": []
    },
    {
      "cell_type": "code",
      "metadata": {
        "id": "qDdlaYJIrqZh",
        "colab_type": "code",
        "colab": {}
      },
      "source": [
        "graph = load_blog_dataset()"
      ],
      "execution_count": 0,
      "outputs": []
    },
    {
      "cell_type": "code",
      "metadata": {
        "id": "RiUMzxeRrza8",
        "colab_type": "code",
        "outputId": "08c23227-52f3-403e-ee90-7b9bdbd8366e",
        "colab": {
          "base_uri": "https://localhost:8080/",
          "height": 34
        }
      },
      "source": [
        "nx.info(graph)"
      ],
      "execution_count": 0,
      "outputs": [
        {
          "output_type": "execute_result",
          "data": {
            "text/plain": [
              "'Name: \\nType: Graph\\nNumber of nodes: 10312\\nNumber of edges: 333983\\nAverage degree:  64.7756'"
            ]
          },
          "metadata": {
            "tags": []
          },
          "execution_count": 10
        }
      ]
    },
    {
      "cell_type": "code",
      "metadata": {
        "id": "ODsBahNar34C",
        "colab_type": "code",
        "colab": {}
      },
      "source": [
        "from similarities import *"
      ],
      "execution_count": 0,
      "outputs": []
    },
    {
      "cell_type": "code",
      "metadata": {
        "id": "yDKpkyrWr531",
        "colab_type": "code",
        "colab": {}
      },
      "source": [
        "np.random.seed(0)\n",
        "adj_sparse = nx.to_scipy_sparse_matrix(graph)"
      ],
      "execution_count": 0,
      "outputs": []
    },
    {
      "cell_type": "code",
      "metadata": {
        "id": "fJ1E1N8Zr8Ig",
        "colab_type": "code",
        "colab": {}
      },
      "source": [
        "edges = list(nx.edges(graph))"
      ],
      "execution_count": 0,
      "outputs": []
    },
    {
      "cell_type": "code",
      "metadata": {
        "id": "dklSIAd0sIZN",
        "colab_type": "code",
        "outputId": "f05bbce6-cbfa-45b5-9518-a2d94490d942",
        "colab": {
          "base_uri": "https://localhost:8080/",
          "height": 34
        }
      },
      "source": [
        "len(edges)"
      ],
      "execution_count": 0,
      "outputs": [
        {
          "output_type": "execute_result",
          "data": {
            "text/plain": [
              "333983"
            ]
          },
          "metadata": {
            "tags": []
          },
          "execution_count": 14
        }
      ]
    },
    {
      "cell_type": "code",
      "metadata": {
        "id": "Gd5EMl8lr970",
        "colab_type": "code",
        "outputId": "ae90a11f-d153-4d27-ec9c-e4e902105373",
        "colab": {
          "base_uri": "https://localhost:8080/",
          "height": 34
        }
      },
      "source": [
        "non_edges = list(nx.non_edges(graph))\n",
        "len(non_edges)"
      ],
      "execution_count": 0,
      "outputs": [
        {
          "output_type": "execute_result",
          "data": {
            "text/plain": [
              "52829533"
            ]
          },
          "metadata": {
            "tags": []
          },
          "execution_count": 15
        }
      ]
    },
    {
      "cell_type": "code",
      "metadata": {
        "id": "TXRy5Uc6sCvA",
        "colab_type": "code",
        "colab": {}
      },
      "source": [
        "selected_new_edges = random.sample(non_edges,333983)"
      ],
      "execution_count": 0,
      "outputs": []
    },
    {
      "cell_type": "code",
      "metadata": {
        "id": "Hi0lvbezsOXx",
        "colab_type": "code",
        "outputId": "982899de-c316-4e67-ab02-d59a6774fcb9",
        "colab": {
          "base_uri": "https://localhost:8080/",
          "height": 34
        }
      },
      "source": [
        "len(selected_new_edges)"
      ],
      "execution_count": 0,
      "outputs": [
        {
          "output_type": "execute_result",
          "data": {
            "text/plain": [
              "333983"
            ]
          },
          "metadata": {
            "tags": []
          },
          "execution_count": 17
        }
      ]
    },
    {
      "cell_type": "code",
      "metadata": {
        "id": "IeKhrTC-sRJV",
        "colab_type": "code",
        "outputId": "580f305a-0ea9-471c-8f05-29d8759afe63",
        "colab": {
          "base_uri": "https://localhost:8080/",
          "height": 34
        }
      },
      "source": [
        "g_train = nx.Graph()\n",
        "g_train.add_edges_from(graph.edges)\n",
        "g_train.add_edges_from(selected_new_edges)\n",
        "nx.info(g_train)"
      ],
      "execution_count": 0,
      "outputs": [
        {
          "output_type": "execute_result",
          "data": {
            "text/plain": [
              "'Name: \\nType: Graph\\nNumber of nodes: 10312\\nNumber of edges: 667966\\nAverage degree: 129.5512'"
            ]
          },
          "metadata": {
            "tags": []
          },
          "execution_count": 18
        }
      ]
    },
    {
      "cell_type": "code",
      "metadata": {
        "id": "_4CbdTvKsU9m",
        "colab_type": "code",
        "colab": {}
      },
      "source": [
        "nodes = list(g_train.nodes())"
      ],
      "execution_count": 0,
      "outputs": []
    },
    {
      "cell_type": "code",
      "metadata": {
        "id": "jfutMTBasX25",
        "colab_type": "code",
        "colab": {}
      },
      "source": [
        "labels_all = [1]*333983 + [0]*333983"
      ],
      "execution_count": 0,
      "outputs": []
    },
    {
      "cell_type": "code",
      "metadata": {
        "id": "JNEJe3izscIZ",
        "colab_type": "code",
        "colab": {}
      },
      "source": [
        "actual_edge_scores = []\n",
        "new_edge_scores = []\n",
        "for ed in edges:\n",
        "  actual_edge_scores.append(PA_score(g_train,ed[0],ed[1]))\n",
        "for ed in selected_new_edges:\n",
        "  new_edge_scores.append(PA_score(g_train,ed[0],ed[1]))\n",
        "  \n",
        "preds_all = actual_edge_scores + new_edge_scores  \n",
        "roc_score = roc_auc_score(labels_all, preds_all)\n",
        "ap_score = average_precision_score(labels_all, preds_all)"
      ],
      "execution_count": 0,
      "outputs": []
    },
    {
      "cell_type": "code",
      "metadata": {
        "id": "XJ0X_JchsltS",
        "colab_type": "code",
        "outputId": "400dd6b1-627d-40cf-bfa8-bad5352a34ef",
        "colab": {
          "base_uri": "https://localhost:8080/",
          "height": 69
        }
      },
      "source": [
        "print(\"Preferential attachment model\")\n",
        "print('Test ROC score: ', str(roc_score))\n",
        "print('Test AP score: ', str(ap_score))"
      ],
      "execution_count": 0,
      "outputs": [
        {
          "output_type": "stream",
          "text": [
            "Preferential attachment model\n",
            "Test ROC score:  0.9487277655690727\n",
            "Test AP score:  0.9486412574388965\n"
          ],
          "name": "stdout"
        }
      ]
    },
    {
      "cell_type": "code",
      "metadata": {
        "id": "Nlxb4fYPsqIS",
        "colab_type": "code",
        "colab": {}
      },
      "source": [
        "actual_edge_scores = []\n",
        "new_edge_scores = []\n",
        "for ed in edges:\n",
        "  actual_edge_scores.append(AA_score(g_train,ed[0],ed[1]))\n",
        "for ed in selected_new_edges:\n",
        "  new_edge_scores.append(AA_score(g_train,ed[0],ed[1]))\n",
        "  \n",
        "preds_all = actual_edge_scores + new_edge_scores  \n",
        "roc_score = roc_auc_score(labels_all, preds_all)\n",
        "ap_score = average_precision_score(labels_all, preds_all)"
      ],
      "execution_count": 0,
      "outputs": []
    },
    {
      "cell_type": "code",
      "metadata": {
        "id": "sOAmfM33ssdk",
        "colab_type": "code",
        "outputId": "27859b7b-9771-4421-804d-e19b8dadd8ad",
        "colab": {
          "base_uri": "https://localhost:8080/",
          "height": 69
        }
      },
      "source": [
        "print(\"Adamic adar model\")\n",
        "print('Test ROC score: ', str(roc_score))\n",
        "print('Test AP score: ', str(ap_score))"
      ],
      "execution_count": 0,
      "outputs": [
        {
          "output_type": "stream",
          "text": [
            "Adamic adar model\n",
            "Test ROC score:  0.9582366119978797\n",
            "Test AP score:  0.9579478837906896\n"
          ],
          "name": "stdout"
        }
      ]
    },
    {
      "cell_type": "code",
      "metadata": {
        "id": "PUejoDKmsvJ3",
        "colab_type": "code",
        "colab": {}
      },
      "source": [
        "actual_edge_scores = []\n",
        "new_edge_scores = []\n",
        "for ed in edges:\n",
        "  actual_edge_scores.append(CN_score(g_train,ed[0],ed[1]))\n",
        "for ed in selected_new_edges:\n",
        "  new_edge_scores.append(CN_score(g_train,ed[0],ed[1]))\n",
        "  \n",
        "preds_all = actual_edge_scores + new_edge_scores  \n",
        "roc_score = roc_auc_score(labels_all, preds_all)\n",
        "ap_score = average_precision_score(labels_all, preds_all)"
      ],
      "execution_count": 0,
      "outputs": []
    },
    {
      "cell_type": "code",
      "metadata": {
        "id": "9rtejEoKsxJ8",
        "colab_type": "code",
        "outputId": "66901d4f-aa5a-44f7-a41b-8d10bdf97d1d",
        "colab": {
          "base_uri": "https://localhost:8080/",
          "height": 69
        }
      },
      "source": [
        "print(\"Common Neighbors model\")\n",
        "print('Test ROC score: ', str(roc_score))\n",
        "print('Test AP score: ', str(ap_score))"
      ],
      "execution_count": 0,
      "outputs": [
        {
          "output_type": "stream",
          "text": [
            "Common Neighbors model\n",
            "Test ROC score:  0.9565612250468415\n",
            "Test AP score:  0.953688523695042\n"
          ],
          "name": "stdout"
        }
      ]
    },
    {
      "cell_type": "code",
      "metadata": {
        "id": "gyz2IA3VsyC9",
        "colab_type": "code",
        "colab": {}
      },
      "source": [
        "actual_edge_scores = []\n",
        "new_edge_scores = []\n",
        "for ed in edges:\n",
        "  actual_edge_scores.append(RA_score(g_train,ed[0],ed[1]))\n",
        "for ed in selected_new_edges:\n",
        "  new_edge_scores.append(RA_score(g_train,ed[0],ed[1]))\n",
        "  \n",
        "preds_all = actual_edge_scores + new_edge_scores  \n",
        "roc_score = roc_auc_score(labels_all, preds_all)\n",
        "ap_score = average_precision_score(labels_all, preds_all)"
      ],
      "execution_count": 0,
      "outputs": []
    },
    {
      "cell_type": "code",
      "metadata": {
        "id": "O4Tc-mcGs1PN",
        "colab_type": "code",
        "outputId": "02374daa-13e9-49d2-bf6e-7622ceb144bf",
        "colab": {
          "base_uri": "https://localhost:8080/",
          "height": 69
        }
      },
      "source": [
        "print(\"Resource Allocation model\")\n",
        "print('Test ROC score: ', str(roc_score))\n",
        "print('Test AP score: ', str(ap_score))"
      ],
      "execution_count": 0,
      "outputs": [
        {
          "output_type": "stream",
          "text": [
            "Resource Allocation model\n",
            "Test ROC score:  0.9456238803919146\n",
            "Test AP score:  0.9495381807578173\n"
          ],
          "name": "stdout"
        }
      ]
    },
    {
      "cell_type": "code",
      "metadata": {
        "id": "C7xGJpebs2Lf",
        "colab_type": "code",
        "colab": {}
      },
      "source": [
        "actual_edge_scores = []\n",
        "new_edge_scores = []\n",
        "for ed in edges:\n",
        "  actual_edge_scores.append(JC_score(g_train,ed[0],ed[1]))\n",
        "for ed in selected_new_edges:\n",
        "  new_edge_scores.append(JC_score(g_train,ed[0],ed[1]))\n",
        "  \n",
        "preds_all = actual_edge_scores + new_edge_scores  \n",
        "roc_score = roc_auc_score(labels_all, preds_all)\n",
        "ap_score = average_precision_score(labels_all, preds_all)"
      ],
      "execution_count": 0,
      "outputs": []
    },
    {
      "cell_type": "code",
      "metadata": {
        "id": "PYR3UgD1s5fd",
        "colab_type": "code",
        "outputId": "802291f4-1cc2-4a8b-9473-02e68c480352",
        "colab": {
          "base_uri": "https://localhost:8080/",
          "height": 69
        }
      },
      "source": [
        "print(\"Jaccard Coef model\")\n",
        "print('Test ROC score: ', str(roc_score))\n",
        "print('Test AP score: ', str(ap_score))"
      ],
      "execution_count": 0,
      "outputs": [
        {
          "output_type": "stream",
          "text": [
            "Jaccard Coef model\n",
            "Test ROC score:  0.874270467843672\n",
            "Test AP score:  0.8753410760664072\n"
          ],
          "name": "stdout"
        }
      ]
    },
    {
      "cell_type": "code",
      "metadata": {
        "id": "wG0-0FwVwOlB",
        "colab_type": "code",
        "colab": {}
      },
      "source": [
        "rpr_mat = rpr_matrix(g_train)"
      ],
      "execution_count": 0,
      "outputs": []
    },
    {
      "cell_type": "code",
      "metadata": {
        "id": "ZaLAkWUuwRB0",
        "colab_type": "code",
        "colab": {}
      },
      "source": [
        "rp_dict = rpr_dict(g_train)"
      ],
      "execution_count": 0,
      "outputs": []
    },
    {
      "cell_type": "code",
      "metadata": {
        "id": "GG4QXpAqwRob",
        "colab_type": "code",
        "colab": {}
      },
      "source": [
        "def rp_score(u,v):\n",
        "#   print(u,v)\n",
        "  u = nodes.index(u)\n",
        "  v = nodes.index(v)\n",
        "  # print(u,v)\n",
        "  mi = min(rpr_mat[u,v],rpr_mat[v,u])\n",
        "  ma = max(rpr_mat[u,v],rpr_mat[v,u])\n",
        "  # return mi*mi\n",
        "  # return (mi+ma*2)\n",
        "  return mi\n",
        "  # return min(rp_dict[(u,v)] , rp_dict[(v,u)])"
      ],
      "execution_count": 0,
      "outputs": []
    },
    {
      "cell_type": "code",
      "metadata": {
        "id": "j5JpUSxiwghD",
        "colab_type": "code",
        "colab": {}
      },
      "source": [
        "actual_edge_scores = []\n",
        "new_edge_scores = []\n",
        "for ed in edges:\n",
        "  actual_edge_scores.append(rp_score(ed[0],ed[1]))\n",
        "for ed in selected_new_edges:\n",
        "  new_edge_scores.append(rp_score(ed[0],ed[1]))\n",
        "  \n",
        "preds_all = actual_edge_scores + new_edge_scores \n",
        "su = sum(preds_all) \n",
        "norm = [float(i)/su for i in preds_all]\n",
        "roc_score = roc_auc_score(labels_all, norm)\n",
        "ap_score = average_precision_score(labels_all, norm)"
      ],
      "execution_count": 0,
      "outputs": []
    },
    {
      "cell_type": "code",
      "metadata": {
        "id": "oC9S8OtJwosn",
        "colab_type": "code",
        "outputId": "dc141a90-a6e0-4174-cddd-8a75fe8496c6",
        "colab": {
          "base_uri": "https://localhost:8080/",
          "height": 69
        }
      },
      "source": [
        "print(\"Rooted Pagerank model\")\n",
        "print('Test ROC score: ', str(roc_score))\n",
        "print('Test AP score: ', str(ap_score))"
      ],
      "execution_count": 0,
      "outputs": [
        {
          "output_type": "stream",
          "text": [
            "Rooted Pagerank model\n",
            "Test ROC score:  0.07068108283686993\n",
            "Test AP score:  0.3145659049069807\n"
          ],
          "name": "stdout"
        }
      ]
    },
    {
      "cell_type": "code",
      "metadata": {
        "id": "Ha5cxo9K6jnQ",
        "colab_type": "code",
        "colab": {}
      },
      "source": [
        "def katz_score(graph,beta=0.004):\n",
        "    # non_edges = nx.non_edges(graph)\n",
        "    A = nx.to_numpy_matrix(graph)\n",
        "    # print(A)\n",
        "    # w, v = np.linalg.eigh(A)\n",
        "    # lambda1 = max([abs(x) for x in w])   # beta should be less than 1/lambda1\n",
        "    # # print(1/lambda1)\n",
        "    # if beta >= 1/lambda1 :\n",
        "    #     raise ValueError('beta should be less than 1/lambda, lambda being the eigenvalue with largest magnitude')\n",
        "    I = np.eye(A.shape[0])\n",
        "    S = np.linalg.inv(I - beta * A) - I\n",
        "    return S"
      ],
      "execution_count": 0,
      "outputs": []
    },
    {
      "cell_type": "code",
      "metadata": {
        "id": "i8dMEnw_6Rd8",
        "colab_type": "code",
        "colab": {}
      },
      "source": [
        "katz_values = katz_score(g_train,beta=0.001)"
      ],
      "execution_count": 0,
      "outputs": []
    },
    {
      "cell_type": "code",
      "metadata": {
        "id": "lJoM5VaNwwab",
        "colab_type": "code",
        "colab": {}
      },
      "source": [
        "def Katz_score(u,v):\n",
        "  u = nodes.index(u)\n",
        "  v = nodes.index(v)\n",
        "  return katz_values[u,v] + katz_values[v,u]"
      ],
      "execution_count": 0,
      "outputs": []
    },
    {
      "cell_type": "code",
      "metadata": {
        "id": "Gb1vE69GwzI9",
        "colab_type": "code",
        "colab": {}
      },
      "source": [
        "actual_edge_scores = []\n",
        "new_edge_scores = []\n",
        "for ed in edges:\n",
        "  actual_edge_scores.append(Katz_score(ed[0],ed[1]))\n",
        "for ed in selected_new_edges:\n",
        "  new_edge_scores.append(Katz_score(ed[0],ed[1]))\n",
        "  \n",
        "preds_all = actual_edge_scores + new_edge_scores  \n",
        "roc_score = roc_auc_score(labels_all, preds_all)\n",
        "ap_score = average_precision_score(labels_all, preds_all)"
      ],
      "execution_count": 0,
      "outputs": []
    },
    {
      "cell_type": "code",
      "metadata": {
        "id": "lx3NleB-w2C5",
        "colab_type": "code",
        "outputId": "eca4cb93-ab10-40a0-e4ef-11c94c066bc6",
        "colab": {
          "base_uri": "https://localhost:8080/",
          "height": 69
        }
      },
      "source": [
        "print(\"Katz model\")\n",
        "print('Test ROC score: ', str(roc_score))\n",
        "print('Test AP score: ', str(ap_score))"
      ],
      "execution_count": 0,
      "outputs": [
        {
          "output_type": "stream",
          "text": [
            "Katz model\n",
            "Test ROC score:  0.9573414367643536\n",
            "Test AP score:  0.9566438716965094\n"
          ],
          "name": "stdout"
        }
      ]
    }
  ]
}