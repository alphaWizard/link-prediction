{
  "nbformat": 4,
  "nbformat_minor": 0,
  "metadata": {
    "colab": {
      "name": "link_deletion_1.ipynb",
      "provenance": [],
      "collapsed_sections": []
    },
    "kernelspec": {
      "name": "python3",
      "display_name": "Python 3"
    }
  },
  "cells": [
    {
      "cell_type": "code",
      "metadata": {
        "id": "_RAdQO4h4TR7",
        "colab_type": "code",
        "colab": {}
      },
      "source": [
        "import networkx as nx\n",
        "import matplotlib.pyplot as plt\n",
        "import pandas as pd\n",
        "import scipy.sparse as sp\n",
        "import numpy as np\n",
        "from sklearn.metrics import roc_auc_score\n",
        "from sklearn.metrics import average_precision_score\n",
        "import random"
      ],
      "execution_count": 0,
      "outputs": []
    },
    {
      "cell_type": "code",
      "metadata": {
        "id": "qXk_7zDM4cgD",
        "colab_type": "code",
        "colab": {}
      },
      "source": [
        "def load_restaurant_dataset():\n",
        "    path = 'dataset_ubicomp2013_checkins.txt'\n",
        "#     lines = (line.decode('utf-8') for line in path)\n",
        "    infile = open(path, 'r')\n",
        "    a = set()\n",
        "    b = set()\n",
        "    edges = []\n",
        "    for line in infile:\n",
        "        s=line.strip().split(None)\n",
        "        u=-1*int(s.pop(0)) -10\n",
        "        v=int(s.pop(0))\n",
        "        a.add(u)\n",
        "        b.add(v)\n",
        "        edges.append((u,v))\n",
        "    top_nodes = {}\n",
        "    bottom_nodes = {}\n",
        "    count = 0 \n",
        "    for x in a:\n",
        "        top_nodes[x] = count\n",
        "        count = count + 1\n",
        "    count  = 0    \n",
        "    for y in b:\n",
        "        bottom_nodes[y] = count\n",
        "        count  = count + 1\n",
        "    \n",
        "    A = np.zeros((len(a),len(b)))\n",
        "    for edge in edges:\n",
        "        e1 = top_nodes[edge[0]]\n",
        "        e2 = bottom_nodes[edge[1]]\n",
        "        A[e1, e2] = 1\n",
        "    \n",
        "    A = np.dot(A,A.T)\n",
        "#     print(A[:35,:35])\n",
        "    for i in range(0,A.shape[0]):  #making numpy matrix undirected graph type\n",
        "        for j in range(0,A.shape[1]):\n",
        "            if i == j :\n",
        "                A[i,j] = 0\n",
        "            else:\n",
        "                if A[i,j] > 0:\n",
        "                    A[i,j] = 1\n",
        "                    \n",
        "    G=nx.from_numpy_matrix(A)\n",
        "    return G"
      ],
      "execution_count": 0,
      "outputs": []
    },
    {
      "cell_type": "code",
      "metadata": {
        "id": "xjTYBrWF4eHe",
        "colab_type": "code",
        "colab": {}
      },
      "source": [
        "graph = load_restaurant_dataset()"
      ],
      "execution_count": 0,
      "outputs": []
    },
    {
      "cell_type": "code",
      "metadata": {
        "id": "ShcS7FAG4gGi",
        "colab_type": "code",
        "outputId": "2a848241-d2e2-4689-e122-9c1aed97ec67",
        "colab": {
          "base_uri": "https://localhost:8080/",
          "height": 34
        }
      },
      "source": [
        "nx.info(graph)"
      ],
      "execution_count": 0,
      "outputs": [
        {
          "output_type": "execute_result",
          "data": {
            "text/plain": [
              "'Name: \\nType: Graph\\nNumber of nodes: 2060\\nNumber of edges: 58810\\nAverage degree:  57.0971'"
            ]
          },
          "metadata": {
            "tags": []
          },
          "execution_count": 4
        }
      ]
    },
    {
      "cell_type": "code",
      "metadata": {
        "id": "KgVxQoZm4jXg",
        "colab_type": "code",
        "colab": {}
      },
      "source": [
        "from similarities import *\n",
        "from preprocessing import mask_test_edges"
      ],
      "execution_count": 0,
      "outputs": []
    },
    {
      "cell_type": "code",
      "metadata": {
        "id": "kDAv2Ykv4j3u",
        "colab_type": "code",
        "colab": {}
      },
      "source": [
        "np.random.seed(0)\n",
        "adj_sparse = nx.to_scipy_sparse_matrix(graph)"
      ],
      "execution_count": 0,
      "outputs": []
    },
    {
      "cell_type": "code",
      "metadata": {
        "id": "57e0bi264l2X",
        "colab_type": "code",
        "colab": {}
      },
      "source": [
        "edges = list(nx.edges(graph))"
      ],
      "execution_count": 0,
      "outputs": []
    },
    {
      "cell_type": "code",
      "metadata": {
        "id": "Gxjv7-4u5H4c",
        "colab_type": "code",
        "outputId": "620f8978-554c-4306-9189-d880d9ed776e",
        "colab": {
          "base_uri": "https://localhost:8080/",
          "height": 34
        }
      },
      "source": [
        "len(edges)"
      ],
      "execution_count": 0,
      "outputs": [
        {
          "output_type": "execute_result",
          "data": {
            "text/plain": [
              "58810"
            ]
          },
          "metadata": {
            "tags": []
          },
          "execution_count": 8
        }
      ]
    },
    {
      "cell_type": "code",
      "metadata": {
        "id": "TA8ADzs25JyI",
        "colab_type": "code",
        "colab": {}
      },
      "source": [
        "non_edges = list(nx.non_edges(graph))"
      ],
      "execution_count": 0,
      "outputs": []
    },
    {
      "cell_type": "code",
      "metadata": {
        "id": "iVg4Gxth5QV4",
        "colab_type": "code",
        "outputId": "c7a035b9-8e88-44cd-d753-5358eb765aa2",
        "colab": {
          "base_uri": "https://localhost:8080/",
          "height": 34
        }
      },
      "source": [
        "len(non_edges)"
      ],
      "execution_count": 0,
      "outputs": [
        {
          "output_type": "execute_result",
          "data": {
            "text/plain": [
              "2061960"
            ]
          },
          "metadata": {
            "tags": []
          },
          "execution_count": 10
        }
      ]
    },
    {
      "cell_type": "code",
      "metadata": {
        "id": "e1yeJcJE5SX2",
        "colab_type": "code",
        "colab": {}
      },
      "source": [
        "selected_new_edges = random.sample(non_edges,58810)"
      ],
      "execution_count": 0,
      "outputs": []
    },
    {
      "cell_type": "code",
      "metadata": {
        "id": "tvTOst7t6E1N",
        "colab_type": "code",
        "outputId": "d2b3606d-615c-4520-f74f-9a7b1068746b",
        "colab": {
          "base_uri": "https://localhost:8080/",
          "height": 34
        }
      },
      "source": [
        "len(selected_new_edges)"
      ],
      "execution_count": 0,
      "outputs": [
        {
          "output_type": "execute_result",
          "data": {
            "text/plain": [
              "58810"
            ]
          },
          "metadata": {
            "tags": []
          },
          "execution_count": 15
        }
      ]
    },
    {
      "cell_type": "code",
      "metadata": {
        "id": "5O2VToNY6MCp",
        "colab_type": "code",
        "outputId": "33638a87-b3e1-4ff4-b8d8-071ccb7a4736",
        "colab": {
          "base_uri": "https://localhost:8080/",
          "height": 34
        }
      },
      "source": [
        "g_train = nx.Graph()\n",
        "g_train.add_edges_from(graph.edges)\n",
        "g_train.add_edges_from(selected_new_edges)\n",
        "nx.info(g_train)"
      ],
      "execution_count": 0,
      "outputs": [
        {
          "output_type": "execute_result",
          "data": {
            "text/plain": [
              "'Name: \\nType: Graph\\nNumber of nodes: 2060\\nNumber of edges: 117620\\nAverage degree: 114.1942'"
            ]
          },
          "metadata": {
            "tags": []
          },
          "execution_count": 18
        }
      ]
    },
    {
      "cell_type": "code",
      "metadata": {
        "id": "JzHUVTeFBmM7",
        "colab_type": "code",
        "colab": {}
      },
      "source": [
        "nodes = list(g_train.nodes())"
      ],
      "execution_count": 0,
      "outputs": []
    },
    {
      "cell_type": "code",
      "metadata": {
        "id": "_ix9f9oXBrCV",
        "colab_type": "code",
        "outputId": "366d2624-b578-4864-bae1-d9c12a8dce3b",
        "colab": {
          "base_uri": "https://localhost:8080/",
          "height": 34
        }
      },
      "source": [
        "len(nodes)"
      ],
      "execution_count": 0,
      "outputs": [
        {
          "output_type": "execute_result",
          "data": {
            "text/plain": [
              "2060"
            ]
          },
          "metadata": {
            "tags": []
          },
          "execution_count": 47
        }
      ]
    },
    {
      "cell_type": "code",
      "metadata": {
        "id": "UuWF_t-O8wwD",
        "colab_type": "code",
        "colab": {}
      },
      "source": [
        "labels_all = [1]*58810 + [0]*58810"
      ],
      "execution_count": 0,
      "outputs": []
    },
    {
      "cell_type": "code",
      "metadata": {
        "id": "JsDXt3Ai7LoQ",
        "colab_type": "code",
        "colab": {}
      },
      "source": [
        "actual_edge_scores = []\n",
        "new_edge_scores = []\n",
        "for ed in edges:\n",
        "  actual_edge_scores.append(PA_score(g_train,ed[0],ed[1]))\n",
        "for ed in selected_new_edges:\n",
        "  new_edge_scores.append(PA_score(g_train,ed[0],ed[1]))\n",
        "  \n",
        "preds_all = actual_edge_scores + new_edge_scores  \n",
        "roc_score = roc_auc_score(labels_all, preds_all)\n",
        "ap_score = average_precision_score(labels_all, preds_all)\n",
        "  "
      ],
      "execution_count": 0,
      "outputs": []
    },
    {
      "cell_type": "code",
      "metadata": {
        "id": "yfPQIraU9KUv",
        "colab_type": "code",
        "outputId": "48ff9633-7b40-4618-94b6-0dba4df2522b",
        "colab": {
          "base_uri": "https://localhost:8080/",
          "height": 69
        }
      },
      "source": [
        "print(\"Preferential attachment model\")\n",
        "print('Test ROC score: ', str(roc_score))\n",
        "print('Test AP score: ', str(ap_score))"
      ],
      "execution_count": 0,
      "outputs": [
        {
          "output_type": "stream",
          "text": [
            "Preferential attachment model\n",
            "Test ROC score:  0.8280088426119336\n",
            "Test AP score:  0.8240212735188608\n"
          ],
          "name": "stdout"
        }
      ]
    },
    {
      "cell_type": "code",
      "metadata": {
        "id": "B8b1hgpi9sGC",
        "colab_type": "code",
        "colab": {}
      },
      "source": [
        "actual_edge_scores = []\n",
        "new_edge_scores = []\n",
        "for ed in edges:\n",
        "  actual_edge_scores.append(AA_score(g_train,ed[0],ed[1]))\n",
        "for ed in selected_new_edges:\n",
        "  new_edge_scores.append(AA_score(g_train,ed[0],ed[1]))\n",
        "  \n",
        "preds_all = actual_edge_scores + new_edge_scores  \n",
        "roc_score = roc_auc_score(labels_all, preds_all)\n",
        "ap_score = average_precision_score(labels_all, preds_all)"
      ],
      "execution_count": 0,
      "outputs": []
    },
    {
      "cell_type": "code",
      "metadata": {
        "id": "Xk_Xejo8-MPN",
        "colab_type": "code",
        "outputId": "b1e36ca9-3a30-41c7-fbe9-0266aba043d6",
        "colab": {
          "base_uri": "https://localhost:8080/",
          "height": 69
        }
      },
      "source": [
        "print(\"Adamic adar model\")\n",
        "print('Test ROC score: ', str(roc_score))\n",
        "print('Test AP score: ', str(ap_score))"
      ],
      "execution_count": 0,
      "outputs": [
        {
          "output_type": "stream",
          "text": [
            "Adamic adar model\n",
            "Test ROC score:  0.9472728300200767\n",
            "Test AP score:  0.9486010195908283\n"
          ],
          "name": "stdout"
        }
      ]
    },
    {
      "cell_type": "code",
      "metadata": {
        "id": "R6Ig7biN-TSr",
        "colab_type": "code",
        "colab": {}
      },
      "source": [
        "actual_edge_scores = []\n",
        "new_edge_scores = []\n",
        "for ed in edges:\n",
        "  actual_edge_scores.append(CN_score(g_train,ed[0],ed[1]))\n",
        "for ed in selected_new_edges:\n",
        "  new_edge_scores.append(CN_score(g_train,ed[0],ed[1]))\n",
        "  \n",
        "preds_all = actual_edge_scores + new_edge_scores  \n",
        "roc_score = roc_auc_score(labels_all, preds_all)\n",
        "ap_score = average_precision_score(labels_all, preds_all)"
      ],
      "execution_count": 0,
      "outputs": []
    },
    {
      "cell_type": "code",
      "metadata": {
        "id": "zw5HgrwO-6dc",
        "colab_type": "code",
        "outputId": "fb23248c-17c9-4f19-d23a-6c2ca241629b",
        "colab": {
          "base_uri": "https://localhost:8080/",
          "height": 69
        }
      },
      "source": [
        "print(\"Common Neighbors model\")\n",
        "print('Test ROC score: ', str(roc_score))\n",
        "print('Test AP score: ', str(ap_score))"
      ],
      "execution_count": 0,
      "outputs": [
        {
          "output_type": "stream",
          "text": [
            "Common Neighbors model\n",
            "Test ROC score:  0.9448759703339148\n",
            "Test AP score:  0.943188841927863\n"
          ],
          "name": "stdout"
        }
      ]
    },
    {
      "cell_type": "code",
      "metadata": {
        "id": "6hSeqHq6--kW",
        "colab_type": "code",
        "colab": {}
      },
      "source": [
        "actual_edge_scores = []\n",
        "new_edge_scores = []\n",
        "for ed in edges:\n",
        "  actual_edge_scores.append(RA_score(g_train,ed[0],ed[1]))\n",
        "for ed in selected_new_edges:\n",
        "  new_edge_scores.append(RA_score(g_train,ed[0],ed[1]))\n",
        "  \n",
        "preds_all = actual_edge_scores + new_edge_scores  \n",
        "roc_score = roc_auc_score(labels_all, preds_all)\n",
        "ap_score = average_precision_score(labels_all, preds_all)"
      ],
      "execution_count": 0,
      "outputs": []
    },
    {
      "cell_type": "code",
      "metadata": {
        "id": "Fc_ykQUc_GKY",
        "colab_type": "code",
        "outputId": "0c977cef-bfaf-4c39-918d-8cea0cd84b0b",
        "colab": {
          "base_uri": "https://localhost:8080/",
          "height": 69
        }
      },
      "source": [
        "print(\"Resource Allocation model\")\n",
        "print('Test ROC score: ', str(roc_score))\n",
        "print('Test AP score: ', str(ap_score))"
      ],
      "execution_count": 0,
      "outputs": [
        {
          "output_type": "stream",
          "text": [
            "Resource Allocation model\n",
            "Test ROC score:  0.9525555260382903\n",
            "Test AP score:  0.9548965675307882\n"
          ],
          "name": "stdout"
        }
      ]
    },
    {
      "cell_type": "code",
      "metadata": {
        "id": "LAU4NQqy_JuL",
        "colab_type": "code",
        "colab": {}
      },
      "source": [
        "actual_edge_scores = []\n",
        "new_edge_scores = []\n",
        "for ed in edges:\n",
        "  actual_edge_scores.append(JC_score(g_train,ed[0],ed[1]))\n",
        "for ed in selected_new_edges:\n",
        "  new_edge_scores.append(JC_score(g_train,ed[0],ed[1]))\n",
        "  \n",
        "preds_all = actual_edge_scores + new_edge_scores  \n",
        "roc_score = roc_auc_score(labels_all, preds_all)\n",
        "ap_score = average_precision_score(labels_all, preds_all)"
      ],
      "execution_count": 0,
      "outputs": []
    },
    {
      "cell_type": "code",
      "metadata": {
        "id": "-U1lu55X_QIW",
        "colab_type": "code",
        "outputId": "4c5e6449-4b4f-47b1-c7a2-1b3b385d81e1",
        "colab": {
          "base_uri": "https://localhost:8080/",
          "height": 69
        }
      },
      "source": [
        "print(\"Jaccard Coef model\")\n",
        "print('Test ROC score: ', str(roc_score))\n",
        "print('Test AP score: ', str(ap_score))"
      ],
      "execution_count": 0,
      "outputs": [
        {
          "output_type": "stream",
          "text": [
            "Jaccard Coef model\n",
            "Test ROC score:  0.9612010597244371\n",
            "Test AP score:  0.9660288187732504\n"
          ],
          "name": "stdout"
        }
      ]
    },
    {
      "cell_type": "code",
      "metadata": {
        "id": "bVq2mbAeGxUT",
        "colab_type": "code",
        "outputId": "daeed03f-06e5-4c87-99d7-cbbc79cd2e08",
        "colab": {
          "base_uri": "https://localhost:8080/",
          "height": 34
        }
      },
      "source": [
        "print(list(g_train.nodes())[:10])"
      ],
      "execution_count": 0,
      "outputs": [
        {
          "output_type": "stream",
          "text": [
            "[0, 21, 83, 89, 110, 125, 170, 171, 176, 181]\n"
          ],
          "name": "stdout"
        }
      ]
    },
    {
      "cell_type": "code",
      "metadata": {
        "id": "6FMX5jREDAnN",
        "colab_type": "code",
        "outputId": "ddfa9dc2-ca15-44ac-938b-d806e1583554",
        "colab": {
          "base_uri": "https://localhost:8080/",
          "height": 34
        }
      },
      "source": [
        "print(nodes[:10])"
      ],
      "execution_count": 0,
      "outputs": [
        {
          "output_type": "stream",
          "text": [
            "[0, 21, 83, 89, 110, 125, 170, 171, 176, 181]\n"
          ],
          "name": "stdout"
        }
      ]
    },
    {
      "cell_type": "code",
      "metadata": {
        "id": "iF7OMt7ZBLhr",
        "colab_type": "code",
        "colab": {}
      },
      "source": [
        "rpr_mat = rpr_matrix(g_train)"
      ],
      "execution_count": 0,
      "outputs": []
    },
    {
      "cell_type": "code",
      "metadata": {
        "id": "zSTF-jlRBPTh",
        "colab_type": "code",
        "colab": {}
      },
      "source": [
        "def rp_score(u,v):\n",
        "# #   print(u,v)\n",
        "#   u = nodes.index(u)\n",
        "#   v = nodes.index(v)\n",
        "#   print(u,v)\n",
        "#   return min(rpr_mat[u,v],rpr_mat[v,u])\n",
        "  return min(rp_dict[(u,v)] , rp_dict[(v,u)])"
      ],
      "execution_count": 0,
      "outputs": []
    },
    {
      "cell_type": "code",
      "metadata": {
        "id": "_hm8-zN0KC6d",
        "colab_type": "code",
        "colab": {}
      },
      "source": [
        "rp_dict = rpr_dict(g_train)"
      ],
      "execution_count": 0,
      "outputs": []
    },
    {
      "cell_type": "code",
      "metadata": {
        "id": "EfE1CgfTKJZ9",
        "colab_type": "code",
        "colab": {}
      },
      "source": [
        ""
      ],
      "execution_count": 0,
      "outputs": []
    },
    {
      "cell_type": "code",
      "metadata": {
        "id": "RXfD_J73_S2k",
        "colab_type": "code",
        "colab": {}
      },
      "source": [
        "actual_edge_scores = []\n",
        "new_edge_scores = []\n",
        "for ed in edges:\n",
        "  actual_edge_scores.append(rp_score(ed[0],ed[1]))\n",
        "for ed in selected_new_edges:\n",
        "  new_edge_scores.append(rp_score(ed[0],ed[1]))\n",
        "  \n",
        "preds_all = actual_edge_scores + new_edge_scores  \n",
        "roc_score = roc_auc_score(labels_all, preds_all)\n",
        "ap_score = average_precision_score(labels_all, preds_all)"
      ],
      "execution_count": 0,
      "outputs": []
    },
    {
      "cell_type": "code",
      "metadata": {
        "id": "cG76M-MCCFqk",
        "colab_type": "code",
        "outputId": "925aaff0-5d73-4e44-88ad-4ec32d450d6c",
        "colab": {
          "base_uri": "https://localhost:8080/",
          "height": 72
        }
      },
      "source": [
        "print(actual_edge_scores[:5])\n",
        "print(new_edge_scores[:5])"
      ],
      "execution_count": 0,
      "outputs": [
        {
          "output_type": "stream",
          "text": [
            "[0.0008071896094874578, 0.0014050735258175043, 0.0011478110168308313, 0.0009537025168378985, 0.0013288288786438185]\n",
            "[0.0013411172809520697, 0.001088333938241924, 0.0013407539418909974, 0.0010487556364400716, 0.0016769431924553992]\n"
          ],
          "name": "stdout"
        }
      ]
    },
    {
      "cell_type": "code",
      "metadata": {
        "id": "M2aEJG_F_ZYr",
        "colab_type": "code",
        "outputId": "b59e894f-89cf-49cd-8f1a-6f638b037bbf",
        "colab": {
          "base_uri": "https://localhost:8080/",
          "height": 69
        }
      },
      "source": [
        "print(\"Rooted Pagerank model\")\n",
        "print('Test ROC score: ', str(roc_score))\n",
        "print('Test AP score: ', str(ap_score))"
      ],
      "execution_count": 0,
      "outputs": [
        {
          "output_type": "stream",
          "text": [
            "Rooted Pagerank model\n",
            "Test ROC score:  0.3835188733435897\n",
            "Test AP score:  0.40488883838602463\n"
          ],
          "name": "stdout"
        }
      ]
    },
    {
      "cell_type": "code",
      "metadata": {
        "id": "1qMhgVFNMAR9",
        "colab_type": "code",
        "colab": {}
      },
      "source": [
        "def katz_score(graph,beta=0.004):\n",
        "    # non_edges = nx.non_edges(graph)\n",
        "    A = nx.to_numpy_matrix(graph)\n",
        "    # print(A)\n",
        "    w, v = np.linalg.eigh(A)\n",
        "    lambda1 = max([abs(x) for x in w])   # beta should be less than 1/lambda1\n",
        "    # print(1/lambda1)\n",
        "    if beta >= 1/lambda1 :\n",
        "        raise ValueError('beta should be less than 1/lambda, lambda being the eigenvalue with largest magnitude')\n",
        "    I = np.eye(A.shape[0])\n",
        "    S = np.linalg.inv(I - beta * A) - I\n",
        "    return S"
      ],
      "execution_count": 0,
      "outputs": []
    },
    {
      "cell_type": "code",
      "metadata": {
        "id": "36qFEy6JADCm",
        "colab_type": "code",
        "colab": {}
      },
      "source": [
        "katz_values = katz_score(g_train)"
      ],
      "execution_count": 0,
      "outputs": []
    },
    {
      "cell_type": "code",
      "metadata": {
        "id": "D9Lh6oItAKRG",
        "colab_type": "code",
        "colab": {}
      },
      "source": [
        "def Katz_score(u,v):\n",
        "  u = nodes.index(u)\n",
        "  v = nodes.index(v)\n",
        "  return katz_values[u,v] + katz_values[v,u]"
      ],
      "execution_count": 0,
      "outputs": []
    },
    {
      "cell_type": "code",
      "metadata": {
        "id": "u9c-SVGS_c7m",
        "colab_type": "code",
        "colab": {}
      },
      "source": [
        "actual_edge_scores = []\n",
        "new_edge_scores = []\n",
        "for ed in edges:\n",
        "  actual_edge_scores.append(Katz_score(ed[0],ed[1]))\n",
        "for ed in selected_new_edges:\n",
        "  new_edge_scores.append(Katz_score(ed[0],ed[1]))\n",
        "  \n",
        "preds_all = actual_edge_scores + new_edge_scores  \n",
        "roc_score = roc_auc_score(labels_all, preds_all)\n",
        "ap_score = average_precision_score(labels_all, preds_all)"
      ],
      "execution_count": 0,
      "outputs": []
    },
    {
      "cell_type": "code",
      "metadata": {
        "id": "DAv4LarFAdr0",
        "colab_type": "code",
        "outputId": "ff1d16e3-6681-404e-abe6-509ca9e84bc3",
        "colab": {
          "base_uri": "https://localhost:8080/",
          "height": 69
        }
      },
      "source": [
        "print(\"Katz model\")\n",
        "print('Test ROC score: ', str(roc_score))\n",
        "print('Test AP score: ', str(ap_score))"
      ],
      "execution_count": 0,
      "outputs": [
        {
          "output_type": "stream",
          "text": [
            "Katz model\n",
            "Test ROC score:  0.9059285388742625\n",
            "Test AP score:  0.9038693091862358\n"
          ],
          "name": "stdout"
        }
      ]
    }
  ]
}